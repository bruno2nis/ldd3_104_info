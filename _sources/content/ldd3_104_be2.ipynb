{
 "cells": [
  {
   "cell_type": "markdown",
   "metadata": {
    "deletable": false,
    "editable": false
   },
   "source": [
    "# BE2 - Fonctions définies par l'utilisateur\n",
    "\n",
    "Objectifs :\n",
    "- structuration d'un code Python : \n",
    "  - module\n",
    "  - fonction\n",
    "    - ne pas se répéter, factoriser, \n",
    "    - [Paramètres de fonction](https://zestedesavoir.com/tutoriels/2514/un-zeste-de-python/5-fonctions/2-fonctions-parametrees/#1-1-parametres), \n",
    "      Espace de non, Arguments positionnels et nommés, Retours de fonctions, Paramètres et types mutables, fermeture et effet de bord, documentation, anoontation de type"
   ]
  },
  {
   "cell_type": "markdown",
   "metadata": {
    "deletable": false,
    "editable": false
   },
   "source": []
  },
  {
   "cell_type": "markdown",
   "metadata": {
    "deletable": false,
    "editable": false
   },
   "source": [
    "% Proposition de solution\n",
    "\n",
    "Le paramètre est une variable définie dans la fonction qui recevra une valeur lors de chaque appel. Cette valeur pourra être de tout type, suivant ce qui est fourni en argument.\n",
    "Les noms des paramètres sont inscrits lors de la définition de la fonction, entre les parenthèses qui suivent son nom.\n",
    "\n",
    "https://zestedesavoir.com/tutoriels/2514/un-zeste-de-python/7-perfectionnement/4-fonctions/\n",
    "\n",
    "https://zestedesavoir.com/tutoriels/2514/un-zeste-de-python/5-fonctions/1-fonctions-factoriser/\n",
    "\n",
    "https://zestedesavoir.com/tutoriels/2514/un-zeste-de-python/7-perfectionnement/4-fonctions/"
   ]
  }
 ],
 "metadata": {
  "kernelspec": {
   "display_name": "Python 3 (ipykernel)",
   "language": "python",
   "name": "python3"
  },
  "language_info": {
   "codemirror_mode": {
    "name": "ipython",
    "version": 3
   },
   "file_extension": ".py",
   "mimetype": "text/x-python",
   "name": "python",
   "nbconvert_exporter": "python",
   "pygments_lexer": "ipython3",
   "version": "3.11.9"
  }
 },
 "nbformat": 4,
 "nbformat_minor": 4
}
