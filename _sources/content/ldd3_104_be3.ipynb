{
 "cells": [
  {
   "cell_type": "markdown",
   "metadata": {
    "deletable": false,
    "editable": false
   },
   "source": [
    "# BE3 - Classes définies par l'utilisateur\n"
   ]
  },
  {
   "cell_type": "markdown",
   "metadata": {
    "deletable": false,
    "editable": false
   },
   "source": [
    "## 1. Classe `Vecteur3D`\n",
    "\n",
    "On se propose d'utiliser les vecteurs dans un espace vectoriel à 3 dimensions comme objet support de la définition d'une classe Python. On fait l'hypothèse que les coordonnées des vecteurs sont exprimées dans une base orthonormée.\n",
    "\n",
    "Les vecteurs possèdes 3 attributs (leurs coordonnées) et pourront est manipulés par des opérations de type produit scalaire, produit vectoriel...\n",
    "\n",
    "La première définition de la classe Vecteur3D se limite à la définition d'une méthode d'instance spéciale  `__init__()`.\n",
    "\n",
    "Les identifiants qui commencent par et finissent par deux tirets bas `__` (*double underscore* en anglais) sont des **identifiants spéciaux**, réservés par l'interpréteur Python. Ils sont parfois nommés les identifiants dunder (Double UNDERscore).\n",
    "\n",
    "Chaque identifiant spécial est utilisé par Python ou une tâche précise. `__init__()` est la méthode d'instance qui est exécutée juste après la création de l'instance. Elle reçoit en 1er argument l'objet appelant et ensuite les arguments fournis à l'instanciation."
   ]
  },
  {
   "cell_type": "code",
   "execution_count": 1,
   "metadata": {
    "deletable": false,
    "editable": false
   },
   "outputs": [],
   "source": [
    "class Vecteur3D:\n",
    "    \"\"\"Version simplifiée d'une classe de vecteur 3D.\"\"\"\n",
    "    \n",
    "    def __init__(self, u, v, w):\n",
    "        \"\"\"Initialisation des coordonnées du vecteur.\"\"\"\n",
    "        self.x = u\n",
    "        self.y = v\n",
    "        self.z = w"
   ]
  },
  {
   "cell_type": "markdown",
   "metadata": {
    "deletable": false,
    "editable": false
   },
   "source": [
    "A l'exécution de l'instruction `Vecteur3D(1, 2 3)`, Python crée un objet que l'on nommera `obj` et il appelle la méthode `__init__()` avec les arguments `obj`, `1`, `2` et `3`.\n",
    "\n",
    "Illustration :"
   ]
  },
  {
   "cell_type": "code",
   "execution_count": 7,
   "metadata": {
    "deletable": false,
    "editable": false
   },
   "outputs": [
    {
     "name": "stdout",
     "output_type": "stream",
     "text": [
      "<class '__main__.Vecteur3D'>\n"
     ]
    }
   ],
   "source": [
    "v1 = Vecteur3D(1, 2, 3)  # Instanciation d'un objet de type Vecteur3D\n",
    "v1.z  # donne 3, accès à un attribut z de l'objet v1 par la notation pointée\n",
    "print(type(v1))  # donne <class '__main__.Vecteur3D'>, le type de v1"
   ]
  },
  {
   "cell_type": "markdown",
   "metadata": {
    "deletable": false,
    "editable": false
   },
   "source": [
    "`x`, `y` et `z` sont trois noms dans l'espace de nom de l'objet `v1`. La notation pointée permet d'accéder aux attributs de l'objet."
   ]
  },
  {
   "cell_type": "code",
   "execution_count": 8,
   "metadata": {
    "deletable": false,
    "editable": false
   },
   "outputs": [
    {
     "name": "stdout",
     "output_type": "stream",
     "text": [
      "1 2 3\n"
     ]
    }
   ],
   "source": [
    "# accès en lecture aux attributs x, y et z de l'objet v1\n",
    "print(v1.x, v1.y, v1.z) # donne 1 2 3"
   ]
  },
  {
   "cell_type": "code",
   "execution_count": 9,
   "metadata": {
    "deletable": false,
    "editable": false
   },
   "outputs": [
    {
     "name": "stdout",
     "output_type": "stream",
     "text": [
      "4 5 6\n"
     ]
    }
   ],
   "source": [
    "# accès en écriture aux attributs x, y et z de l'objet v1\n",
    "v1.x = 4\n",
    "v1.y = 5\n",
    "v1.z = 6\n",
    "print(v1.x, v1.y, v1.z) # donne 4 5 6"
   ]
  },
  {
   "cell_type": "markdown",
   "metadata": {
    "deletable": false,
    "editable": false
   },
   "source": [
    "### 1.1 ⚙️ Exercice - représentation en chaine de caractères `__str__()`\n",
    "\n",
    "Pour afficher un objet quelconque avec la fonction native `print()`, cette dernière fait appel à la méthode spéciale d'instance `__str__()` de l'objet qui renvoie une chaine de caractère faisant une description de l'instance"
   ]
  },
  {
   "cell_type": "code",
   "execution_count": 10,
   "metadata": {
    "deletable": false,
    "editable": false
   },
   "outputs": [
    {
     "name": "stdout",
     "output_type": "stream",
     "text": [
      "<__main__.Vecteur3D object at 0x000001B3CD664C10>\n"
     ]
    }
   ],
   "source": [
    "print(Vecteur3D(1, 2, 3))"
   ]
  },
  {
   "cell_type": "markdown",
   "metadata": {
    "deletable": false,
    "editable": false
   },
   "source": [
    "Par défaut, le texte renvoyé indique le module, la classe et l'emplacement en mémoire de l'objet.\n",
    "\n",
    "Coder une méthode d'instance `__init__()` locale dans la définition de la classe `Vecteur3D` pour obtenir les résultats suivants"
   ]
  },
  {
   "cell_type": "code",
   "execution_count": null,
   "metadata": {
    "deletable": false,
    "editable": false
   },
   "outputs": [],
   "source": [
    "print(Vecteur3D(1, 2, 3))  # donne '<Vecteur3D x=1 y=2 z=3>'\n",
    "print(Vecteur3D(-34, 2., 3e-4))  # donne '<Vecteur3D x=-34 y=2.0 z=0.0003>'\n",
    "print(Vecteur3D(1.23e55, -612.236, 3.67231e-74))  # donne '<Vecteur3D x=1.23e+55 y=-612.236 z=3.67231e-74>'"
   ]
  },
  {
   "cell_type": "code",
   "execution_count": null,
   "metadata": {
    "deletable": false,
    "editable": true,
    "tags": [
     "editable"
    ]
   },
   "outputs": [],
   "source": [
    "class Vecteur3D:\n",
    "    \"\"\"Version simplifiée d'une classe de vecteur 3D.\"\"\"\n",
    "    \n",
    "    def __init__(self, u, v, w):\n",
    "        \"\"\"Initialisation des coordonnées du vecteur.\"\"\"\n",
    "        self.x = u\n",
    "        self.y = v\n",
    "        self.z = w\n",
    "        \n",
    "    # Insérez votre code ici\n",
    "    "
   ]
  },
  {
   "cell_type": "code",
   "execution_count": 48,
   "metadata": {
    "deletable": false,
    "editable": false
   },
   "outputs": [],
   "source": [
    "# test de la méthode __str__()\n",
    "assert str(Vecteur3D(1, 2, 3)) == \"<Vecteur3D x=1 y=2 z=3>\"\n",
    "assert str(Vecteur3D(-34, 2., 3e-4)) == \"<Vecteur3D x=-34 y=2.0 z=0.0003>\"\n",
    "assert str(Vecteur3D(1.23e55, -612.236, 3.67231e-74)) == \"<Vecteur3D x=1.23e+55 y=-612.236 z=3.67231e-74>\""
   ]
  },
  {
   "cell_type": "markdown",
   "metadata": {
    "deletable": false,
    "editable": false
   },
   "source": [
    "### 1.2 ⚙️ Exercice - représentation officielle en chaine de caractères `__repr__()`\n",
    "\n",
    "On s'intéresse désormais à l'affiche d'un `Vecteur3D` à l'intérieur d'un conteneur, ici une liste"
   ]
  },
  {
   "cell_type": "code",
   "execution_count": 50,
   "metadata": {
    "deletable": false,
    "editable": false
   },
   "outputs": [
    {
     "data": {
      "text/plain": [
       "[<__main__.Vecteur3D at 0x1b3cde5a210>,\n",
       " <__main__.Vecteur3D at 0x1b3cde53f50>,\n",
       " <__main__.Vecteur3D at 0x1b3cde50550>]"
      ]
     },
     "execution_count": 50,
     "metadata": {},
     "output_type": "execute_result"
    }
   ],
   "source": [
    "[Vecteur3D(1, 2, 3), Vecteur3D(4, 5, 6), Vecteur3D(7, 8, 9)]"
   ]
  },
  {
   "cell_type": "markdown",
   "metadata": {
    "deletable": false,
    "editable": false
   },
   "source": [
    "Python utilise la représentation dite \"représentation officielle\" à cet effet, celle que l'on obtient avec la fonction native `repr()` qui elle-même fait appel à la méthode spéciale d'instance `__repr__()` de l'objet qui renvoie la chaine de caractère officiel. Il est d'usage que cette chaine soit, si cela est possible, une instruction Python qui renvoie le même objet. \n",
    "\n",
    "Exemple :\n",
    "`repr(Vecteur3D(1, 2, 3))` renvoie `\"Vecteur3D(1, 2, 3)\"`\n",
    "`repr(Vecteur3D(-34, 2., 3e-4))` renvoie `\"Vecteur3D(-34, 2.0, 0.0003>\"`\n",
    "\n",
    "Coder une méthode d'instance `__repr__()` locale dans la définition de la classe `Vecteur3D` pour obtenir les résultats précédents."
   ]
  },
  {
   "cell_type": "code",
   "execution_count": 51,
   "metadata": {
    "deletable": false,
    "editable": true,
    "tags": [
     "editable"
    ]
   },
   "outputs": [],
   "source": [
    "class Vecteur3D:\n",
    "    \"\"\"Version simplifiée d'une classe de vecteur 3D.\"\"\"\n",
    "    \n",
    "    def __init__(self, u, v, w):\n",
    "        \"\"\"Initialisation des coordonnées du vecteur.\"\"\"\n",
    "        self.x = u\n",
    "        self.y = v\n",
    "        self.z = w\n",
    "        \n",
    "    # Insérez votre code ici\n",
    "    "
   ]
  },
  {
   "cell_type": "code",
   "execution_count": 53,
   "metadata": {
    "deletable": false,
    "editable": false
   },
   "outputs": [],
   "source": [
    "# test de la méthode __repr__()\n",
    "\n",
    "v1 = Vecteur3D(1, 2, 3)\n",
    "v2 = Vecteur3D(-34, 2., 3e-4)\n",
    "v3 = Vecteur3D(1.23e55, -612.236, 3.67231e-74)\n",
    "\n",
    "assert v1.x == eval(repr(v1)).x\n",
    "assert v1.y == eval(repr(v1)).y\n",
    "assert v1.z == eval(repr(v1)).z\n",
    "assert v2.x == eval(repr(v2)).x\n",
    "assert v2.y == eval(repr(v2)).y\n",
    "assert v2.z == eval(repr(v2)).z\n",
    "assert v3.x == eval(repr(v3)).x\n",
    "assert v3.y == eval(repr(v3)).y\n",
    "assert v3.z == eval(repr(v3)).z"
   ]
  },
  {
   "cell_type": "markdown",
   "metadata": {
    "deletable": false,
    "editable": false
   },
   "source": [
    "### 1.3 ⚙️ Exercice - addition de deux vecteurs\n",
    "\n",
    "Coder une méthode `somme()` dans la classe `Vecteur3D` qui renvoie un vecteur qui est la somme du vecteur du vecteur qui appelle la méthode et du vecteur passé en argument. Exemple de comportement attendue\n",
    "\n",
    "``` python\n",
    "v1 = Vecteur3D(1, 2, 3)\n",
    "v2 = Vecteur3D(-34, 2., 3e-4)\n",
    "v3 = v1.somme(v2)  # donne un vecteur tel que x=-33 y=4 z=3.0003\n",
    "```"
   ]
  },
  {
   "cell_type": "code",
   "execution_count": null,
   "metadata": {
    "deletable": false,
    "editable": true,
    "tags": [
     "editable"
    ]
   },
   "outputs": [],
   "source": [
    "class Vecteur3D:\n",
    "    \"\"\"Version simplifiée d'une classe de vecteur 3D.\"\"\"\n",
    "    \n",
    "    def __init__(self, u, v, w):\n",
    "        \"\"\"Initialisation des coordonnées du vecteur.\"\"\"\n",
    "        self.x = u\n",
    "        self.y = v\n",
    "        self.z = w\n",
    "        \n",
    "    # Insérez votre code ici\n",
    "    "
   ]
  },
  {
   "cell_type": "markdown",
   "metadata": {
    "deletable": false,
    "editable": false
   },
   "source": []
  },
  {
   "cell_type": "markdown",
   "metadata": {
    "deletable": false,
    "editable": false
   },
   "source": [
    "### 1.4 ⚙️ Exercice - opérateurs algébriques\n",
    "\n",
    "Lorsqu'il évalue les expressions algébriques, l'interpréteur python fait appel à des méthodes spéciales. Par exemple, \n",
    "\n",
    "- Pour évaluer les  arithmétiques binaires `+`, `-`, `*`, `/`\n",
    "    - `x + y` appelle `x.__add__(y)`\n",
    "    - `x - y` appelle `x.__sub__(y)`\n",
    "    - `x * y` appelle `x.__mul__(y)`\n",
    "    - `x / y` appelle `x.__truediv__(y)`\n",
    "- Pour évaluer les assignations arithmétiques augmentées `+=`, `-=`, `*=`, `/=`\n",
    "    - `x += y` appelle `x.__radd__(y)`\n",
    "    - `x -= y` appelle `x.__rsub__(y)`\n",
    "    - `x *= y` appelle `x.__rmul__(y)`\n",
    "    - `x /= y` appelle `x.__rtruediv__(y)`\n",
    "- Pour évaluer les opérateurs arithmétiques unaires `-`, `+`, `abs()`\n",
    "    - `- x` appelle `x.__neg__()`\n",
    "    - `+ x` appelle `x.__pos__()`\n",
    "    - `abs(x)` appelle `x.__abs__()`\n",
    "\n",
    "Coder la méthode `__add__()` pour obtenir le comportement suivant des objects de la classe\n",
    "\n",
    "``` python\n",
    "v1 = Vecteur3D(1, 2, 3)\n",
    "v2 = Vecteur3D(-34, 2., 3e-4)\n",
    "v3 = v1 + v2  # donne un vecteur tel que x=-33 y=4 z=3.0003\n",
    "```"
   ]
  },
  {
   "cell_type": "code",
   "execution_count": null,
   "metadata": {
    "deletable": false,
    "editable": true,
    "tags": [
     "editable"
    ]
   },
   "outputs": [],
   "source": [
    "class Vecteur3D:\n",
    "    \"\"\"Version simplifiée d'une classe de vecteur 3D.\"\"\"\n",
    "    \n",
    "    def __init__(self, u, v, w):\n",
    "        \"\"\"Initialisation des coordonnées du vecteur.\"\"\"\n",
    "        self.x = u\n",
    "        self.y = v\n",
    "        self.z = w\n",
    "        \n",
    "    # Insérez votre code ici\n",
    "    "
   ]
  },
  {
   "cell_type": "code",
   "execution_count": 70,
   "metadata": {
    "deletable": false,
    "editable": false
   },
   "outputs": [],
   "source": [
    "# test de la méthode __add__()\n",
    "test_list = [\n",
    "    [(1, 2, 3), (4, 5, 6)],\n",
    "    [(1, 2, 3), (-1, -2, -3)],\n",
    "    [(-34, 2., 3e-4), (1.23e55, -612.236, 3.67231e-74)],\n",
    "]\n",
    "for u, v in test_list:\n",
    "    v1 = Vecteur3D(*u)\n",
    "    v2 = Vecteur3D(*v)\n",
    "    assert (v1 + v2).x == (u[0] + v[0])\n",
    "    assert (v1 + v2).y == (u[1] + v[1])\n",
    "    assert (v1 + v2).z == (u[2] + v[2])"
   ]
  },
  {
   "cell_type": "markdown",
   "metadata": {
    "deletable": false,
    "editable": false
   },
   "source": [
    "## 2. Classe `Fraction`\n",
    "\n",
    "Objectif est de construire une classe `Fraction` qui modélise les fractions rationnelles. La classe construite doit :\n",
    "- instancier un objet de type fraction en lui passant un numérateur entier et un dénominateur entier. Exemple, la fraction 5/3 s'intancie comme suit `Fraction(5, 3)`\n",
    "- disposer de deux méthodes d'instances `get_numerateur()` et `get_denominateur` qui renvoient respectivement le numérateur et le dénominateur de la fonction, et telles que pour toutes fractions `f = Fraction(x, y)` ou `x` est un entier et `y` un entier non nul on à :<br/>`Fraction(x, y).get_numerateur() / Fraction(x, y).get_denominateur() == x / y`\n",
    "- afficher une fraction sous sa forme simplifiée (pas de diviseur entier commun au numérateur et au dénominateur, dénominateur positif). Exemples `str(Fraction(6, 9))` donne `\"2/3\"`, `str(Fraction(2, -4))` donne `\"-1/2\"` `str(Fraction(6, 3))` donne `\"2\"`\n",
    "- permettre les calculs algébriques en utilisant les opérateurs Python `+`, `-`, `*` et `/`. Exemple, l'expression suivante doit se calculé correctement `(Fraction(5, 3) + Fraction(-25, 7) * Fraction(2, 5)`\n",
    "- permettre le tri sur des listes de `Fraction` comme `[Fraction(5, 3), Fraction(-25, 7), Fraction(2, 5)]`\n",
    "\n",
    "Contraintes :\n",
    "- ne pas utiliser de module autre que le module `buildins` qui est chargé par défaut."
   ]
  },
  {
   "cell_type": "markdown",
   "metadata": {
    "deletable": false,
    "editable": false
   },
   "source": [
    "### 2.1 ⚙️ Exercice - initialisation et accès aux attributs\n",
    "\n",
    "Coder la définition d'une classe `Fraction` et les deux assesseurs `get_numerateur()` `get_denominateur()` (méthodes d'instances) pour obtenir le comportement décrit ci-dessous.\n",
    "\n",
    "``` python\n",
    "f = Fraction(2, 5)\n",
    "f.get_numerateur()  # doit retourner l'entier 2\n",
    "f.get_denominateur()  # doit retourner l'entier 5\n",
    "```"
   ]
  },
  {
   "cell_type": "code",
   "execution_count": 41,
   "metadata": {
    "deletable": false,
    "editable": false
   },
   "outputs": [],
   "source": [
    "# Insérer votre code ici\n"
   ]
  },
  {
   "cell_type": "code",
   "execution_count": 86,
   "metadata": {
    "deletable": false,
    "editable": false
   },
   "outputs": [],
   "source": [
    "# Test de l'initialisation et les assesseurs\n",
    "liste_num_denum = [(5, 2), (-2, 5), (2, 1), (234567, -432729)]\n",
    "for (n, d) in liste_num_denum:\n",
    "    f = Fraction(n, d)\n",
    "    assert (f.get_numerateur() / f.get_denominateur()) == n/d\n",
    "    assert isinstance(f.get_numerateur(), int)\n",
    "    assert isinstance(f.get_denominateur(), int)"
   ]
  },
  {
   "cell_type": "markdown",
   "metadata": {
    "deletable": false,
    "editable": false
   },
   "source": [
    "### 2.2 ⚙️ Exercice - représentation des objects\n",
    "\n",
    "Coder les méthodes `__str__()` et `__repr__()` pour obtenir les comportements suivants.\n",
    "\n",
    "``` python\n",
    "str(Fraction(2, 5))  # donne '2/5'\n",
    "repr(Fraction(2, 5))  # donne 'Fraction(2, 5)' \n",
    "```"
   ]
  },
  {
   "cell_type": "code",
   "execution_count": 54,
   "metadata": {
    "deletable": false,
    "editable": true,
    "tags": [
     "editable"
    ]
   },
   "outputs": [],
   "source": [
    "# insérez votre code ici\n"
   ]
  },
  {
   "cell_type": "code",
   "execution_count": 88,
   "metadata": {
    "deletable": false,
    "editable": false
   },
   "outputs": [],
   "source": [
    "# Test de la méthode __str__() sur des fractions non simplifiables\n",
    "assert str(Fraction(5, 2)) == \"5/2\"\n",
    "assert str(Fraction(-2, 5)) == \"-2/5\"\n",
    "\n",
    "# Test de la méthode __repr__() sur des fractions non simplifiables\n",
    "assert repr(Fraction(5, 2)) == \"Fraction(5, 2)\"\n",
    "assert repr(Fraction(-2, 5)) == \"Fraction(-2, 5)\""
   ]
  },
  {
   "cell_type": "code",
   "execution_count": 90,
   "metadata": {
    "deletable": false,
    "editable": false
   },
   "outputs": [],
   "source": [
    "# Test de la méthode __str__() sur des fractions simplifiables\n",
    "assert str(Fraction(2, -5)) == \"-2/5\"\n",
    "assert str(Fraction(3, 9)) == \"1/3\""
   ]
  },
  {
   "cell_type": "markdown",
   "metadata": {
    "deletable": false,
    "editable": false
   },
   "source": [
    "### 2.3 ⚙️ Exercice - expression arithmétique\n",
    "\n",
    "Coder les méthodes `__add__()` et `__sub__()` et `__mul__()` pour permettre l'évaluation suivanet.\n",
    "\n",
    "``` python\n",
    "f1 = Fraction(2, 3)\n",
    "f2 = Fraction(5, 2)\n",
    "f3 = Fraction(-2, 7)\n",
    "\n",
    "f1 + (f2 * f3)\n",
    "```"
   ]
  },
  {
   "cell_type": "code",
   "execution_count": null,
   "metadata": {
    "deletable": false,
    "editable": true,
    "tags": [
     "editable"
    ]
   },
   "outputs": [],
   "source": [
    "# insérez votre code ici\n"
   ]
  },
  {
   "cell_type": "code",
   "execution_count": 92,
   "metadata": {
    "deletable": false,
    "editable": false
   },
   "outputs": [],
   "source": [
    "# Test de la méthode __add__()\n",
    "assert (Fraction(1, 2) + Fraction(1, 3)).get_numerateur() == 5\n",
    "assert (Fraction(1, 2) + Fraction(1, 3)).get_denominateur() == 6\n",
    "\n",
    "# Test de la méthode __sub__()\n",
    "assert (Fraction(1, 2) - Fraction(1, 3)).get_numerateur() == 1\n",
    "assert (Fraction(1, 2) - Fraction(1, 3)).get_denominateur() == 6\n",
    "\n",
    "# Test de la méthode __mul__()\n",
    "assert (Fraction(1, 2) * Fraction(1, 3)).get_numerateur() == 1\n",
    "assert (Fraction(1, 2) * Fraction(1, 3)).get_denominateur() == 6"
   ]
  },
  {
   "cell_type": "markdown",
   "metadata": {
    "deletable": false,
    "editable": false
   },
   "source": [
    "### 2.4 ⚙️ Exercice - comparaisons\n",
    "\n",
    "Lorsqu'il évalue les expressions de comparaison, l'interpréteur python fait appel à des méthodes spéciales. Par exemple, \n",
    "\n",
    "- `__eq__()`, `__ne__()`, `__ge__()`, `__gt__()`, `__le__()`, `__lt__()` sont les méthodes appelées par les opérateurs `==`, `!=`, `>=`, `>`, `<=`, `<`.     \n",
    "- \n",
    "- `x == y` appelle `x.__eq__(y)`\n",
    "- `x != y` appelle `x.__ne__(y)`\n",
    "- `x >= y` appelle `x.__ge__(y)`\n",
    "- `x > y` appelle `x.__gt__(y)`\n",
    "- `x <= y` appelle `x.__le__(y)`\n",
    "- `x< y` appelle `x.__lt__(y)`\n",
    "\n",
    "Coder au minimum les méthodes `__lt__()` et `__eq__()` pour permettre le tri des listes.\n"
   ]
  },
  {
   "cell_type": "code",
   "execution_count": null,
   "metadata": {
    "deletable": false,
    "editable": true,
    "tags": [
     "editable"
    ]
   },
   "outputs": [],
   "source": [
    "# insérez votre code ici\n"
   ]
  },
  {
   "cell_type": "code",
   "execution_count": 96,
   "metadata": {
    "deletable": false,
    "editable": false
   },
   "outputs": [],
   "source": [
    "# Test de la méthode __eq__()\n",
    "assert Fraction(1, 2) == Fraction(-2, -4)\n",
    "assert Fraction(0, 2) == Fraction(0, 1)"
   ]
  },
  {
   "cell_type": "code",
   "execution_count": null,
   "metadata": {
    "deletable": false,
    "editable": false
   },
   "outputs": [],
   "source": [
    "# Test de la méthode __lt__()\n",
    "assert Fraction(1, 2) < Fraction(2, 3)\n",
    "assert Fraction(-1, 2) < Fraction(1, 3)\n",
    "assert Fraction(1, 2) < Fraction(1001, 2000)"
   ]
  },
  {
   "cell_type": "code",
   "execution_count": null,
   "metadata": {
    "deletable": false,
    "editable": false
   },
   "outputs": [],
   "source": [
    "# Test le fonctionnement combiné de __eq__() et __lt__() avec la fonction sorted()\n",
    "f1 = Fraction(2, 3)\n",
    "f2 = Fraction(1, 2)\n",
    "f3 = Fraction(4, 5)\n",
    "f4 = Fraction(3, 4)\n",
    "assert sorted([f1, f2, f3, f4]) == [f2, f1, f4, f3]"
   ]
  },
  {
   "cell_type": "code",
   "execution_count": null,
   "metadata": {
    "deletable": false,
    "editable": false
   },
   "outputs": [],
   "source": []
  }
 ],
 "metadata": {
  "kernelspec": {
   "display_name": "jupyter",
   "language": "python",
   "name": "python3"
  },
  "language_info": {
   "codemirror_mode": {
    "name": "ipython",
    "version": 3
   },
   "file_extension": ".py",
   "mimetype": "text/x-python",
   "name": "python",
   "nbconvert_exporter": "python",
   "pygments_lexer": "ipython3",
   "version": "3.11.9"
  }
 },
 "nbformat": 4,
 "nbformat_minor": 2
}
