{
 "cells": [
  {
   "cell_type": "markdown",
   "metadata": {},
   "source": [
    "# BE2 - Fonctions définies par l'utilisateur\n",
    "\n",
    "Objectifs :\n",
    "- structuration d'un code Python : \n",
    "  - module\n",
    "  - fonction\n",
    "    - ne pas se répéter, factoriser, \n",
    "    - [Paramètres de fonction](https://zestedesavoir.com/tutoriels/2514/un-zeste-de-python/5-fonctions/2-fonctions-parametrees/#1-1-parametres), \n",
    "      Espace de non, Arguments positionnels et nommés, Retours de fonctions, Paramètres et types mutables, fermeture et effet de bord, documentation, anoontation de type"
   ]
  },
  {
   "cell_type": "markdown",
   "metadata": {},
   "source": []
  }
 ],
 "metadata": {
  "kernelspec": {
   "display_name": "Python 3 (ipykernel)",
   "language": "python",
   "name": "python3"
  },
  "language_info": {
   "codemirror_mode": {
    "name": "ipython",
    "version": 3
   },
   "file_extension": ".py",
   "mimetype": "text/x-python",
   "name": "python",
   "nbconvert_exporter": "python",
   "pygments_lexer": "ipython3",
   "version": "3.11.9"
  }
 },
 "nbformat": 4,
 "nbformat_minor": 4
}
