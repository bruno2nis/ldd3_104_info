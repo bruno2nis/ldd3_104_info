{
 "cells": [
  {
   "cell_type": "markdown",
   "metadata": {
    "editable": true,
    "slideshow": {
     "slide_type": ""
    },
    "tags": []
   },
   "source": [
    "# BE1 - Objet Python\n",
    "\n",
    "Ce document est un carnet Jupyter qui peut être téléchargé depuis le serveur [e-campus](https://ecampus.paris-saclay.fr/course/view.php?id=39705). Pour travailler les exercices contenus dans ce carnet il est nécessaire de disposer d'un environnent Jupyter, on utilisera celui disponible sur le serveur [JupyterHub](https://jupyterhub.ijclab.in2p3.fr/) de l'université Paris-Saclay.\n",
    "\n",
    "Objectifs :\n",
    "\n",
    "- prendre en main de l'environnement Jupyter\n",
    "- comprendre les concepts de type, de muabilité, de séquence, d'itérateur\n",
    "- comprendre et manipuler les objets numériques de bases et les objets conteneurs (chaines de caractère, listes, n-uplets, ensembles, dictionnaires, intervalles)\n",
    "- comprendre et utiliser les instructions simples (expressions, assignations, suppression, importation) et les instructions composées (conditions, itérations, répétitions)\n",
    "\n",
    "Sommaire :\n",
    "\n",
    "- Instructions de démarrage\n",
    "- Prise en main du carnet Jupyter\n",
    "- Objets Python\n",
    "- Types d'objets\n",
    "- Variables\n",
    "- Objets numériques\n",
    "- Chaines de caractères\n",
    "- Séquences\n",
    "- Listes\n",
    "- ...\n",
    "\n",
    "Organisation :\n",
    "\n",
    "Le carnet alterne des présentations de connaissances et des exercices pratiques structurés en partie, section et sous-section.\n",
    "- Si le titre de section commence par \"Exercice\", la section contient un énoncé à traiter, sinon elle contient des connaissances à lire.\n",
    "- Les titres contiennent une signalétique d'objectif à attendre, pour que chacun puisse adapter son travail en fonction de son niveau.\n",
    "  - 🟩🞳 indique un contenu incontournable pour attendre l'objectif de la séance, les étudiants et étudiantes novices pourront s'y concentrer\n",
    "  - 🟨🞳🞳 indique un contenu qui fait parti de l'objectif de l'ensemble du module, que les étudiants et étudiantes déjà familiers avec Python pourront aborder\n",
    "  - 🟥🞳🞳🞳 indique un contenu qui sera utile pour la suite de la formation, les étudiants et les étudiantes à l'aise pourront y améliorer leurs compétences."
   ]
  },
  {
   "cell_type": "markdown",
   "metadata": {},
   "source": [
    "## 1. 🟩🞳 Prise en main du carnet Jupyter\n",
    "\n",
    "### 1.1 🟩🞳 Exercice - À la découverte des cellules\n",
    "\n",
    "Cliquer à différents endroits de ce document pour activer tour à tour les cellules qui le composent et voir leur portée.\n",
    "\n",
    "### 1.2 🟩🞳 Exercice - Utilisation des cellules de code exécutable\n",
    "\n",
    "Cliquer dans la cellule ci-dessous, puis taper <kbd>Maj</kbd>+<kbd>Entrée</kbd> (la touche Maj est usuellement accompagnée du symbole <kbd>⇧</kbd> sur les claviers anglais, elle est dénotée <kbd>Shift</kbd>), ou cliquer sur l'icône ▶ dans la barre d'outils en haut du carnet. Cela exécutera le calcul $1 + 1$ et affichera le résultat."
   ]
  },
  {
   "cell_type": "code",
   "execution_count": 153,
   "metadata": {
    "editable": true,
    "slideshow": {
     "slide_type": ""
    },
    "tags": []
   },
   "outputs": [
    {
     "data": {
      "text/plain": [
       "2"
      ]
     },
     "execution_count": 153,
     "metadata": {},
     "output_type": "execute_result"
    }
   ],
   "source": [
    "1 + 1"
   ]
  },
  {
   "cell_type": "markdown",
   "metadata": {
    "editable": false,
    "slideshow": {
     "slide_type": ""
    },
    "tags": []
   },
   "source": [
    "Exécuter de même les cellules ci-dessous, en modifiant les calculs à effectuer de votre choix."
   ]
  },
  {
   "cell_type": "code",
   "execution_count": 154,
   "metadata": {
    "editable": true,
    "slideshow": {
     "slide_type": ""
    },
    "tags": []
   },
   "outputs": [
    {
     "data": {
      "text/plain": [
       "6"
      ]
     },
     "execution_count": 154,
     "metadata": {},
     "output_type": "execute_result"
    }
   ],
   "source": [
    "2 * 3"
   ]
  },
  {
   "cell_type": "code",
   "execution_count": 155,
   "metadata": {
    "editable": true,
    "slideshow": {
     "slide_type": ""
    },
    "tags": []
   },
   "outputs": [
    {
     "data": {
      "text/plain": [
       "14"
      ]
     },
     "execution_count": 155,
     "metadata": {},
     "output_type": "execute_result"
    }
   ],
   "source": [
    "2 * (3 + 4)"
   ]
  },
  {
   "cell_type": "markdown",
   "metadata": {
    "editable": false,
    "slideshow": {
     "slide_type": ""
    },
    "tags": []
   },
   "source": [
    "Ici, les exemples de calculs ont volontairement été choisis pour être très simples. Bien entendu, l’intérêt de Python et de Jupyter est de donner accès à des traitements plus riches. "
   ]
  },
  {
   "cell_type": "markdown",
   "metadata": {},
   "source": [
    "### 1.3 🟨🞳🞳Exercice - Utilisation des cellules de code exécutable\n",
    "\n",
    "La cellule de code suivante montre un exemple plus riche, il s'agit d'une recherche dans une base de données en ligne. Le code recherche des produits alimentaires contenant le mot \"courgette\" dans la base [Open Food Facts](https://fr.openfoodfacts.org/data) et affiche les 8 premiers produits trouvés. L'objectif n'est pas de comprendre les détails du code, mais plutôt de montrer l'interactivité de l'interface JupyterLab ; en changeant la chaine de caractères \"courgette\" par \"chocolat\", les gourmands exploreront facilement la base de données selon leur gout, mais attention au nutriscore 😉 (indication : doublecliquer sur la cellule de code, en fin d'édition, appuyer sur les touches <kbd>Maj</kbd>+<kbd>Entrée</kbd> pour exécuter le code)."
   ]
  },
  {
   "cell_type": "code",
   "execution_count": 156,
   "metadata": {
    "editable": true,
    "slideshow": {
     "slide_type": ""
    },
    "tags": []
   },
   "outputs": [
    {
     "name": "stdout",
     "output_type": "stream",
     "text": [
      "Courgettes cuisinées à la provençale - nutriscore A (Cassegrain)\n",
      "Poisson à l'andalouse riz safrané et courgettes grillées - nutriscore A (Marie)\n",
      "Courgettes cuisinées à la provençale - nutriscore A (Cassegrain)\n",
      "Purée de courgettes - nutriscore B (Créaline)\n",
      "Purée délice - haricots verts, courgettes, épinards, pois, crème - 4 saveurs - nutriscore A (Bonduelle)\n",
      "Les Tendres Carrés blé, petits pois, courgette & curry - nutriscore A (Céréal Bio)\n",
      "4 Röstis de légumes et cheddar - nutriscore A (Picard)\n",
      "Poulet & Purée de Courgettes pointe de crème fraîche - nutriscore B (Fleury Michon)\n"
     ]
    }
   ],
   "source": [
    "import requests  # Bibliothèque pour gérér les requêtes HTTP/1.1\n",
    "\n",
    "# Interrogation de la base de donnée Open Food Facts\n",
    "url = \"https://fr.openfoodfacts.org/cgi/search.pl\"  # URL de l'API \n",
    "params = {\"search_terms\": \"courgette\", \"json\": 1}  # Paramètres de la requête\n",
    "data = requests.get(url, params=params).json()  # Récupération des données\n",
    "\n",
    "# Affichage des huit premiers produits\n",
    "for p in data[\"products\"][0:8]: \n",
    "    print(\n",
    "        \"{} - nutriscore {} ({})\".format(\n",
    "            p[\"product_name\"],\n",
    "            p[\"nutrition_grade_fr\"].upper(),\n",
    "            p[\"brands\"],\n",
    "        )\n",
    "    )"
   ]
  },
  {
   "cell_type": "markdown",
   "metadata": {
    "editable": true,
    "slideshow": {
     "slide_type": ""
    },
    "tags": []
   },
   "source": [
    "### 1.4 🟩🞳 Exercice - Création une cellule\n",
    "\n",
    "Afin d'ajouter vos commentaires ou vos codes Python dans le carnet, la création (insertion) d'une nouvelle cellule se fait à partir d'une cellule existante et présélectionnée (par exemple celle-ci), en utilisant le groupe d'icônes qui apparait <img src=\"img/jupyterlab_cellule_icone.png\" alt=\"icones Jupyter\" style=\"width:140px\" />\n",
    "1. sélectionner une cellule, par exemple celle-ci,\n",
    "2. cliquer sur l'icône <img src=\"img/jupyterlab_cellule_icone_insere_apres.png\" alt=\"icone 'insérer après'\" style=\"width:16px;\" /> pour ajouter une nouvelle cellule après la cellule sélectionnée,\n",
    "3. sélectionner le type de la cellule créée à l'aide du menu déroulant situé parmi les icônes en haut du carnet Jupyter, <br />\n",
    "   <img src=\"img/jupyterlab_carnet_selection_de_type.png\" alt=\"sélection du type de cellule\" style=\"width:320px;\" />\n",
    "4. éditer le contenu de la cellule (3 exemples de contenus de cellule sont présentés ci-après)."
   ]
  },
  {
   "cell_type": "markdown",
   "metadata": {},
   "source": [
    "\n",
    "Ci-dessous, un exemple de contenu de cellule est proposé pour les trois type de cellule : code, markdown et texte brut (raw)**\n",
    "\n",
    "---\n",
    "\n",
    "Cellule de code Python\n",
    "\n",
    "```python\n",
    "# exemple de cellule de code Python\n",
    "import sys\n",
    "print(sys.version)\n",
    "```\n",
    "\n",
    "---\n",
    "\n",
    "Cellule de texte riche (format Markdown, voir [syntaxe](https://www.markdownguide.org/basic-syntax/))\n",
    "\n",
    "```markdown\n",
    "#### Titre de niveau 4\n",
    "\n",
    "Ceci est un paragraphe qui précède une liste à puce.\n",
    "\n",
    "- un *mot* en caractères italiques\n",
    "- un **mot** en caractères gras\n",
    "- un lien vers une page web donnant la syntaxe markdown :\n",
    "  [cliquer](https://www.markdownguide.org/basic-syntax/)\n",
    "\n",
    "```\n",
    "\n",
    "---\n",
    "\n",
    "Cellule de texte brut (Raw)\n",
    "\n",
    "```\n",
    " ,_     _                         \n",
    " |\\\\_,-~/                         \n",
    " / _  _ |    ,--.                 \n",
    "(  @  @ )   / ,-'    texte brut   \n",
    " \\  _T_/-._( (     pour conserver \n",
    " /         `. \\    la disposition \n",
    "|         _  \\ |     des signes   \n",
    " \\ \\ ,  /      |        _         \n",
    "  || |-_\\__   /      __(.)⦟       \n",
    " ((_/`(____,-'       \\___)        \n",
    "```"
   ]
  },
  {
   "cell_type": "markdown",
   "metadata": {
    "editable": false,
    "slideshow": {
     "slide_type": ""
    },
    "tags": []
   },
   "source": [
    "### 1.5 🟩🞳 Exercice - Modification des cellules de texte\n",
    "\n",
    "1. Saisissez vos noms et prénoms et votre couleur préférée dans la cellule ci-dessous (*Indication* : doublecliquer sur la cellule de texte, en fin d'édition, appuyer sur les touches <kbd>Maj</kbd>+<kbd>Entrée</kbd>).\n",
    "2. Essayer de modifier la cellule où est écrit ce texte, vous constaterez qu’elle est verrouillée.\n",
    "\n",
    "   Nom :\n",
    "\n",
    "   Prénom :\n",
    "   \n",
    "   Couleur préférée :\n"
   ]
  },
  {
   "cell_type": "markdown",
   "metadata": {},
   "source": [
    "### 1.6 🟩🞳 Exercice - Affichage de résultats d'exécution\n",
    "\n",
    "Dans un carnet Jupyter, en fin d'exécution d'une cellule de code, si un objet est le résultat de la dernière instruction, alors il est affiché."
   ]
  },
  {
   "cell_type": "code",
   "execution_count": 157,
   "metadata": {},
   "outputs": [
    {
     "data": {
      "text/plain": [
       "125"
      ]
     },
     "execution_count": 157,
     "metadata": {},
     "output_type": "execute_result"
    }
   ],
   "source": [
    "12 + 34  # addition de deux nombres\n",
    "25 / 2  # division d'un nombre par un autre\n",
    "5 ** 3  # exponentiation de base 5 et d'exposant 3"
   ]
  },
  {
   "cell_type": "markdown",
   "metadata": {},
   "source": [
    "Dans la cellule de code précédente, on observe que son exécution génère comme seule sortie, le nombre 125, c'est-à-dire $5^3$, le résultat de la dernière instruction.\n",
    "\n",
    "Pour afficher plus de détails sur les résultats des instructions intermédiaires, il faut explicitement générer une sortie d'affichage, par exemple avec la fonction `print()`, une fonction native de Python.\n",
    "\n",
    "Syntaxe : `print(<expression_1>, <expression_2> ... <expression_n>)`<br />\n",
    "Sémantique : en allant de gauche à droite, de l'expression `<expression_1>` à l'expression `<expression_n>`, la fonction répète les deux actions suivantes — 1. évaluation de l'expression, 2. affichage de la représentation textuelle de l'objet résultat de l'évaluation. Par défaut, un espace \"` `\" est ajouté entre chaque objet et un retour à la ligne conclut l'affichage de l'ensemble.\n",
    "\n",
    "Exemples : "
   ]
  },
  {
   "cell_type": "code",
   "execution_count": 158,
   "metadata": {},
   "outputs": [
    {
     "name": "stdout",
     "output_type": "stream",
     "text": [
      "Bonjour 12 7.5\n",
      "30 / 4 = 7.5\n"
     ]
    }
   ],
   "source": [
    "print(\"Bonjour\", 12, 30 / 4)  # Affiche \"Bonjour 12 7.5\"\n",
    "print(\"30 / 4 =\", 30 / 4)  # Affiche \"30 / 4 = 7.5\""
   ]
  },
  {
   "cell_type": "markdown",
   "metadata": {},
   "source": [
    "Proposer une modification de la cellule de code qui suit, afin que le résultat de chaque expression soit affichée dans la partie résultat de la cellule."
   ]
  },
  {
   "cell_type": "code",
   "execution_count": 159,
   "metadata": {},
   "outputs": [
    {
     "data": {
      "text/plain": [
       "125"
      ]
     },
     "execution_count": 159,
     "metadata": {},
     "output_type": "execute_result"
    }
   ],
   "source": [
    "12 + 34  # addition de deux nombres\n",
    "25 / 2  # division d'un nombre par un autre\n",
    "5 ** 3  # exponentiation de base 5 et d'exposant 3"
   ]
  },
  {
   "cell_type": "code",
   "execution_count": 160,
   "metadata": {},
   "outputs": [
    {
     "name": "stdout",
     "output_type": "stream",
     "text": [
      "46\n",
      "12.5\n",
      "125\n"
     ]
    }
   ],
   "source": [
    "# Proposition de solution\n",
    "\n",
    "print(12 + 34)  # addition de deux nombres\n",
    "print(25 / 2)  # division d'un nombre par un autre\n",
    "print(5 ** 3)  # exponentiation de base 5 et d'exposant 3"
   ]
  },
  {
   "cell_type": "markdown",
   "metadata": {},
   "source": [
    "### 1.7 🟩🞳 Exercice - Navigation dans le carnet\n",
    "\n",
    "Les cellules de texte riche au format markdown contiennent des titres de plusieurs niveaux (titres,  sous-titres ...). Pour naviguer facilement au sein du carnet, JupyterLab propose une table des matières interactive. Pour la faire apparaitre sur le coté du carnet, il y a trois possibilités :\n",
    "- cliquer sur l'icone <img src=\"img/jupyterlab_tdm_icone.png\" style=\"width:16px\" /> dans la barre lattérale,\n",
    "- dans le menu général, sélectionner `Table des matières` (\"Table of Contents\" en anglais)  dans le menu `Affichage` (\"View\" en anglais), ou\n",
    "- appuyer sur les touches <kbd>Ctrl</kbd>+<kbd>Maj</kbd>+<kbd>K</kbd>\n",
    "\n",
    "Faire apparaitre la table de matière, et naviguer à travers le carnet, pour revenir à cette cellule intitulée \"Exercice 1.6 - Navigation dans le carnet\""
   ]
  },
  {
   "cell_type": "markdown",
   "metadata": {},
   "source": [
    "### 1.8 🟩🞳 Exercice - Sauvegarde du carnet modifié\n",
    "\n",
    "Sauvegarder le carnet. Pour cela, il y a trois possibilités :\n",
    "\n",
    "- **Utiliser le menu** : aller dans le menu en haut de JupyterLab. Cliquez sur `Fichier` (\"File\" en anglais), puis sélectionnez `Sauvegarder Notebook` (\"Save Notebook\" en anglais) dans le menu déroulant. Cela enregistrera immédiatement les modifications apportées à votre carnet.\n",
    "\n",
    "- **Utiliser un raccourci clavier** : pour  sauvegarder rapidement votre carnet, le raccourci par défaut est <kbd>Ctrl</kbd> + <kbd>S</kbd>.\n",
    "\n",
    "- **Sauvegarde automatique** : JupyterLab dispose également d'une fonction de sauvegarde automatique qui enregistre périodiquement le carnet. Cependant, il est toujours recommandé de sauvegarder manuellement les modifications importantes pour éviter toute perte de données.\n",
    "\n",
    "Remarque : le fichier sauvegardé est enregistré sur la serveur JupyterHub et non pas sur votre appareil (ordinateur, tablette ...). En fin de séance, pensez à télécharger le fichier sauvegarder (voir instruction en fin de la section \"0 - Instructions de démarrage\")"
   ]
  },
  {
   "cell_type": "markdown",
   "metadata": {},
   "source": [
    "## 2. 🟩🞳 Objets Python\n",
    "\n",
    "### 2.1 🟩🞳 Définition\n",
    "\n",
    "Avec Python toutes les données sont représentées sous forme d'objets. Il s'agit d'une entité stockée dans la mémoire de l'ordinateur, qui possède :\n",
    "- une **valeur** - On dit que les objets `a` et `b` possèdent la même valeur si l'évaluation de l'expression de comparaison `a == b` retourne `True` (ou plus exactement un objet de type booléen et de valeur égale à `True`). Python ne dispose pas de méthode canonique pour accéder à la valeur d'un objet.\n",
    "- un **type** - Chaque objet est l'instance d'une *classe* que l'on appelle aussi le type de l'objet. Un objet conserve toujours le même type au cours de son existence en mémoire, on parle de typage fort du langage Python. La fonction native `type()` retourne le type (la classe) de l'objet passé en argument. On dit que les objets `a` et `b` possèdent le même type si l'évaluation de l'expression `type(a) == type(b)` retourne `True`\n",
    "- une **identité** - Chaque objet possède une identité unique qui ne change jamais au cours de son existence en mémoire, on parle d'identifiant. La fonction native `id()` retourne l'identifiant de l'objet passé en argument. On dit que les objets `a` et `b` ont la même identité s'ils ne font qu'un, c'est-à-dire si l'évaluation de l'expression `id(a) == id(b)` retourne `True`, c'est-à-dire si l'évaluation de l'expression `a is b` retourne `True`.\n",
    "- des **attributs-données**, éventuellement aucun - Les attributs-données, parfois simplement nommés attributs, sont des données de n'importe quel type qui caractérisent l'objet. Elle sont dites encapsulées dans l'objet. Pour désigner un attribut nommé `nom_attr` de l'objet `obj` il y a deux possibilités : \n",
    "  - la notation \"pointée\" `obj.nom_attr`\n",
    "  - la fonction native `getattr(obj, nom_attr)` \n",
    "- des **attributs-méthodes**, éventuellement aucun - Les attribut-méthodes, parfois simplement nommées méthodes, sont utiles pour définir des comportements spécifiques à l'objet, permettant ainsi une grande flexibilité et encapsulation des données. Ce sont des fonctions encapsulées qui s'appliquent à l'objet qui la possède. Pour appeler la méthode `meth()` de l'objet `obj`, il est également possible d'utiliser la notation pointée : `obj.meth()` avec éventuellement des arguments à transmettre entre les paranthèses.\n",
    "\n",
    "La figure suivante, illustre graphiquement la notion d'objet Python. A droite, une version détaillée qui montre tout ce qui est encapsulé dans l'objet (sa valeur, son type, son identité, ses attribut-données et ses attributs-méthodes) et à gauche une représentation compacte avec juste son type et sa valeur.\n",
    "\n",
    "<img src=\"img/BE1_objet_01.png\" style=\"width:280px; align:center;\" />"
   ]
  },
  {
   "cell_type": "markdown",
   "metadata": {},
   "source": [
    "### 2.2 🟩🞳 Exemple d'objet\n",
    "\n",
    "Exemple de représentations graphique de l'objet `\"Bonjour\"`, un objet de type `str` (chaine de caractères) de valeur `Bonjour`, qui ne dispose que d'un attribut-donnée `__doc__` et qui possède de nombreux attributs-méthodes comme `upper()` ou `split()`.\n",
    "\n",
    "<img src=\"img/BE1_objet_01_bonjour.png\" style=\"width:400px; align:center;\" />\n",
    "\n",
    "La valeur de l'objet `\"Bonjour\"` est la chaine de caractères `Bonjour`\n",
    "\n",
    "Pour obtenir le type de l'objet, on utilise la fonction native `type()`"
   ]
  },
  {
   "cell_type": "code",
   "execution_count": 161,
   "metadata": {},
   "outputs": [
    {
     "data": {
      "text/plain": [
       "str"
      ]
     },
     "execution_count": 161,
     "metadata": {},
     "output_type": "execute_result"
    }
   ],
   "source": [
    "type(\"Bonjour\")  # renvoie le type (classe) de l'objet \"Bonjour\""
   ]
  },
  {
   "cell_type": "markdown",
   "metadata": {},
   "source": [
    "Pour obtenir l'identité de l'objet, on utilise la fonction native `id()`"
   ]
  },
  {
   "cell_type": "code",
   "execution_count": 162,
   "metadata": {},
   "outputs": [
    {
     "data": {
      "text/plain": [
       "2157145222448"
      ]
     },
     "execution_count": 162,
     "metadata": {},
     "output_type": "execute_result"
    }
   ],
   "source": [
    "id(\"Bonjour\")  # renvoie l'identité de l'objet \"Bonjour\""
   ]
  },
  {
   "cell_type": "markdown",
   "metadata": {},
   "source": [
    "Les opérateurs `is` et `is not` testent l'égalité des identifiants des objets : `x is y` est vrai si et seulement si `x` et `y` sont le même objet. L'identifiant d'un objet est déterminé en utilisant la fonction native `id()`. L'expression `x is not y` renvoie le résultat contraire de l'égalité des identifiants. Exemples :\n",
    "\n",
    "``` python\n",
    "\"Bonjour\" is \"Bonjour\"  # renvoie True\n",
    "\"Bonjour\" is not \"Bonjour\"  # renvoie False\n",
    "```"
   ]
  },
  {
   "cell_type": "markdown",
   "metadata": {},
   "source": [
    "Pour obtenir l'attribut-donnée `__doc__`, commun à tout les objets de type `str` (chaine de caratères) qu'il documente, on utiilise soit la notation \"pointée\" `\"Bonjour\".__doc__`, soit la fonction native `getattr(obj, nom_attr)`. L'attribut `__doc__` est une chaine de caratères multilignes."
   ]
  },
  {
   "cell_type": "code",
   "execution_count": 163,
   "metadata": {},
   "outputs": [
    {
     "name": "stdout",
     "output_type": "stream",
     "text": [
      "str(object='') -> str\n",
      "str(bytes_or_buffer[, encoding[, errors]]) -> str\n",
      "\n",
      "Create a new string object from the given object. If encoding or\n",
      "errors is specified, then the object must expose a data buffer\n",
      "that will be decoded using the given encoding and error handler.\n",
      "Otherwise, returns the result of object.__str__() (if defined)\n",
      "or repr(object).\n",
      "encoding defaults to sys.getdefaultencoding().\n",
      "errors defaults to 'strict'.\n"
     ]
    }
   ],
   "source": [
    "\"Bonjour\".__doc__  # renvoie l'attribut __doc__ de l'objet \"Bonjour\"\n",
    "getattr(\"Bonjour\", \"__doc__\")  # renvoie l'attribut __doc__ de l'objet \"Bonjour\"\n",
    "\n",
    "print(\"Bonjour\".__doc__)  # Affiche l'attribut __doc__ de l'objet \"Bonjour\""
   ]
  },
  {
   "cell_type": "markdown",
   "metadata": {},
   "source": [
    "Parmi les methodes de l'objet  `\"Bonjour\"` on trouve les methodes communes à tous les objets de la classe `str`, comme `upper()` ou `split()`. \n",
    "\n",
    "La méthode `upper()` renvoie un nouvel objet de type chaine de caractère formé à partir de l'objet sur lequel on applique la méthode."
   ]
  },
  {
   "cell_type": "code",
   "execution_count": 164,
   "metadata": {},
   "outputs": [
    {
     "data": {
      "text/plain": [
       "'BONJOUR'"
      ]
     },
     "execution_count": 164,
     "metadata": {},
     "output_type": "execute_result"
    }
   ],
   "source": [
    "\"Bonjour\".upper()  # applique la méthode upper() à l'objet \"Bonjour\""
   ]
  },
  {
   "cell_type": "markdown",
   "metadata": {},
   "source": [
    "La méthode `split()` utilisée avec la chaine `sep` comme argument, `split(sep)`, renvoie une liste des chaines de caractères présentes dans l'oject et qui sont séparées par la \"sous-chaine\" `sep`."
   ]
  },
  {
   "cell_type": "code",
   "execution_count": 165,
   "metadata": {},
   "outputs": [
    {
     "data": {
      "text/plain": [
       "['B', 'nj', 'ur']"
      ]
     },
     "execution_count": 165,
     "metadata": {},
     "output_type": "execute_result"
    }
   ],
   "source": [
    "\"Bonjour\".split(\"o\")  # applique la méthode split() à l'objet \"Bonjour\""
   ]
  },
  {
   "cell_type": "markdown",
   "metadata": {},
   "source": [
    "Pour connaitre la liste des attributs et des méthodes disponibles pour un objet d'un certain type il y a l'incontournable documentation officielle en ligne du langage python (par exemple [Méthodes de chaines de caractères](https://docs.python.org/fr/3/library/stdtypes.html#string-methods)) et il y a les outils d'assistance de l'environnement de développement intégré (IDE pour *Integrated Development Environment* en anglais). Ici nous utilisons l'IDE JupyterLab qui met en oeuvre la fonctionnalité de **complétion de code**.\n",
    "\n",
    "La **complétion de code** est une suggestion de code à partir du début de l'instruction déjà saisie. Par exemple, après avoir saisi `\"bonjour\".`, JupyterLab s'attend à la saisie du nom d'une méthode de l'objet `\"Bonjour\"`. À votre demande par l'appui sur la touche <kbd>Tab ↹</kbd>, la liste des suites possibles vous est proposée. Si une proposition est sélectionnée, le code correspondant est inséré.\n",
    "\n",
    "Exemple : la copie d'écran ci-dessous montre l'effet de la saisie `\"Bonjour\".` + <kbd>Tab ↹</kbd><br />\n",
    "\n",
    "<img src=\"img/jupyterlab_completion.png\" style=\"width:280px;\" />\n"
   ]
  },
  {
   "cell_type": "markdown",
   "metadata": {},
   "source": [
    "### 2.3 🟩🞳 Exercice - Inspection par complétion\n",
    "\n",
    "Inspecter les attributs (données ou méthodes) que possède l'objet `\"Bonjour\"` en utilisant la complétion de code de l'environnement de développement (JypyterLab) sur les débuts d'expression suivant :\n",
    "\n",
    "- `\"Bonjour\".u` + <kbd>Tab ↹</kbd> (une propositions)\n",
    "- `\"Bonjour\".c` + <kbd>Tab ↹</kbd> (quatre propositions)\n",
    "- `\"Bonjour\".is` + <kbd>Tab ↹</kbd> \n",
    "- `\"Bonjour\".` + <kbd>Tab ↹</kbd>"
   ]
  },
  {
   "cell_type": "code",
   "execution_count": 166,
   "metadata": {},
   "outputs": [],
   "source": [
    "# Zone de test pour la complétion\n"
   ]
  },
  {
   "cell_type": "markdown",
   "metadata": {},
   "source": [
    "## 3. 🟩🞳 Types d'objets (classes)\n",
    "\n",
    "### 3.1 🟩🞳 Principales catégories\n",
    "\n",
    "Python propose de nombreux types de données adaptées à chaque besoin de codages. On peut les classer :\n",
    "- par leur localisation (natif, bibliothèque standard, bibliothèques tierces) \n",
    "- par son contenu modifiable ou non (muabilité, **mutability** en anglais)\n",
    "- par l'organisation de son contenu (simple, conteneur, autre...)\n",
    "\n",
    "\n",
    "Au regard de leur localisation, on distingue (dans ce BE on étudie uniquement les types natifs) :\n",
    "- **types natifs** disponibles dès le lancement de l'interpréteur Python<br />\n",
    "  exemples : les nombres, les chaines de caractères, les listes, les ensembles, les dictionnaires ...\n",
    "- **types de la bibliothèque standard** disponibles dans toutes les distributions de Python, mais qui nécessitent le chargement d'un module avec l'instruction `import`<br />\n",
    "  exemples : les fractions (module `fractions`), les dates (module `datetime`) ...\n",
    "- **types des bibliothèques tierces** disponibles après installation et chargement d'un module spécifique<br />\n",
    "  exemples : les figures (module `matplotlib`), les matrices de numériques de mêmes types (module `numpy`), les réseaux de neurones récurrents (module `tensorflow`)\n",
    "- **types utilisateurs** définis par le développeur avec l'instruction `class`\n",
    "\n",
    "La muabilité des types d'objets se décline en deux catégories :\n",
    "- **types muables** (*mutable* en anglais) - la valeur d'un objet de type muable qui peut être changée sans que l'identité de l'objet ne change. Un objet de type muable peut avoir plusieurs valeurs successives au cours de l'exécution du programme.\n",
    "- **types immuable** (*immutable* en anglais) - la valeur d'un objet de type immuable ne peut pas être changée au cours de l'exécution du programme. Si ou souhaite une nouvelle valeur, alors il faut utiliser un autre objet.\n",
    "\n",
    "Les types peuvent également se classer en grandes catégories de contenu, d'où découlent des méthodes d'accès de des méthodes de manipulations de leurs données :\n",
    "- types de **base** qui contiennent une donnée élémentaire comme les types numériques. Ces types de bases sont les fondations sur lesquelles sont construits les types de données plus élaborés comme les types conteneurs\n",
    "- types **conteneurs** qui contiennent une collection d'éléments\n",
    "  - types **ensembles** qui contiennent une collection d'éléments en vrac (éléments non indicés)\n",
    "  - types **séquences** qui contiennent une collection d'éléments indicés par des nombres entiers.\n",
    "  - types **associations** qui contiennent une collection d'éléments indicés par des clés, des objets Python\n",
    "- types **appellable** comme les fonctions, les méthodes\n",
    "- types divers comme les fichiers, les modules  ...\n",
    "\n",
    "Le tableau ci-dessous regroupe les principaux types natifs par catégorie\n",
    "\n",
    "|                                          | Immuable     | Muable    |\n",
    "|:----------------------------------------:|--------------|-----------|\n",
    "| **base**                                 | - nombre entier `int`<br />- nombre flottant `float`<br />- nombre complexe `complex`<br />- booléen `bool`<br />- type vide `NoneType` | |\n",
    "| Containeurs de type<br />**ensemble**    | - ensemble figé `frozenset`<br /> &nbsp;&nbsp;*(itérable)* | - ensemble `set`<br /> &nbsp;&nbsp; *(itérable)* |\n",
    "| Containeurs de type<br />**séquence**    | - chaine de caractères `str`<br />- chaine d'octets `bytes`<br />- n-uplet `tuple`<br />- intervalle `range`<br /><br />*(tous itérables et indiçables)* | - liste `list`<br />- tableau d'octets `bytearray`<br /><br />*(tous itérables et indiçables)*\n",
    "| Containeurs de type<br />**association** | | - dictionnaire `dict`<br />&nbsp;&nbsp;*(itérable et indiçable par clé)*"
   ]
  },
  {
   "cell_type": "markdown",
   "metadata": {},
   "source": [
    "### 3.2 🟩🞳 Exemples de types de base\n",
    "\n",
    "Voici quelques exemples de **types** (*classes*) de base du langage Python :\n",
    "\n",
    "- Les **nombres entiers** sans partie décimale<br />\n",
    "  type : `int`<br />\n",
    "  Exemples : `42`, `-3`, `0`\n",
    "- Les **nombres réels** avec une partie décimale<br />\n",
    "  type : `float`<br />\n",
    "  Exemples : `3.14`, `-0.001`, `2.0`, `1.602e-19`\n",
    "- Les **chaines de caractères**<br />\n",
    "  type : `str`<br />\n",
    "  Exemples : `\"Bonjour\"`, `'Python'`\n",
    "- Les **booléens**<br />\n",
    "  type : `bool`<br />\n",
    "  Exemples : `True` (vrai), `False` (faux) qui sont les deux seuls représentants de leur type \n",
    "- Les \"**vides**\" ou les \"absences de valeur\"<br/>\n",
    "  type : `NoneType`<br />\n",
    "  Exemple : `None` qui est le seul représentant de son type "
   ]
  },
  {
   "cell_type": "markdown",
   "metadata": {},
   "source": [
    "### 3.1 🟩🞳 Exercice - Inspection du type des objets\n",
    "\n",
    "En utilisant la fonction interne `type()`, identifier le type (classe) des objets renvoyés par les expressions suivantes :\n",
    "- `'42'`\n",
    "- `\"42\"`\n",
    "- `3 * 2`\n",
    "- `6 / 2`\n",
    "- `123.45`\n",
    "- `True`\n",
    "- `1 > 2`\n",
    "- `None`\n",
    "- `print`\n",
    "- `print(\"Bonjour\")`\n",
    "- `type(123.45)`"
   ]
  },
  {
   "cell_type": "code",
   "execution_count": 167,
   "metadata": {},
   "outputs": [],
   "source": [
    "# Insérer votre code ici\n"
   ]
  },
  {
   "cell_type": "code",
   "execution_count": 168,
   "metadata": {},
   "outputs": [
    {
     "name": "stdout",
     "output_type": "stream",
     "text": [
      "Type de '42' : <class 'str'>\n",
      "Type de \"42\" : <class 'str'>\n",
      "Type de 3 * 2 : <class 'int'>\n",
      "Type de 6 / 2 : <class 'float'>\n",
      "Type de 123.45 : <class 'float'>\n",
      "Type de True : <class 'bool'>\n",
      "Type de 1 > 2 : <class 'bool'>\n",
      "Type de None : <class 'NoneType'>\n",
      "Type de print : <class 'builtin_function_or_method'>\n",
      "Bonjour\n",
      "Type de print(\"Bonjour\") : <class 'NoneType'>\n",
      "Type de type(42) : <class 'type'>\n"
     ]
    }
   ],
   "source": [
    "# Proposition de solution\n",
    "print(\"Type de '42' :\", type('42'))  # littéral de chaîne de caractères\n",
    "print('Type de \"42\" :', type(\"42\"))  # littéral de chaîne de caractères\n",
    "print('Type de 3 * 2 :', type(3 * 2))  # la multiplication d'entier renvoie un entier\n",
    "print(\"Type de 6 / 2 :\", type(6 / 2))  # le divison renvoie un nombre flottant\n",
    "print('Type de 123.45 :', type(123.45))  # littéral de nombre flottant\n",
    "print('Type de True :', type(True))  # littéral de booléen\n",
    "print(\"Type de 1 > 2 :\", type(1 > 2))  # la comparaison de deux nombres renvoie un booléen\n",
    "print('Type de None :', type(None))  # le seul littéral de NoneType\n",
    "print('Type de print :', type(print))  # fonction native\n",
    "print('Type de print(\"Bonjour\") :', type(print(\"Bonjour\"))) # la fonction print renvoie None et affiche \"Bonjour\"\n",
    "print('Type de type(42) :', type(type(42)))  # la fonction type() renvoie un type"
   ]
  },
  {
   "cell_type": "markdown",
   "metadata": {},
   "source": [
    "## 4. 🟩🞳 Variables (lien étiquette-objet)\n",
    "\n",
    "### 4.1 🟩🞳 Définition \n",
    "\n",
    "Dans le langage Python, les **variables** agissent comme des étiquettes ou des références à des objets en mémoire. Contrairement à certains autres langages de programmation (ex: C, Matlab...) pour lesquels les variables sont des boites (emplacements) contenant des données, en Python, une variable pointe vers un objet qui réside quelque part en mémoire. Une variable (étiquette) réfère (pointe) un et un seul abject ; à l'inverse, un objet peut être assigné à plusieurs variables.\n",
    "\n",
    "<img src=\"img/BE1_variable_01.png\" width=\"320px\" />\n",
    "\n",
    "La constitution d'un nom de variable est soumis à des règles impératives issues de la grammaire du langage Python et des conventions fortement recommandées pour faciliter la lecture du code par toute la communauté des développeurs.\n",
    "\n",
    "Règles de nommage des variables\n",
    "- *Utiliser uniquement des lettres, des chiffres, et des tirets bas* : un nom de variable est composé de lettres (a-z, A-Z), de chiffres (0-9) et de tirets bas (_)\n",
    "- *Ne pas commencer par un chiffre* : un nom de variable ne peut pas commencer par un chiffre\n",
    "- *Ne pas utiliser les mots réservés* : les mots réservés du langage ne peuvent pas être utilisés comme noms de variables, exemples if, for, while, True, False, etc\n",
    "\n",
    "Conventions de nommage des variables ([PEP8(https://peps.python.org/pep-0008/#function-and-variable-names)])\n",
    "- [snake case](https://fr.wikipedia.org/wiki/Snake_case) : les noms de variables doivent être en minuscules avec les mots séparés par des tirets bas `_`, exemple `nom_de_variable`\n",
    "- N'utilisez jamais les caractères `l` (lettre L minuscule) ou `I` (lettre i majuscule) comme noms de variables à caractère unique, car ils se confondent trop facilement selon la police de caractères utilisée. Idem pour le caractère `O` (lettre o majuscule) qui peut se confondre avec le chiffre 0."
   ]
  },
  {
   "cell_type": "markdown",
   "metadata": {},
   "source": [
    "### 4.2 🟩🞳 Instruction d'assignation \n",
    "\n",
    "L'instruction d'**assignation**, ou plus simplement l'assignation, construit l'association entre un nom (étiquette) et un objet. Une fois nommé, un objet pourra être réutilisé autant de fois que nécessaire dans le code. la syntaxe de base d'une instruction d'assignation est\n",
    "\n",
    "``` python\n",
    "nom_de_variable = expression\n",
    "```\n",
    "\n",
    "et la sémantique (comportement) de l'instruction est la suivante\n",
    "1. l'`expression` est évaluée et retourne un abject qui est situé dans l'espace des objets Python\n",
    "2. si l'étiquette `nom_de_variable` n'existe pas dans l'espace des noms, elle est créée\n",
    "3. l'objet est assigné à l'étiquette `nom_de_variable`, on dit que `nom_de_variable` réfère ou pointe l'objet\n",
    "\n",
    "Exemple du comportement de 3 assignations successives\n",
    "\n",
    "| Numéro<br />de ligne| Code | Sémantique | Illustration |\n",
    "|---------------------|------|------------|--------------|\n",
    "| 1 | `x = 305` | - `305` est évalué, l'objet de type `int` avec de valeur 300 est créé et retourné<br />- l'étiquette `x` est créée dans l'espace de nom<br />- le lien de l'étiquette vers l'objet est établi | <img src=\"img/BE1_variable_02.png\" width=\"200px\" /> |\n",
    "| 2 | `y = 305 / 12` | - `305 / 12` est évaluée, l'objet de type `float` avec de valeur 1.5 est créé et retourné<br />- l'étiquette `y` est créée dans l'espace de nom<br />- le lien de l'étiquette vers l'objet est établi | <img src=\"img/BE1_variable_03.png\" width=\"200px\" /> |\n",
    "| 3 | `x = y` | - `y` est évalué, l'objet pointé est retourné<br />- l'étiquette `x` existe déjà, inutile de la créée dans l'espace de nom<br />- le lien de l'étiquette est redirigé vers l'objet | <img src=\"img/BE1_variable_04.png\" width=\"200px\" /> |\n",
    "\n",
    "Remarques sur la situation en fin d'exécution des trois assignations\n",
    "- l'objet `152.5` est assigné à plusieurs variables ou réciproquement, plusieurs noms pointent sur le même objet\n",
    "- l'objet `305` n’est assigné à aucune variable. Il ne pourra plus être utilisé, et il a pour vocation d'être supprimé de la mémoire par un mécanisme interne à l'interpréteur Python : le ramasse-miette (garbage collector en anglais).\n",
    "\n",
    "Les assignations peuvent prendre plusieurs formes en Langage Python :\n",
    "\n",
    "1. L'*assignation de base* (vue juste au-dessus)<br />\n",
    "   syntaxe : `nom_de_variable = expression`<br />\n",
    "   sémantique : l'`expression` est évaluée, l'objet résultant est assigné à la variable `nom_variable`.\n",
    "   ``` python\n",
    "   x = 10 + 2  # assigne l'objet 12 à la variable x\n",
    "   ```\n",
    "\n",
    "2. L'*assignation multiple* permet d'assigner des valeurs à plusieurs variables en une seule ligne.<br />\n",
    "   syntaxe : `nom_1, nom_2, ... nom_n = exp_1, exp_2, ... exp_n`<br />\n",
    "   sémantique : la partie à droite du signe `=` est évaluée en premier et de gauche à droite, puis les assignations aux variables de la partie gauche se font à leur tour de gauche à droite. Cela donne la séquence suivante - évaluation de `exp_1`, évaluation de `exp_2`, ... évaluation de `exp_n`, assignation à `nom_1` de l'objet obtenu après l'évaluation de `exp_1`, assignation à `nom_2` de l'objet obtenu après l'évaluation de `exp_2`, ... assignation à `nom_n` de l'objet obtenu après l'évaluation de `exp_n`<br />\n",
    "   ```python\n",
    "   x, y = 305, \"Bonjour\"  # 305 est assigné à x, \"Bonjour\" est assigné à y\n",
    "   x, y = y, x  # échange les objets pointés par les variables x et y\n",
    "   ```\n",
    "\n",
    "3. l'*assignation chainée* permet de lier plusieurs variables au même objet.<br />\n",
    "   syntaxe : `nom_1, nom_2, ... nom_n = expression`<br />\n",
    "   sémantique : l'`expression` est évaluée, l'objet résultant est assigné successivement aux variables de la partie gauche dans l'ordre de gauche à droite.<br />\n",
    "   ```python\n",
    "   x = y = z = 10  # x, y, et y pointent toutes vers le même objet 10\n",
    "   ```\n",
    "\n",
    "4. l'*assignation augmentée* permet de réaliser une opération et une assignation simultanément, ce qui est utile pour modifier la valeur d'une variable basée sur sa valeur courante.<br />\n",
    "   syntaxe : `nom_de_variable ∴= expression`<br /> ou `∴` ∈ {`+`, `-`, `*`, `@`, `/`, `//`, `%`, `**`, `>>`, `<<`, `&`, `^`, `|`}<br />\n",
    "   sémantique : un assignation augmentée peut se réécrire comme l'assignation de base suivante `nom_de_variable = nom_de_variable ∴ expression`, et elle en a la même sémantique<br />\n",
    "   ```python\n",
    "   x = 355\n",
    "   x -= 50  # équivalent à x = x - 50, x pointe maintenant sur l'entier 305\n",
    "   ```"
   ]
  },
  {
   "cell_type": "markdown",
   "metadata": {},
   "source": [
    "### 4.3 🟩🞳 Exercice - Assignations\n",
    "\n",
    "Créer les objets \"Bonjour\", 25 et -432 et les assigner respectivement aux variables (noms) x, y et z. En fin d'exécusion du code l'organisation de l'espace des noms et objets devra être celui la figure ci dessous.<br /> \n",
    "\n",
    "<img src=\"img/BE1_assignation_01.png\" style=\"width:260px\" />"
   ]
  },
  {
   "cell_type": "code",
   "execution_count": 169,
   "metadata": {},
   "outputs": [],
   "source": [
    "# Insérez votre code ici pour assigner x, y et z\n"
   ]
  },
  {
   "cell_type": "code",
   "execution_count": 170,
   "metadata": {},
   "outputs": [],
   "source": [
    "# Proposition de solution\n",
    "x = \"Bonjour\"\n",
    "y = 25\n",
    "z = -432"
   ]
  },
  {
   "cell_type": "markdown",
   "metadata": {},
   "source": [
    "Pour valider le code de la cellule ci-dessus, après son exécution, exécuter à son tour la cellule ci-dessous. Si rien d'apparent ne se produit, votre code est validé (valeurs et types sont corrects), sinon un message d'erreur apparait (une exception `AssertionError` est levée)."
   ]
  },
  {
   "cell_type": "code",
   "execution_count": 171,
   "metadata": {},
   "outputs": [],
   "source": [
    "# Cellule de test de la cellule de code précédente\n",
    "assert x == \"Bonjour\", \"La valeur de x n'est pas correcte\"\n",
    "assert type(x) is str, \"Le type de x n'est pas correct\"\n",
    "assert y == 25, \"La valeur de y n'est pas correcte\"\n",
    "assert type(y) is int, \"Le type de y n'est pas correct\"\n",
    "assert z == -432, \"La valeur de z n'est pas correcte\"\n",
    "assert type(z) is int, \"Le type de z n'est pas correct\""
   ]
  },
  {
   "cell_type": "markdown",
   "metadata": {},
   "source": [
    "### 4.4 🟩🞳 Instruction de suppression\n",
    "\n",
    "L'instruction de **suppression** détruit des noms (étiquette) et leur association des objets Python. Elle joue le rôle inverse de l’instruction d'assignation, elle est importante lorsque l'on souhaite libérer de l'espace en mémoire. La syntaxe de base d'une instruction de suppression est\n",
    "\n",
    "``` python\n",
    "del nom_1, nom_2 ... nom_n\n",
    "```\n",
    "\n",
    "et la sémantique (comportement) de l'instruction de suppression est : suppression de gauche à droite des `nom_i` et de leur lien avec les objets Python.\n",
    "\n",
    "Exemple du comportement de quelques instructions\n",
    "\n",
    "| Numéro<br />de ligne| Code | Sémantique | Illustration |\n",
    "|---------------------|------|------------|--------------|\n",
    "| 1<br />2 | `x = y = \"Bonjour\"`<br>`z = -432` | - `\"Bonjour\"` est créé et assigné au nom `x` et `y` | <img src=\"img/BE1_del_01.png\" width=\"200px\" /> |\n",
    "| 3 | `del y` | - suppression du nom `y` | <img src=\"img/BE1_del_02.png\" width=\"200px\" /> |\n",
    "| 4 | `del x, z` | - suppression des noms `x` et `z` | <img src=\"img/BE1_del_03.png\" width=\"200px\" /> |\n",
    "\n",
    "Remarque : l'instruction `del` supprime des noms, pas des objets ; lorsque plus aucun nom ne réfère à un objet Python, ce dernier devient inatteignable et il a pour vocation d'être supprimé de la mémoire par un mécanisme interne à l'interpréteur Python, le  **ramasse-miette** (garbage-collector en anglais). "
   ]
  },
  {
   "cell_type": "markdown",
   "metadata": {},
   "source": [
    "## 5. 🟩🞳 Objets de type numérique\n",
    "\n",
    "### 5.1 🟩🞳 Introduction\n",
    "\n",
    "Il existe quatre types numériques de base et distincts : \n",
    "- les **nombre entiers** (*integers* en anglais) qui servent à représenter les entiers relatif de $\\mathbb{Z}$. Avec Python3, il n'y a pas de limite supérieure, ni de limite inférieure aux entiers (hormis l'espace mémoire disponible), c'est une caractéristique rare parmi les langages de programmation.\n",
    "- les **nombres à virgule flottante** (*floating-point numbers* en anglais, souvent abrégés en \"nombres flottants\" ou simplement \"flottants) qui servent à représenter les nombres réels de $\\mathbb{R}$ moyennant quelques approximations et limitations. \n",
    "- les **nombres complexes** (*complex numbers* en anglais) avec une partie réelle et une partie imaginaire qui servent à représenter les nombres complexes de $\\mathbb{C}$ moyennant aussi quelques approximations et limitationspuisque la partie réelle et la partie imaginaire sont représentées sous forme de nombres à virgule flottante.\n",
    "- les **nombres booléens** (*booleans* en anglais) qui se limitent à deux représantants `True` (*Vrai* en français) et `False` (*Faux* en français). Pour python les nombres booléens et les nombre entiers sont deux spécialisations d'une même famille de nombre."
   ]
  },
  {
   "cell_type": "markdown",
   "metadata": {},
   "source": [
    "Pour créer un objet numérique, il existe trois moyens :\n",
    "- les **littéraux** (ex: `123456789`, `1,602e-19`, `3j`, `True`)\n",
    "- les **constructeurs** d'instances de classe (`int()`, `float()`, `complex()`, `bool()`)\n",
    "- les **expressions** à base d'opérateurs et de fonctions (ex : `+`, `-`, `*`, `/`, `not`, `and`, `or`, `abs()`, `pow()`, `round()`, `max()`, `min()`)\n",
    "\n",
    "Le tableau suivant donne les principales manières de construire un objet de type numérique\n",
    "\n",
    "|                   | Entiers   | Flottants | Complexes | Booléen |\n",
    "|-------------------|-----------|-----------|-----------|---------|\n",
    "| **Littéraux**     | `12345678901` (décimal)<br />`0x_1A2B3C4D` (hexadécimal)<br />`0b_01010011` (binaire) | avec un point décimal `123.456`<br />avec un exposant `12e6` soit $12 \\times 10^6$ <br>ou les deux `1.6e-19` soit $1.6 \\times 10^{-19}$ | entier ou flottant littéral avec<br /> le suffixe `j` donne un imaginaire<br />avec une partie réelle nulle<br />ex : `8j`, `6.7j`, `3.4e-3j` | `True`<br />`False` |\n",
    "| **Constructeurs** | `int()` donne `0`<br />`int(12.8)` donne `12`<br />`int(\"-360\")` donne `-360` | `float()` donne `0.0`<br />`float(1.6e-19)` donne `1.6e-19`<br />`float(\"-1.6e-19\")` donne `-1.6e-19` | `complex()` donne `0j`<br />`complex(0.2, 1.4)` donne `0.2+1.4j`<br />`complex(\"2+3j\")` donne `2+3j` | `bool()` donne `True`<br />`bool(False)` donne `False`<br />`bool(1)` donne `True`<br />`bool(0)` donne `False` |\n",
    "| **Expressions<br />arithmétiques**   | `(5 * 5) - 3` | `-(1.5 + 8.1) / 7.3` | `(1 + 2j) / (1.1 - 7.3j)` | `True and not False` |\n",
    "\n",
    "On notera le caractère polymorphe des constructeurs `int()`, `float()`, `complex()` et `bool()` qui acceptent à la fois un nombre variable d'arguments et qui d'adaptent au type de leurs arguments. Cela permet une grand souplesse d'utilisation."
   ]
  },
  {
   "cell_type": "markdown",
   "metadata": {},
   "source": [
    "### 5.1 🟩🞳 Exercice - Littéraux numériques\n",
    "\n",
    "Créer les variables suivantes à partir de littéraux ou constructeurs d'instance, en étant vigilant sur l'exactitude de la valeur des objets de type entier :\n",
    "\n",
    "| Nom      | Type     | Description de l'objet |\n",
    "|----------|----------|------------------------|\n",
    "| `n_a`    | entier   | Nombre d'Avogadro dont la valeur exacte est $6.022 140 76 \\times 10^{23} \\; \\text{mol}^{−1}$ |\n",
    "| `googol` | entier   | Un 1 suivi de 100 zéros |\n",
    "| `m_e`    | flottant | Masse d'un électron au repos, $9.109 534 \\times 10^{-31} \\text{kg}$ |"
   ]
  },
  {
   "cell_type": "code",
   "execution_count": 172,
   "metadata": {},
   "outputs": [],
   "source": [
    "# Insérez votre code ici pour créer n_a, googol et m_e\n",
    "\n"
   ]
  },
  {
   "cell_type": "code",
   "execution_count": 173,
   "metadata": {},
   "outputs": [
    {
     "name": "stdout",
     "output_type": "stream",
     "text": [
      "Nombre d'Avogadro = 602214076000000000000000\n",
      "1 googol = 10000000000000000000000000000000000000000000000000000000000000000000000000000000000000000000000000000\n",
      "masse de l'électron au repos = 9.109534e-31 kg\n"
     ]
    }
   ],
   "source": [
    "# Proposition de solution\n",
    "\n",
    "n_a = 602214076000000000000000\n",
    "print(\"Nombre d'Avogadro =\", n_a)\n",
    "\n",
    "# Attention\n",
    "# ---------\n",
    "# >>> n_a = int(6.02214076e23)\n",
    "# >>> print(n_a)\n",
    "# 602214075999999987023872\n",
    "#\n",
    "# L'assignation ci-dessus de n_a avec l'entier construit à partir\n",
    "# du flottant littéral 6.02214076e23 génère une erreur d'arrondi.\n",
    "\n",
    "googol = 1_0000000000_0000000000_0000000000_0000000000_0000000000_0000000000_0000000000_0000000000_0000000000_0000000000\n",
    "print(\"1 googol =\", googol)\n",
    "\n",
    "# Note 1:\n",
    "# -------\n",
    "# Les underscores au milieu des nombres littéraux est ignoré par Python.\n",
    "# Cela permet de séparer les chiffres pour une meilleure lisibilité.\n",
    "# Par exemple, 1_000_000_000 est équivalent à 1000000000.\n",
    "#\n",
    "# Note 2:\n",
    "# -------\n",
    "# Python perd en compte les entiers arbitrairement grands, \n",
    "# uniquement limités par la mémoire de l'ordinateur.\n",
    "\n",
    "m_e = 9.109534e-31\n",
    "print(\"masse de l'électron au repos =\", m_e, \"kg\")"
   ]
  },
  {
   "cell_type": "markdown",
   "metadata": {},
   "source": [
    "### 5.2 🟩🞳 Expressions numériques\n",
    "\n",
    "Pour créer des objets de type numériques avec des expressions, le tableau suivant donne les opérateurs qui s'appliquent aux objets de type numérique (les colonnes \"Entiers\", \"Flottants\" et \"Complexes\" indiquent quels types numériques sont pris en compte) :\n",
    "\n",
    "| Opération | Résultat | Entiers   | Flottants | Complexes |\n",
    "|-----------|--------- |-----------|-----------|-----------|\n",
    "| `x + y`   | somme de x et y | ✔ | ✔ | ✔ |\n",
    "| `x - y`   | différence de x et y | ✔ | ✔ | ✔ |\n",
    "| `x * y`   | produit de x et y | ✔ | ✔ | ✔ |\n",
    "| `x / y`   | quotient de x par y, résultat de la division | ✔ | ✔ | ✔ |\n",
    "| `x ** y`  | x à la puissance y | ✔ | ✔ | ✔ |\n",
    "| `-x`      | négatif de x | ✔ | ✔ | ✔ |\n",
    "| `+x`      | x inchangé | ✔ | ✔ | ✔ |\n",
    "| `x // y`  | quotient entier de x par y | ✔ | ✔ |   |\n",
    "| `x % y`   | reste de la division de x par y (1) | ✔ | ✔ |   |\n",
    "| `x \\| y`  | \"ou\" bit à bit de x et y (1) | ✔ |   |   |\n",
    "| `x ^ y`   | \"ou exclusif\" bit à bit de x et y (1) | ✔ |   |   |\n",
    "| `x & y`   | \"et\" bit à bit de x et y (1) | ✔ |   |   |\n",
    "| `x << y`  | x décalé vers la gauche de n bits,<br />équivalent à la multiplication par `pow(2, n)` (1) | ✔ |   |   |\n",
    "| `x >> y`  | x décalé vers la droite de n bits,<br />équivalent à la division par `pow(2, n)` (1) | ✔ |   |   |\n",
    "| `~x`      | les bits de x inversés (1) | ✔ |   |   |\n",
    "\n",
    "(1) Les opérateurs sur le bits sont souvent utilisés pour manipuler des registres de microcontrôleur, en particulier en informatique embarquée, par exemple dans les projets LDD3 108-208.\n",
    "\n",
    "La liste suivante résume les priorités de ces opérateurs, du plus prioritaire (portée la plus courte) au moins prioritaire (portée la plus grande) :\n",
    "- `(expression...)`,\n",
    "- `**` (puissance), \n",
    "- `-x` `+x` `~` (négatif, positif, inversion bit à bit), \n",
    "- `*` `/` `//` `%` (multiplication, division, division entière, reste), \n",
    "- `+` `-` (addition, soustraction), \n",
    "- `<<` `>>` (décalages), \n",
    "- `&` (\"et\" bit à bit), \n",
    "- `^` (\"ou exclusif\" bit à bit), \n",
    "- `|` (\"ou\" bit à bit)\n",
    "\n",
    "Illustration de la notion de priorité des opérateurs avec l'expression `-u ** 1 / 2`. En lisant l'expression de gauche à droite :\n",
    "1. `- u ** 1` -> on applique l'opérateur `-` plus prioritaire que `** `, on peut ainsi remplacer `-u` par `(-u)`\n",
    "2. `(-u) ** 1 / 2` -> on applique l'opérateur `/` plus prioritaire que `**`, on peut ainsi remplacer `1 / 2` par `(1 / 2)`\n",
    "3. `(-u) ** (1 / 2)` -> il ne reste que l'opérateur `**` à appliquer, il sera de fait exécuté en dernier, car il est moins prioritaire."
   ]
  },
  {
   "cell_type": "markdown",
   "metadata": {},
   "source": [
    "### 5.3 🟩🞳 Exercice - Expressions numérique\n",
    "\n",
    "Créer, puis afficher, les variables suivantes à partir d'expressions numériques, toujours en étant vigilant sur l'exactitude de la valeur des objets de type entier :\n",
    "\n",
    "| Nom          | Type     | Description de l'objet | valeur approchée attendue |\n",
    "|--------------|----------|------------------------|:-------------------------:|\n",
    "| `googol`     | entier   | Un 1 suivi de 100 zéros | la valeur exacte est attendue |\n",
    "| `nb_or`      | flottant | Nombre d'or, solution de l'équation $\\phi^2 = \\phi + 1$<br />$$\\phi = \\frac{1 + \\sqrt{5}}{2}$$ | $1.618$ |\n",
    "| `pi_approxi` | flottant | Valeur approchée de $\\pi$<br />$$\\text{pi\\_approxi} = \\frac{4}{1+\\frac{1^2}{2+\\frac{3^2}{2+\\frac{5^2}{2+\\frac{7^2}{3^2}}}}}$$ | $3.14$ |\n",
    "| `psi`        | flottant | Unique solution de l'équation $\\psi^3 = 1 + \\psi$<br /> $$ \\psi = \\sqrt[3]{\\frac{1}{2}+\\frac{\\sqrt{69}}{18}} + \\sqrt[3]{\\frac{1}{2}-\\frac{\\sqrt{69}}{18}} $$ | $1.325$ |"
   ]
  },
  {
   "cell_type": "code",
   "execution_count": 174,
   "metadata": {},
   "outputs": [],
   "source": [
    "# Insérez votre code ici\n"
   ]
  },
  {
   "cell_type": "code",
   "execution_count": 175,
   "metadata": {},
   "outputs": [
    {
     "name": "stdout",
     "output_type": "stream",
     "text": [
      "1 googol = 10000000000000000000000000000000000000000000000000000000000000000000000000000000000000000000000000000\n",
      "nb_or = 1.618033988749895\n",
      "pi_approxi =  3.145238095238095\n",
      "psi =  1.3247179572447458\n"
     ]
    }
   ],
   "source": [
    "# Proposition de solution\n",
    "\n",
    "googol = 10 ** 100\n",
    "print(\"1 googol =\", googol)\n",
    "\n",
    "# Attention\n",
    "# ---------\n",
    "#\n",
    "# >>> googol = int(1e100)\n",
    "# >>> print(googol)\n",
    "# 10000000000000000159028911097599180468360808563945281389781327557747838772170381060813469985856815104\n",
    "#\n",
    "# L'utilisation du flottant littéral 1e100 génère une erreur d'arrondi\n",
    "\n",
    "nb_or = (1 + 5 ** 0.5) / 2\n",
    "print(\"nb_or =\", nb_or)\n",
    "\n",
    "pi_approxi = 4 / (1 + 1**2 / (2 + 3**2 / (2 + 5**2 / (2 + 7**2 / 3**2))))\n",
    "print(\"pi_approxi = \", pi_approxi)\n",
    "\n",
    "psi = ((1/2) + (69)**(1/2)/18) ** (1/3) + ((1/2) - (69)**(1/2)/18) ** (1/3)\n",
    "print(\"psi = \", psi)"
   ]
  },
  {
   "cell_type": "code",
   "execution_count": 176,
   "metadata": {},
   "outputs": [],
   "source": [
    "# test du code précédent à l'execption b_1\n",
    "assert googol == 10000000000000000000000000000000000000000000000000000000000000000000000000000000000000000000000000000, \"La valeur de googol est incorrecte\"\n",
    "assert (nb_or - 1.618033988749895) < 1e-11, \"La valeur de nb_or est incorrecte\"\n",
    "assert (pi_approxi - 3.14159) < 5e-3, \"La valeur de pi_approxi est incorrecte\"\n",
    "assert (psi - 1.324717957244746) < 1e-11, \"La valeur de psi est incorrecte\""
   ]
  },
  {
   "cell_type": "markdown",
   "metadata": {},
   "source": [
    "### 5.4 🟩🞳 Expressions booléennes (1)\n",
    "\n",
    "Pour construire des expressions booléennes, Python propose trois opérateurs booléens `and` (conjonction), `or` (disjonction) et`not` (négation). Ces trois opérateurs sont moins prioritaires que ceux précédemment évoqués, et leur ordre relatif de priorité est du plus prioritaire (portée la plus courte) au moins prioritaire (portée la plus grande) :\n",
    "- `not`\n",
    "- `and` \n",
    "- `or`\n",
    "\n",
    "Lorsqu'ils opèrent sur des booléens, la sémantique de ces trois opérateurs est présentée dans la table de vérité ci-dessous ; elle est conforme aux usages.\n",
    "\n",
    "| Résultat de<br />`exp1` | Résultat de<br />`exp2` | Résultat de<br />`exp1 and exp2` | Résultat de<br />`exp1 or exp2` | Résultat de<br />`not exp1` |\n",
    "|---------|---------|---------|---------|---------|\n",
    "| `True`  | `True`  | `True`  | `True`  | `False` |\n",
    "| `True`  | `False` | `False` | `True`  | `False` |\n",
    "| `False` | `True`  | `False` | `True`  | `True`  |\n",
    "| `False` | `False` | `False` | `False` | `True`  |"
   ]
  },
  {
   "cell_type": "markdown",
   "metadata": {},
   "source": [
    "### 5.5 🟨🞳🞳 Expressions booléennes (2)\n",
    "\n",
    "La particularité de ces opérateurs est qu'ils acceptent tous les types d'objets ! En effet, dans un contexte booléen (là ou Python attent une valeur booléenne), tous les objets peuvent être évalués à une valeur booléenne. Par défaut, un objet `x` est considéré `True` sauf s'il possède la méthode interne `x.__bool()__` qui revoie `False` ou qu'il possède la méthode interne `x.__len()__` qui revoie 0 (objet de \"taille\" nulle). \n",
    "\n",
    "Voici quelques objets natifs considérés comme `False` (évalué à `False` dans un contexte booléen) :\n",
    "- les zéros des types numériques : <br />\n",
    "  `0` (l'entier zéro), <br />\n",
    "  `0.0` (le flottant zéro), <br />\n",
    "  `0j` (le complexe zéro), et évidemment <br />\n",
    "  `False` (le booléen zéro)\n",
    "- les séquences et collections vides : <br />\n",
    "  `\"\"` (la chaine de caractères vide), <br />\n",
    "  `[]` (la liste vide), <br />\n",
    "  `()` (le n-uplet vide), <br />\n",
    "  `{}` (le dictionnaire vide), <br />\n",
    "  `set()` (l'ensemble vide)\n",
    "- l'objet `None`\n",
    "\n",
    "Dans le cas général, la sémantique des opérateurs booléens est :\n",
    "- l'opérateur `and` renvoie l'objet à gauche s'il est évalué à `False`, sinon il renvoie l'objet de droite, même s'il vaut `False`.\n",
    "- l'opérateur `or` renvoie l'objet à gauche s'il est évalué à `True`, sinon il renvoie l'objet à gauche\n",
    "- l'opérateur `not` appliqué à l'objecté `x` renvoie le booléen `not bool(x)`\n",
    "\n",
    "Cela se traduit par le tableau suivant\n",
    "\n",
    "| Résultat de<br />`bool(exp1)` | Résultat de<br />`bool(exp2)` | Résultat de<br />`exp1 and exp2` | Résultat de<br />`exp1 or exp2` | Résultat de<br />`not exp1` |\n",
    "|---------|---------|---------|---------|---------|\n",
    "| `True`  | `True`  | `exp2`  | `exp1`  | `False` |\n",
    "| `True`  | `False` | `exp2`  | `exp1`  | `False` |\n",
    "| `False` | `True`  | `exp1`  | `exp2`  | `True`  |\n",
    "| `False` | `False` | `exp1`  | `exp2`  | `True`  |\n",
    "\n",
    "Exemples :\n",
    "\n",
    "``` python\n",
    "True and True  # donne True (tous les opérandes sont booléens)\n",
    "True and -1  # donne -1\n",
    "True and 0.0  # donne 0.0\n",
    "-1 and True  # donne True\n",
    "0.0 and True  # donne 0.0\n",
    "False and 3.14  # donne False\n",
    "True or False  # donne True\n",
    "True or 1j  # donne True\n",
    "False or 2  # donne 2\n",
    "False or 0.0  # donne 0.0\n",
    "[] or \"Liste vide\"  # donne 'Liste vide'\n",
    "[1, 2] or \"Liste non vide\"  # donne [1, 2]\n",
    "\"\" or \"Chaine vide\"  # donne 'Chaine vide'\n",
    "\"A\" or \"Chaine non vide\"  # donne 'A'\n",
    "not 0  # donne True\n",
    "not 3.14  # donne False\n",
    "not \"\"  # donne True\n",
    "not \"A\"  # donne False\n",
    "not None  # donne True\n",
    "```\n",
    "\n",
    "L'usage le plus courant est la simplification des tests sur les séquences ou collections vides. Cela permet également de construire un objet en fonction de la valeur nulle ou de la longueur nulle d'un autre objet, comme dans le code suivant :"
   ]
  },
  {
   "cell_type": "code",
   "execution_count": 177,
   "metadata": {},
   "outputs": [
    {
     "name": "stdout",
     "output_type": "stream",
     "text": [
      "x est non nul\n"
     ]
    }
   ],
   "source": [
    "x = 1 #\n",
    "propriete_de_x = (not x and \"x est nul\") or \"x est non nul\"\n",
    "print(propriete_de_x) # Affiche \"x est nul\" si x vaut 0, sinon \"x est non nul\""
   ]
  },
  {
   "cell_type": "markdown",
   "metadata": {},
   "source": [
    "### 5.6 🟥🞳🞳🞳 Exercice - Expressions booléennes\n",
    "\n",
    "Créer, puis afficher, la variable `b_1` à partir d'expressions numériques booléennes, toujours en étant vigilant sur l'exactitude de la valeur des objets de type entier :\n",
    "\n",
    "| Nom          | Type     | Description de l'objet | valeurs attendues |\n",
    "|--------------|----------|------------------------|:-------------------------:|\n",
    "| `b_1`        | booléen  | Soit $a \\in \\mathbb{Z}$<br />$$ b_1 = \\left \\{ \\begin{array}{l} \\text{vrai, si } \\; a^2 - 1 \\; \\text{est un multiple de 3} \\; \\\\ \\text{vrai, si } \\; a^3-1 \\; \\text{est un multiple de 5} \\\\ \\text{faux, sinon} \\end{array}\\right . $$ | Quelques valeurs exactes<br />$a = -4 \\implies b_1$ est vrai<br />$a = -3 \\implies b_1$ est faux<br />$a = 0 \\implies b_1$ est faux<br />$a = 1 \\implies b_1$ est vrai<br />$a = 3 \\implies b_1$ est faux<br />$a = 4 \\implies b_1$ est vrai |"
   ]
  },
  {
   "cell_type": "code",
   "execution_count": 178,
   "metadata": {},
   "outputs": [],
   "source": [
    "# Insérez votre code ici\n"
   ]
  },
  {
   "cell_type": "code",
   "execution_count": 179,
   "metadata": {},
   "outputs": [
    {
     "name": "stdout",
     "output_type": "stream",
     "text": [
      "a = -4  ⇒  b_1 = True\n",
      "a = -3  ⇒  b_1 = False\n",
      "a = 0  ⇒  b_1 = False\n",
      "a = 1  ⇒  b_1 = True\n",
      "a = 3  ⇒  b_1 = False\n",
      "a = 4  ⇒  b_1 = True\n"
     ]
    }
   ],
   "source": [
    "# Proposition de solution\n",
    "\n",
    "a = -4\n",
    "# dans un contexte numérique :\n",
    "#     (a**2 - 1) % 3 vaut     0 si a est multiple de 3, sinon 1 ou 2\n",
    "# dans un contexte booléen   \n",
    "#     (a**3 - 1) % 3 vaut False si a est multiple de 3, sinon True\n",
    "b_1 = not bool((a**2 - 1) % 3) or not bool((a**3 - 1) % 5)\n",
    "# le constructeur d'instance bool() n'est pas nécessaire il est là pour la clarté\n",
    "# b_1 = not (a**2 - 1) % 3 or not (a**3 - 1) % 5  # est équivalent\n",
    "print(\"a =\", a, \" ⇒  b_1 =\", b_1)\n",
    "a = -3\n",
    "b_1 = not bool((a**2 - 1) % 3) or not bool((a**3 - 1) % 5)\n",
    "print(\"a =\", a, \" ⇒  b_1 =\", b_1)\n",
    "a = 0\n",
    "b_1 = not bool((a**2 - 1) % 3) or not bool((a**3 - 1) % 5)\n",
    "print(\"a =\", a, \" ⇒  b_1 =\", b_1)\n",
    "a = 1\n",
    "b_1 = not bool((a**2 - 1) % 3) or not bool((a**3 - 1) % 5)\n",
    "print(\"a =\", a, \" ⇒  b_1 =\", b_1)\n",
    "a = 3\n",
    "b_1 = not bool((a**2 - 1) % 3) or not bool((a**3 - 1) % 5)\n",
    "print(\"a =\", a, \" ⇒  b_1 =\", b_1)\n",
    "a = 4\n",
    "b_1 = not bool((a**2 - 1) % 3) or not bool((a**3 - 1) % 5)\n",
    "print(\"a =\", a, \" ⇒  b_1 =\", b_1)"
   ]
  },
  {
   "cell_type": "markdown",
   "metadata": {},
   "source": [
    "### 5.7 🟩🞳 Fonctions natives sur les numériques\n",
    "\n",
    "Le tableau suivant liste les fonctions natives qui retournent un objet numérique\n",
    "\n",
    "| Fonction native   | Résultat | Entiers   | Flottants | Complexes | Booléens |\n",
    "|-------------------|----------|-----------|-----------|-----------|----------|\n",
    "| `abs(x)`          | valeur absolue de x<br />(le module si x est un complexe) | ✔ | ✔ | ✔ | ✔ |\n",
    "| `pow(x, y)`       | x à la puissance y,<br />équivalent à `x ** y` | ✔ | ✔ | ✔ | ✔ |\n",
    "| `pow(x, y, z)`    | x à la puissance y modulo z,<br />équivalent à `pow(x, y) % z`<br />avec x, y, z entier | ✔ | ✔ | ✔ | ✔ |\n",
    "| `round(x)`        | valeur arrondie de x à l'entier le plus proche | ✔ | ✔ |   | ✔ |\n",
    "| `round(x, n)`     | valeur arrondie de x avec une précision<br />de n chiffres après la virgule | ✔ | ✔ |   | ✔ |\n",
    "| `max(x, y, ...)`  | plus grand nombre parmi au moins 2 arguments   | ✔ | ✔ |   | ✔ |\n",
    "| `min(x, y, ...)`  | plus petit nombre parmi au moins 2 arguments   | ✔ | ✔ |   | ✔ |\n",
    "| `all(x, y, ...)`  | `True` si tout les nombres sont `True`         | ✔ | ✔ | ✔ | ✔ |\n",
    "| `any(x, y, ...)`  | `True` si au moins un nombre est `True`        | ✔ | ✔ | ✔ | ✔ |\n",
    "\n",
    "Dans un contexte arithmétique, le booléen `True` est l'entier `1` et le booléen `False` est `0`.<br />\n",
    "Dans un contexte booléen, comme avec `all()` ou `any()`, les numériques nuls valent `False`, les autres valent `True`"
   ]
  },
  {
   "cell_type": "markdown",
   "metadata": {},
   "source": [
    "### 5.8 🟩🞳 Exercice - Fonctions natives sur les numériques\n",
    "\n",
    "On s'intéresse aux trois nombres suivants : \n",
    "\n",
    "$$\n",
    "\\begin{array}{ccc}\n",
    "    n_1 = \\sqrt[12]{16434192740} & \n",
    "    n_2 = \\frac{999436}{140737} & \n",
    "    n_3 = \\frac{28 + \\sqrt{37}}{\\sqrt{23}} &\n",
    "    n_4 = 6 + |1.27^5 - 1.30^3|\n",
    "\\end{array}\n",
    "$$\n",
    "\n",
    "Calculer et afficher $n_1$, $n_2$, $n_3$ et $n_4$ en privilégiant l'utilisation des fonctions natives `pow()` et `abs()`, puis calculer et afficher `n_max`, respectivement `n_min`, le plus grand, respectivement le plus petit, des 4 nombres que l'on arrondira au 3e chiffre après la virgule."
   ]
  },
  {
   "cell_type": "code",
   "execution_count": 180,
   "metadata": {},
   "outputs": [],
   "source": [
    "# Insérez votre code ici\n",
    "\n"
   ]
  },
  {
   "cell_type": "code",
   "execution_count": 181,
   "metadata": {},
   "outputs": [
    {
     "name": "stdout",
     "output_type": "stream",
     "text": [
      "n1 = 7.100883126852442\n",
      "n2 = 7.109142452161588\n",
      "n3 = 7.1067472584515565\n",
      "n4 = 7.1068369407\n",
      "n_max = 7.109\n",
      "n_min = 7.101\n"
     ]
    }
   ],
   "source": [
    "# Proposition de solution\n",
    "\n",
    "n1 = pow(16434192740, 1/12)\n",
    "n2 = 10031/1411\n",
    "n3 = (28 + pow(37, 0.5)) / pow(23, 0.5)\n",
    "n4 = 6 + abs(pow(1.27, 5) - pow(1.30, 3))\n",
    "print(\"n1 =\", n1)\n",
    "print(\"n2 =\", n2)\n",
    "print(\"n3 =\", n3)\n",
    "print(\"n4 =\", n4)\n",
    "\n",
    "n_max = round(max(n1, n2, n3), 3)\n",
    "n_min = round(min(n1, n2, n3), 3)\n",
    "print(\"n_max =\", n_max)\n",
    "print(\"n_min =\", n_min)"
   ]
  },
  {
   "cell_type": "code",
   "execution_count": 182,
   "metadata": {},
   "outputs": [],
   "source": [
    "# Test du code précédent\n",
    "assert n_max == 7.109, \"La valeur de n_max est incorrecte\"\n",
    "assert n_min == 7.101, \"La valeur de n_min est incorrecte\""
   ]
  },
  {
   "cell_type": "markdown",
   "metadata": {},
   "source": [
    "### 5.9 🟩🞳 Méthodes et attributs des numériques\n",
    "\n",
    "Le tableau suivant liste les attributs-données et les attributs-méthodes que possèdent les objets de type numérique.\n",
    "\n",
    "|           | Entiers   | Flottant  | Complexes |\n",
    "|-----------|-----------|-----------|-----------|\n",
    "| Attributs |  | | `c.real`<br>partie réelle du complexe c<br />`c.imag`<br>partie imaginaire du complexe c |\n",
    "| Méthodes  | `n.as_integer_ratio()`<br />Renvoie un couple d'entiers<br />dont le ratio est exactement<br />égal a l'entier n : (n, 1) | `f.as_integer_ratio()`<br />Renvoie un couple d'entiers<br />dont le ratio est exactement<br />égal au flottant f :<br />(numérateur, dénominateur) | `c.conjugate()`<br />Renvoie le conjugué du complexe c |"
   ]
  },
  {
   "cell_type": "markdown",
   "metadata": {},
   "source": [
    "### 5.10 🟩🞳 Exercice - Méthodes et attributs des numériques\n",
    "\n",
    "On s'intéresse à trois objets numériques : \n",
    "- `num1` $= 5^6 \\; \\text{modulo} \\; 11$\n",
    "- `num2` $= 5.6^7$\n",
    "- `num3` $= (-5)^{0.6}$\n",
    "\n",
    "Construire ces trois objets numériques, afficher leur valeur et leur type, pour les entiers et les flottant afficher leur représentation sous la forme (numérateur, dénominateur) avec la methode `as_integer_ratio()`, pour les complexes afficher leur partie réelle, leur partie imaginaire et leur conjugé."
   ]
  },
  {
   "cell_type": "code",
   "execution_count": 183,
   "metadata": {},
   "outputs": [],
   "source": [
    "# Insérez votre code ici\n"
   ]
  },
  {
   "cell_type": "code",
   "execution_count": 184,
   "metadata": {},
   "outputs": [
    {
     "name": "stdout",
     "output_type": "stream",
     "text": [
      "num1 = 5 de type <class 'int'>\n",
      "(num1.numérateur, num1.déniminateur) = (5, 1)\n",
      "num2 = 172709.48495359992 de type <class 'float'>\n",
      "(num2.numérateur, num2.déniminateur) = (2967126358338863, 17179869184)\n",
      "mum3 = (-0.8116417277590816+2.4979763836086053j) de type <class 'complex'>\n",
      "partie réelle de num3 = -0.8116417277590816\n",
      "partie imaginaire de num3 = 2.4979763836086053\n",
      "conjugé de num3 = (-0.8116417277590816-2.4979763836086053j)\n"
     ]
    }
   ],
   "source": [
    "# Proposition de solution\n",
    "\n",
    "num1 = pow(5, 6, 11)\n",
    "print(\"num1 =\", num1, \"de type\", type(num1))\n",
    "print(\"(num1.numérateur, num1.déniminateur) =\", num1.as_integer_ratio())\n",
    "num2 = pow(5.6, 7)\n",
    "print(\"num2 =\", num2, \"de type\", type(num2))\n",
    "print(\"(num2.numérateur, num2.déniminateur) =\", num2.as_integer_ratio())\n",
    "num3 = pow(-5, 0.6)\n",
    "print(\"mum3 =\", num3, \"de type\", type(num3))\n",
    "print(\"partie réelle de num3 =\", num3.real)\n",
    "print(\"partie imaginaire de num3 =\", num3.imag)\n",
    "print(\"conjugé de num3 =\", num3.conjugate())"
   ]
  },
  {
   "cell_type": "markdown",
   "metadata": {},
   "source": [
    "### 5.11 🟩🞳 Comparaisons de valeurs numériques\n",
    "\n",
    "Python propose six opérateurs pour comparer la valeur de deux objets `<`, `>`, `==`, `>=`, `<=` et `!=` qui permet de construire des expressions de comparaison. Les objets n'ont pas besoin d'être du même type.\n",
    "\n",
    "- `x == y` test d'égalité, renvoie `True` si la valeur de `x` est égale à la valeur de `y`, sinon `False`\n",
    "- `x != y` test d'inégalité, renvoie `True` si la valeur de `x` est différente de la valeur de `y`, sinon `False`\n",
    "- `x > y`, test de supériorité stricte, renvoie `True` si la valeur de `x` est strictement supérieure de la valeur de `y`, sinon `False`\n",
    " `x >= y`, test de supériorité, renvoie `True` si la valeur de `x` est supérieure ou égale de la valeur de `y`, sinon `False`\n",
    "- `x < y`, test d'infériorité stricte, renvoie `True` si la valeur de `x` est strictement inférieure de la valeur de `y`, sinon `False`\n",
    " `x <= y`, test d'infériorité, renvoie `True` si la valeur de `x` est inférieure ou égale de la valeur de `y`, sinon `False`\n",
    "\n",
    "Exemples :\n",
    "\n",
    "``` python\n",
    "n1 = 3  # l'entier 3 est assigné au nom variable n1\n",
    "n2 = 5  # l'entier 5 est assigné au nom variable n2\n",
    "\n",
    "n1 == 3  # test si la valeur de l'objet n1 est égale à 3, renvoie True\n",
    "n2 == 4  # test si la valeur de l'objet n2 est égale à 3, renvoie False\n",
    "n1 != n2  # test si la valeur de n1 est différente de celle de n2, renvoie True\n",
    "n1 < n2  # test si la valeur de n1 est strictement inférieure à celle de n2, renvoie True\n",
    "n1 < 3 # test si la valeur de n1 est strictement inférieure à 3, renvoie False\n",
    "n1 <= 3 # test si la valeur de n1 est inférieure ou égale à 3, renvoie True\n",
    "n1 > n2  # test si la valeur de n1 est strictement supérieure à celle de n2, renvoie False\n",
    "n2 >= 5  # test si la valeur de n2 est supérieure ou égale à 5, renvoie True\n",
    "```\n",
    "\n",
    "Les opérateurs de comparaisons ont tous la même priorité (particularité de Python) et ils sont moins prioritaires que les opérateurs arithmétiques et ils sont plus prioritaires que les opérateurs booléens. La liste suivante résume les priorités de ces opérateurs, du plus prioritaire (portée la plus courte) au moins prioritaire (portée la plus grande).\n",
    "\n",
    "- `(expression...)`\n",
    "- opérateurs arithmétiques :`**` (puissance), `-x` `+x` `~x` (négatif, positif, inversion bit à bit), `*` `/` `//` `%` (multiplication, division, division entière, reste), `+` `-` (addition, soustraction), `<<` `>>` (décalages), `&` (\"et\" bit à bit) et `^` (\"ou exclusif\" bit à bit), `|` (\"ou\" bit à bit)\n",
    "- **opérateurs de comparaison de valeur** : `<`, `>`, `==`, `>=`, `<=` et `!=`\n",
    "- opérateurs booléens : `not`, `and` et `or`\n",
    "\n",
    "Ainsi les deux expressions suivantes sont équivalentes, car les opérations arithmétiques `*` et `**` sont exécutées en priorité sur l'opérateur `==` de comparaison.\n",
    "\n",
    "```python \n",
    "5 ** 2 == 5 * 5  # donne True\n",
    "(5 ** 2) == (5 * 5)  # donne True\n",
    "```\n",
    "\n",
    "De même, les deux expressions suivantes sont équivalentes, car l'opération de comparaison `==` est exécutée en priorité sur l'opérateur booléen `or`.\n",
    "\n",
    "``` python\n",
    "True or False == False  # donne False\n",
    "True or (False == False)  # donne False\n",
    "```\n",
    "\n",
    "Les comparaisons peuvent être enchainées les une après les autres, par exemple `x < y <= z`\n",
    "\n",
    "Syntaxe : `exp_1 op_1 exp_2 op_2 ... op_n-1 exp_n` où `exp_i` sont des expressions valides donnant un objet Python et où `op_i` est un des opérateurs de comparaison `<`, `>`, `==`, `>=`, `<=` ou `!=` <br />\n",
    "Sémantique : la comparaison enchainée est équivalente à l'expression booléenne `(exp_1 op_1 exp_2) and (exp2 op_2 exp_3) and ... (exp_n-1 op_n-1 exp_n)` sauf que les `exp_i` sont évaluées au plus une fois (gain de performance).\n",
    "\n",
    "Exemple\n",
    "\n",
    "``` python\n",
    "0 <= n <= 5  # renvoie True si n est compris entre 0 et 5, sinon False\n",
    "0 < n != 5  # renvoie True si n est strictement positif et différent 5, sinon False\n",
    "```"
   ]
  },
  {
   "cell_type": "markdown",
   "metadata": {},
   "source": [
    "### 5.12 🟩🞳 Exercices - Comparaisons\n",
    "\n",
    "On s'intéresse à deux domaines du plan x0y\n",
    "- Dom1 : le disque (circonférence exclue) de rayon égal à $1$ et de centre $C$ de coordonnées $C(x_c=1, y_c=0)$,\n",
    "- Dom2 : le carré (contour inclus) passant par les points $M$, $N$, $Q$ et $R$ de coordonnées \n",
    "  - $A(x_a=-1, y_a=0)$, \n",
    "  - $B(x_b=0, x_b=-1)$, \n",
    "  - $C(x_c=1, x_c=0)$, \n",
    "  - $D(x_d=0, x_d=1)$.\n",
    "\n",
    "et à un point P quelconque coordonnées $(x_p, y_p)$\n",
    "\n",
    "<img src=\"img/BE1_comparaison.png\" style=\"width:420px;\" />\n",
    "\n",
    "Coder avec une expression de comparaison, l'appartenance d'un point $P$ quelconque coordonnées $P(x_p, y_p)$\n",
    "- au domaine Dom1\n",
    "- au dommaine Dom2\n",
    "- au domaine Dom1 mais pas au domaine Dom2 : Dom1 - Dom2\n",
    "- au domaine Dom1 et Dom2 mais sans appartenir aux deux : (Dom1 ∪ Dom2) - (Dom1 ∩ Dom2)"
   ]
  },
  {
   "cell_type": "code",
   "execution_count": 185,
   "metadata": {},
   "outputs": [],
   "source": [
    "# Différents points à tester\n",
    "x_p, y_p = 0.9, 0.9  # dans D1 et pas dans D2\n",
    "# x_p, y_p = 0.4, -0.3  # dans D1 et dans D2\n",
    "# x_p, y_p = -0.6, -0.6  # ni dans D1 ni dans D2\n",
    "# x_p, y_p = 0.1, 0.6  # dans D2 et pas dans D1\n",
    "# x_p, y_p = 0, 0  # dans D2 et pas dans D1\n",
    "\n",
    "# Insérez votre code ici\n"
   ]
  },
  {
   "cell_type": "code",
   "execution_count": 186,
   "metadata": {},
   "outputs": [
    {
     "name": "stdout",
     "output_type": "stream",
     "text": [
      "P(0.9, 0.9) = dans Dom1 : True\n",
      "P(0.9, 0.9) = dans Dom2 : False\n",
      "P(0.9, 0.9) = dans Dom1 - Dom2 : True\n",
      "P(0.9, 0.9) = dans (Dom1 ∪ Dom2) - (Dom1 ∩ Dom2) : False\n"
     ]
    }
   ],
   "source": [
    "# Proposition de solution\n",
    "# \n",
    "# # Différents points à tester\n",
    "x_p, y_p = 0.9, 0.9  # dans D1 et pas dans D2\n",
    "# x_p, y_p = 0.4, -0.3  # dans D1 et dans D2\n",
    "# x_p, y_p = -0.6, -0.6  # ni dans D1 ni dans D2\n",
    "# x_p, y_p = 0.1, 0.6  # dans D2 et pas dans D1\n",
    "# x_p, y_p = 0, 0  # dans D2 et pas dans D1\n",
    "\n",
    "x_a, y_a = -1, 0\n",
    "x_b, y_b = 0, -1\n",
    "x_c, y_c = 1, 0\n",
    "x_d, y_d = 0, 1\n",
    "\n",
    "Dom1 = (x_p - x_c)**2 + (y_p - y_c)**2 < 1\n",
    "# équation du demi plan de frontière droite (CD) incluant B : y + x - 1 <= 0\n",
    "# équation du demi plan de frontière droite (DA) incluant C : y - x - 1 <= 0\n",
    "# équation du demi plan de frontière droite (AB) incluant D : y + x + 1 >= 0\n",
    "# équation du demi plan de frontière droite (BC) incluant A : y - x + 1 >= 0\n",
    "Dom2 = (\n",
    "    (y_p + x_p - 1 <= 0)\n",
    "    and (y_p - x_p - 1 <= 0)\n",
    "    and (y_p + x_p + 1 >= 0)\n",
    "    and (y_p - x_p + 1 >= 0)\n",
    ")\n",
    "\n",
    "print(f\"P({x_p}, {y_p}) = dans Dom1 :\", Dom1)\n",
    "print(f\"P({x_p}, {y_p}) = dans Dom2 :\", Dom2)\n",
    "print(f\"P({x_p}, {y_p}) = dans Dom1 - Dom2 :\", Dom1 and not Dom2)\n",
    "print(\n",
    "    f\"P({x_p}, {y_p}) = dans (Dom1 ∪ Dom2) - (Dom1 ∩ Dom2) :\", \n",
    "    (Dom2 or Dom1) and (Dom1 and Dom2),\n",
    ")"
   ]
  },
  {
   "cell_type": "markdown",
   "metadata": {},
   "source": [
    "### 5.13 🟥🞳🞳🞳 Expressions conditionelles\n",
    "\n",
    "Les expressions conditionnelles (parfois appelées *opérateur ternaire*) sont les moins prioritaires de toutes les opérations Python. Elle renvoie un objet Python qui dépend d'une condition.\n",
    "\n",
    "Syntaxe : `expression_si_vrai if condition else expression_si_faux` <br />où `expression_si_vrai`\n",
    "Sémentique : l'expression conditionnelle commence par évaluer la `condition` (dans un contexte booléen). Si `condition` est vrai, alors `expression_si_vrai` est évaluée et sa valeur est renvoyée, sinon, `expression_si_faux` est évaluée et sa valeur est renvoyée.\n",
    "\n",
    "Exemple :\n",
    "\n",
    "``` Python\n",
    "age = 23\n",
    "\"Mineur\" if age < 18 else \"Majeur\" # donne 'Majeur'\n",
    "age = 11\n",
    "\"Mineur\" if age < 18 else \"Majeur\" # donne 'Mineur'\n",
    "```\n",
    "\n",
    "Les expressions `expression_si_vrai` et `expression_si_faux` peuvent elles-mêmes être des expessions conditionnelles (ne pas en abuser pour garder de la lisibilité au code), exemple d'une expression conditionnelle qui renvoie la catégorie à laquelle appartient un individu dans les sports de voiles selon son age:\n",
    "\n",
    "``` Python\n",
    "age = 66\n",
    "\"jeune\" if age <= 25 else \"senior\" if age <= 65 else \"vétéran\"  # donne 'vétéran'\n",
    "```\n"
   ]
  },
  {
   "cell_type": "markdown",
   "metadata": {},
   "source": [
    "### 5.14 🟥🞳🞳🞳 Exercice - Expressions conditionnelles\n",
    "\n",
    "Soit deux matrices : $I_4$, la matrice identité 4x4 et $T_{4,sup}$, une matrice triangulaire supérieure. On note $e_{lig, col}$ l'élément d'une matrice à l'intersection de sa ligne `lig` et de sa colonne `col`. \n",
    "\n",
    "$$\n",
    "\\begin{array}{cc}\n",
    "    I_4 = \\left ( \n",
    "        \\begin{array}{ccc}\n",
    "            1 & 0 & 0 & 0 \\\\\n",
    "            0 & 1 & 0 & 0 \\\\\n",
    "            0 & 0 & 1 & 0 \\\\\n",
    "            0 & 0 & 0 & 1 \\\\\n",
    "        \\end{array}\n",
    "    \\right )\n",
    "&\n",
    "    \\quad T_{4,sup} = \\left ( \n",
    "        \\begin{array}{ccc}\n",
    "            1 & 1 & 1 & 1 \\\\\n",
    "            0 & 1 & 1 & 1 \\\\\n",
    "            0 & 0 & 1 & 1 \\\\\n",
    "            0 & 0 & 0 & 1 \\\\\n",
    "        \\end{array}\n",
    "    \\right )\n",
    "\\end{array}\n",
    "$$\n",
    "\n",
    "Pour chacune des matrices, coder par une expression conditionnelle, une expression qui le tourne la valeur de l'élément de la matrice en fonction de sa position `lig`, `col`. Les premières colonnes et les premières lignes sont numérotées par `1`."
   ]
  },
  {
   "cell_type": "code",
   "execution_count": 187,
   "metadata": {},
   "outputs": [],
   "source": [
    "lig, col = 1, 1  # <== à modifier pour tester d'autres valeurs\n",
    "# Insérez votre code ici\n"
   ]
  },
  {
   "cell_type": "code",
   "execution_count": 188,
   "metadata": {},
   "outputs": [
    {
     "name": "stdout",
     "output_type": "stream",
     "text": [
      "e_1_1 de I4 = 1\n",
      "e_1_1 de T4sup = 1\n"
     ]
    }
   ],
   "source": [
    "lig, col = 1, 1  # <== à modifier pour tester d'autres valeurs\n",
    "\n",
    "# Proposition de solution\n",
    "e_I4 = 1 if lig == col else 0\n",
    "print(f\"e_{lig}_{col} de I4 = {e_I4}\")\n",
    "\n",
    "e_T4sup = 1 if lig <= col else 0\n",
    "print(f\"e_{lig}_{col} de T4sup = {e_T4sup}\")"
   ]
  },
  {
   "cell_type": "markdown",
   "metadata": {},
   "source": [
    "### 5.15 🟨🞳🞳 Élargissement du type numérique dans une expression\n",
    "\n",
    "Le langage Python gère pleinement l'arithmétique de types numériques mixtes. Cela signifie qu'une expression comme `obj_num_1 + obj_num_2` est évaluée sans problème quelque soit le type numérique de base des deux objets `obj_num_1` et `obj_num_2`.\n",
    "\n",
    "Lorsqu'un opérateur arithmétique binaire possède des opérandes de types numériques différents, l'opérande de type le plus « étroit » est élargi à celui de l'autre. Dans ce système, l'entier est plus « étroit » que le flottant, qui est plus « étroit » que le complexe.\n",
    "\n",
    "Exemples :\n",
    "\n",
    "``` python\n",
    "n = 123  # un entiers \n",
    "f = 1.23  # un flottant \n",
    "fp = 1.23  # un flottant positif\n",
    "fn = -1.23  # un flottant négatif\n",
    "c = 1 + 2j  # un complexe\n",
    "\n",
    "n + f  # n est \"élargi\" en flottant, puis addition de deux flottants\n",
    "n * c  # n est \"élargi\" en complexe, puis addition de deux complexes\n",
    "n ** f  #n est \"élargi\" en flottant, puis addition de deux flottants\n",
    "fp ** f  # aucun élargissement, exponentiation de deux flottants\n",
    "fn ** f  # fn et f sont \"élargis\" en complexes, puis exponentiation de deux complexes\n",
    "```\n",
    "\n",
    "Si un nombre booléen apparait dans une expression arithmétique, il est remplacer par un entier\n",
    "- `1` pour le booléen `True` et\n",
    "- `0` pour le booléen `False`.\n",
    "\n",
    "Exemples :\n",
    "\n",
    "``` python\n",
    "2 + True  # True est remplacé par 1 et la somme donne l'entier 3\n",
    "5 * False  # False est remplacé par 0 et le produit donne l'entier 0\n",
    "3 / True  # True est remplacé par 1, les deux entier sont élargie en flottant,\n",
    "          # puis la division (non entière) donne le flottant 3.0\n",
    "```"
   ]
  },
  {
   "cell_type": "markdown",
   "metadata": {},
   "source": [
    "### 5.16 🟨🞳🞳 Exercice - Élargissement du type numérique dans une expression\n",
    "\n",
    "Pour mettre en évidence les avantages de l'élargissement automatique des types numériques, nous allons calculer les solutions de l'équation du 2d degré suivante :\n",
    "\n",
    "$$a.x^2 + b.x + c = 0$$\n",
    "\n",
    "Les deux solutions de cette équation sont :\n",
    "\n",
    "$$x_1 = \\frac{-b+\\sqrt{b^2-4ac}}{2a} \\;\\; \\text{et} \\;\\; x_2 = \\frac{-b-\\sqrt{b^2-4ac}}{2a}$$\n",
    "\n",
    "Calculer $x_1$ et $x_2$ pour les valeurs de a, b et c du tableau ci-dessous dans la cellule de code suivante, et compléter le tableau de résultat dans la cellule qui suit le code. Dans la colonne \"commentaires\" indiquer quels types d'élargissements ont été faits.\n",
    "\n",
    "|            |    a  |    b  |    c  |\n",
    "|------------|------:|------:|------:|\n",
    "| Équation 1 |     1 |    -3 |     2 |\n",
    "| Équation 2 |     1 |     2 |     1 |\n",
    "| Équation 3 |     1 |     2 |     2 |"
   ]
  },
  {
   "cell_type": "code",
   "execution_count": 189,
   "metadata": {},
   "outputs": [
    {
     "name": "stdout",
     "output_type": "stream",
     "text": [
      "x1 = 1\n",
      "x2 = 1\n"
     ]
    }
   ],
   "source": [
    "# Modifier et compléter le code ci-dessous\n",
    "\n",
    "# Données d'entrée a, b, c\n",
    "a = 1  # <--- Modifier la valeur de a\n",
    "b = 1  # <--- Modifier la valeur de b\n",
    "c = 1  # <--- Modifier la valeur de c\n",
    "\n",
    "# Calcul des racines de l'équation ax^2 + bx + c = 0\n",
    "x_1 = 1  # <--- Modifier la valeur de x_1 avec une expression correcte\n",
    "x_2 = 1  # <--- Modifier la valeur de x_2 avec une expression correcte\n",
    "\n",
    "# Affichage des solutions calculées\n",
    "print(\"x1 =\", x_1)\n",
    "print(\"x2 =\", x_2)"
   ]
  },
  {
   "cell_type": "markdown",
   "metadata": {},
   "source": [
    "Compilation des résultats\n",
    "\n",
    "|            |    a  |    b  |    c  |     x_1 |     x_1 | Commentaires |\n",
    "|------------|------:|------:|------:|--------:|--------:|--------------|\n",
    "| Équation 1 |     1 |    -3 |     2 |         |         |              |\n",
    "| Équation 2 |     1 |     2 |     1 |         |         |              |\n",
    "| Équation 3 |     1 |     2 |     2 |         |         |              |"
   ]
  },
  {
   "cell_type": "code",
   "execution_count": 190,
   "metadata": {},
   "outputs": [
    {
     "name": "stdout",
     "output_type": "stream",
     "text": [
      "x1 = (-0.9999999999999999+1j)\n",
      "x2 = (-1-1j)\n"
     ]
    }
   ],
   "source": [
    "# Proposition de solution\n",
    "\n",
    "# Données d'entrée a, b, c\n",
    "a = 1\n",
    "b = 2\n",
    "c = 2\n",
    "\n",
    "# Calcul des racines de l'équation ax^2 + bx + c = 0\n",
    "delta = (b ** 2) - (4 * a * c)  # Calcul du discriminant\n",
    "x_1 = (-b + delta ** 0.5) / (2 * a) \n",
    "x_2 = (-b - delta ** 0.5) / (2 * a) \n",
    "\n",
    "# Affichage des solutions calculées\n",
    "print(\"x1 =\", x_1)\n",
    "print(\"x2 =\", x_2)"
   ]
  },
  {
   "cell_type": "markdown",
   "metadata": {},
   "source": [
    "% Proposition de solution\n",
    "\n",
    "<span style=\"color:FireBrick;\" > \n",
    "\n",
    "Compilation des résultats : proposition de solution\n",
    "\n",
    "|            |    a  |    b  |    c  |     x_1 |     x_1 | Commentaires |\n",
    "|------------|------:|------:|------:|--------:|--------:|--------------|\n",
    "| Équation 1 |     1 |    -3 |     2 |    2.0  |    1.0  |  élargissement au type flottant effectué |\n",
    "| Équation 2 |     1 |     2 |     1 |   -1.0  |   -1.0  |  élargissement au type flottant effectué |\n",
    "| Équation 3 |     1 |     2 |     2 |  -1+1j  |  -1-1j  |  élargissement au type complexe effectué |\n",
    "\n",
    "</span>"
   ]
  },
  {
   "cell_type": "markdown",
   "metadata": {},
   "source": [
    "### 5.17 🟥🞳🞳🞳 Précision avec le type numérique entier\n",
    "\n",
    "Les nombres entiers n'ont pas de limite théorique ; le nombre de chiffres d'un entier est aussi grand que le permet la mémoire disponible pour l'interpréteur Python. Cela permet de faire des calculs exacts (pas d'arrondi, pas de saturation) tant qu'on utilise des opérateurs qui préservent le type des nombres entiers, c'est-à-dire pas d'élargissement au type flotant ou au type complex des opérandes.\n",
    "\n",
    "Les opérateurs qui préservent le type des nombres entiers sont listés dans le tableau ci-dessous\n",
    "\n",
    "| $+ / -$   | $\\times / \\div$  | logique  | décalage |\n",
    "|:---------:|:----------------:|:--------:|:--------:|\n",
    "|  `x + y`  | `x * y`          | `x \\| y` | `x >> y` |\n",
    "|  `x - y`  | `x // y`         | `x ^ y`  | `x << y` |\n",
    "|     `-x`  | `x % y`          | `x & y`  |          |\n",
    "|     `+x`  |                  |  `~x`    |          |\n",
    "\n",
    "\n",
    "L'opérateur exponentiation `x ** y` (équivalent à `pow(x, y)`) préserve le type entier seulement si `y` est un entier positif.\n",
    "\n",
    "Remarque : La division \"classique\" `x / y` ne préserve pas le type entier et élargit les opérandes au type flottant."
   ]
  },
  {
   "cell_type": "markdown",
   "metadata": {},
   "source": [
    "### 5.18 🟥🞳🞳🞳 Exercice - Précision avec le type numérique entier\n",
    "\n",
    "Calculer et afficher `somme`, la somme du nombre d'Avogadro dont la valeur exacte est $6.022 140 76 \\times 10^{23}$ et d'un googol (un 1 suivi de 100 zéros), puis calculer et afficher la valeur exacte du quotient `q` et du reste `r` de la division d'un googol par le nombre d'Avogadro\n",
    "\n",
    "$$ 1 \\, \\text{googol} = q \\times N_a + r$$ \n",
    "\n",
    "où 1 googol est l'entier formé d'un 1 suivi de 100 zéros, et $N_a = 6.022 140 76 \\times 10^{23}$\n",
    "\n",
    "Le calcul et l'affichage devront préserver la valeur exacte du résultat, c'est-à-dire sans d'écart entre la valeur attendue et la valeur stockée/manipulée par l'interpréteur Python."
   ]
  },
  {
   "cell_type": "code",
   "execution_count": null,
   "metadata": {},
   "outputs": [
    {
     "name": "stdout",
     "output_type": "stream",
     "text": [
      "10000000000000000000000000000000000000000000000000000000000000000000000000000602214076000000000000000\n",
      "1 googol = 16605390671738466637900373487782773114722080989684472270621585404456736743562 x 602214076000000000000000 + 561221288000000000000000\n"
     ]
    }
   ],
   "source": [
    "# Insérez votre code ici\n",
    "\n"
   ]
  },
  {
   "cell_type": "code",
   "execution_count": null,
   "metadata": {},
   "outputs": [],
   "source": [
    "# Proposition de solution\n",
    "\n",
    "n_a = 602214076000000000000000\n",
    "googol = 10 ** 100\n",
    "\n",
    "somme = n_a + googol\n",
    "print(somme)\n",
    "\n",
    "q = googol // n_a\n",
    "r = googol % n_a\n",
    "print(\"1 googol =\", q, \"x\", n_a, \"+\", r)"
   ]
  },
  {
   "cell_type": "code",
   "execution_count": 192,
   "metadata": {},
   "outputs": [],
   "source": [
    "# Test du code précédent\n",
    "assert type(somme) is int, \"Le type de s1 est incorrect pour une valeur exacte\"\n",
    "assert somme == 10000000000000000000000000000000000000000000000000000000000000000000000000000602214076000000000000000, \"La valeur de s1 est incorrecte\"\n",
    "assert type(q) is int, \"Le type de q est incorrect pour une valeur exacte\"\n",
    "assert q == 16605390671738466637900373487782773114722080989684472270621585404456736743562, \"La valeur de q est incorrecte\"\n",
    "assert type(r) is int, \"Le type de r est incorrect pour une valeur exacte\"\n",
    "assert r == 561221288000000000000000, \"La valeur de r est incorrecte pour une valeur exacte\""
   ]
  },
  {
   "cell_type": "markdown",
   "metadata": {},
   "source": [
    "### 5.19 🟥🞳🞳🞳 Précision de la représentation en numérique flottant\n",
    "\n",
    "Les nombres à virgule flottante s'expriment sous la forme suivante :\n",
    "\n",
    "$$\\text{signe} \\times \\text{mantisse} \\times \\text{base}^{\\text{exposant}}$$\n",
    "\n",
    "où\n",
    "- $\\text{signe}$ vaut $1$ ou $-1$, \n",
    "- $\\text{mantisse}$ est un entier positif, \n",
    "- $\\text{base}$ est un entier positif fixé à l'avance (généralement base 2 en informatique) et \n",
    "- $\\text{exposant}$ un entier relatif\n",
    "\n",
    "Exemple :  $1234.56$ peut se représenter sous la forme $+1 \\times 1.23456 \\times 10^3$ en base 10.\n",
    "\n",
    "Dans un objet de type numérique à virgule flottante (`float`), Python mémorise le signe, la mantisse et l'exposant avec deux limites :\n",
    "- un nombre limité de chiffres utilisables dans la mantisse (limite du nombre de chiffres significatifs du flottant)\n",
    "- un nombre limité de chiffres utilisables dans l'exposant (limite supérieure et inférieure de la valeur absolue du flottant)\n",
    "\n",
    "Pour simplifier illustration de ces limites sur trois exemples, on choisi de représenter les flottants (mantisse et exposant) en base 10 et de limiter le nombre de chiffres de la mantisse à 7 et que celui de l'exposant à 2, alors\n",
    "- $1234.56$ sera représenté de manière exacte par le flottant $+1 \\times 1.23456 \\times 10^3$.<br />*Ici, il n'y a pas d'écart entre la valeur souhaitée et la valeur stockée dans un type flottant*.\n",
    "- $1234567890000.0$ sera représenté de manière approchée par le flottant $+1 \\times 1.234567 \\times 10^{12}$ (par manque de chiffres significatifs dans la mantisse, les 8e et 9e chiffres significatifs sont ignorés). L'écart absolu entre la valeur souhaitée et la valeur stockée est $1234567890000.0 - 1.234567 \\times 10^{12} = 7890000.0$, soit un écart relatif de $6.4 \\times 10^{-5} \\;\\%$.<br />*Ici, il y a un écart entre la valeur souhaitée et la valeur stockée dans un type flottant par manque de chiffres significatifs dans la mantisse*.\n",
    "- $1.23 \\times 10^{321}$ ne pourra pas être représenté par un flottant, même avec une valeur approchante (trop de chiffres dans l'exposant). Un flottant avec une mantisse de 7 chiffres et un exposant de 2 chiffres doit être compris entre $0.000001 \\times 10^{-99}$ et $9.999999 \\times 10^{99}$. Python dispose de deux flottants supplémentaires `inf` ou `-inf` qui représenter les nombres dont d'exposant est au-delà de sa limite. Ces flottants peuvent s'obtenir par le constructeur d'instances `float()` par `float(\"inf\")` et `float(\"-inf\")`.<br />*Ici, il y a un écart entre la valeur souhaitée et la valeur stockée dans un type flottant par manque de chiffres significatifs dans l'exposant*\n",
    "\n",
    "En résumé :\n",
    "\n",
    "| nombre à représenter            | représentation en nombre à virgule flottante           |\n",
    "|---------------------------------|--------------------------------------------------------|\n",
    "| $n \\in \\mathbb{Z}$              | - exacte si le nombre de chiffres de la mantisse est suffisant<br />- approchée si le nombre de chiffres de la mantisse est insuffisant<br />- approchée à `inf` ou `-inf` si le nombre de chiffres de l'exposant est insuffisant |\n",
    "| $q \\in \\mathbb{Q}-\\mathbb{Z}$   | - exacte si le nombre de chiffres de la mantisse et de l'exposant sont suffisants<br />- approchée si le nombre de chiffres de la mantisse est insuffisant<br />- approchée à `inf` ou `-inf` si l'exposant est positif et que son nombre de chiffres est insuffisant<br />- approchée à 0.0 si l'exposant est négatif et que son nombre de chiffres est insuffisant |\n",
    "| $x \\in \\mathbb{R}-\\mathbb{Q}$   | - toujours approchée car les nombres irrationnels n'admettent pas une représentation finie en nombre flottant |\n",
    "\n",
    "Remarque :\n",
    "\n",
    "Python utilise la base 2 pour représenter les flottants (mantisse et exposant). Malgré les apparences, un nombre comme $0.1$ (un dixième en base 10) n'est pas un \"nombre rond\" en base 2\n",
    "\n",
    "| base | flottant $0.1_{10}$ |\n",
    "|:----:|---------------------|\n",
    "| 10   | $+1 \\times 1.0_{(10)} \\times 10_{(10)}^{-1_{(10)}}$<br />signe : $+1$<br />mantisse : $1.0_{(10)}$<br />exposant : $-1_{(10)}$  |\n",
    "| 2    | $+1 \\times 1.1001100110011001100110011001100110011001100110011010_{(2)} \\times 10_{(2)}^{-100_{(2)}}$<br />signe : +1<br />mantisse : $1.1001100110011001100110011001100110011001100110011010_{(2)}$<br />exposant : $+100_{(2)}$"
   ]
  },
  {
   "cell_type": "markdown",
   "metadata": {},
   "source": [
    "La méthode `as_integer_ratio()` appliquée à un nombre flottant permet de mettre en évidence l'erreur d'approximation due à la représentation avec mantisse en base 2. Elle renvoie la valeur interne du flottant auquel elle est appliquée, sous la forme du couple (numérateur, dénominateur), elle permet de voir l'écart entre la valeur attendue et la valeur réellement stockée dans l'objet.\n",
    "\n",
    "``` python\n",
    "(1/4).as_integer_ratio()  # renvoie (1, 4) => pas d'erreur d'arrondi\n",
    "(0.1).as_integer_ratio()  # renvoie (3602879701896397, 36028797018963968) \n",
    "                          # => écart d'arrondi, en effet 0.1 ne s'exprime\n",
    "                          #    pas avec une mantisse finie en base 2\n",
    "(1/3).as_integer_ratio()  # renvoie (6004799503160661, 18014398509481984) \n",
    "                          # => écart d'arrondi, en effet un tier ne s'exprime\n",
    "                          #    pas avec une mantisse finie en base 2\n",
    "```"
   ]
  },
  {
   "cell_type": "markdown",
   "metadata": {},
   "source": [
    "### 5.20 🟥🞳🞳🞳 Exercice - Précision de la représentation en numérique flottant\n",
    "\n",
    "On s'intéresse à l'écart éventuel entre un nombre et sa représentation en nombre flottant informatique avec Python, et l'effet de cet écart sur le résultat d'une expression arithmétique simple.\n",
    "\n",
    "Soit deux nombres $\\alpha$ et $\\beta$ choisis de façon à ce que l'expression $10 \\alpha - \\beta$, donne zéro. Par exemple $\\alpha = 1$ et $\\beta = 10$ donne `expr` $= 10 \\times 1 - 10 = 0$\n",
    "\n",
    "Dans le code Python ci-après\n",
    "1. on construit un flottant de valeur $\\alpha$ et on l'assigne au nom `a`\n",
    "2. on construit un flottant de valeur $\\beta$ et on l'assigne au nom `b`\n",
    "3. on évalue l'expression `a + a + a + a + a + a + a + a + a + a - b` et on l'assigne au nom `expr`\n",
    "4. les valeurs stockée de `a`, `b` et `expr` sont affichées sous la forme d'un ratio numérateur/dénominateur"
   ]
  },
  {
   "cell_type": "code",
   "execution_count": 193,
   "metadata": {},
   "outputs": [
    {
     "name": "stdout",
     "output_type": "stream",
     "text": [
      "(a numérateur, a dénominateur) = (1, 1)\n",
      "(b numérateur, b dénominateur) = (10, 1)\n",
      "(expr numérateur, expr dénominateur) = (0, 1)\n",
      "expression = 0.0\n"
     ]
    }
   ],
   "source": [
    "a = float(1)  # assignation à modifier\n",
    "b = float(10)  # assignation à modifier\n",
    "\n",
    "expr = a + a + a + a + a + a + a + a + a + a - b\n",
    "\n",
    "# Affiche le représentation sous forme de ratio de a, b et expression\n",
    "print(\"(a numérateur, a dénominateur) =\", a.as_integer_ratio())\n",
    "print(\"(b numérateur, b dénominateur) =\", b.as_integer_ratio())\n",
    "print(\"(expr numérateur, expr dénominateur) =\", expr.as_integer_ratio())\n",
    "print(\"expression =\", expr)"
   ]
  },
  {
   "cell_type": "markdown",
   "metadata": {},
   "source": [
    "En modifiant les assignations de `a` et `b` dans le code précédant et selon le tableau ci-dessous, évaluer si l'objet assigné à `a` représente exactement la valeur souhaitée pour $\\alpha$, si l'objet assigné à `b` représente exactement la valeur souhaitée pour $\\beta$ et si l'objet assigné à `expr` est exactement `0`.\n",
    "\n",
    "|       α           |        β          | `a` = α ? | `b`= β ? | `expr` = 0 ? | Commentaires |\n",
    "|:-----------------:|:-----------------:|:---------:|:--------:|:------------:|:-------------|\n",
    "| 1                 | 10                |           |          |              |              |\n",
    "| 0.1               | 1.0               |           |          |              |              |\n",
    "| 6.02214076 x 10²³ | 6.02214076 x 10²⁴ |           |          |              |              |\n",
    "| 10¹⁰⁰             | 10¹⁰¹             |           |          |              |              |\n"
   ]
  },
  {
   "cell_type": "markdown",
   "metadata": {},
   "source": [
    "% Proposition de solution\n",
    "\n",
    "<span style=\"color:FireBrick;\">\n",
    "\n",
    "|       α           |        β          | `a` = α ? | `b`= β ? | `expr` = 0 ? | Commentaires |\n",
    "|:-----------------:|:-----------------:|:---------:|:--------:|:------------:|:-------------|\n",
    "| 1                 | 10                | oui       | oui      | oui          | aucun écart observé, α β et `expr` peuvent tous être exprimés de manière exacte |\n",
    "| 0.1               | 1.0               | non       | oui      | non          | un écart entre α et `a` se propage dans `expr` |\n",
    "| 6.02214076 x 10²³ | 6.02214076 x 10²⁴ | non       | non      | oui          | aucun écart observé malgré une valeur pour α ou β non triviale |\n",
    "| 10¹⁰⁰             | 10¹⁰¹             | non       | non      | non          | aucun écart observé malgré de grandes valeurs |\n",
    "\n",
    "</span>"
   ]
  },
  {
   "cell_type": "markdown",
   "metadata": {},
   "source": [
    "### 5.21 🟥🞳🞳🞳 Exercice - Précision des calculs arithmétiques avec des flottants\n",
    "\n",
    "Pour explorer la précision des calculs arithmétiques, nous allons utiliser une propriété des solutions de l'équation du 2d degré suivante :\n",
    "\n",
    "$$a.x^2 + b.x + c = 0$$\n",
    "\n",
    "Les deux solutions (potentiellement identiques et potentiellement imaginaires) de cette équation sont :\n",
    "\n",
    "$$x_1 = \\frac{-b+\\sqrt{b^2-4ac}}{2a} \\;\\; \\text{et} \\;\\; x_2 = \\frac{-b-\\sqrt{b^2-4ac}}{2a}$$\n",
    "\n",
    "Et la propriété de ces solutions que nous allons exploitée et :\n",
    "\n",
    "$$x_1 \\times x_2 = \\frac{c}{a}$$\n",
    "\n",
    "Le tableau ci-dessous propose une liste de cas pour les paramètres $a$, $b$ et $c$ de l'équation pour lesquels une valeur exacte du produit des solutions est calculable par le quotient $c/a$.\n",
    "\n",
    "| cas |    $a$   |           $b$         |       $c$       | produit exact $x_1 \\times x_2$ |\n",
    "|----:|---------:|----------------------:|----------------:|--------------:|\n",
    "|  #1 |      `3` |                 `-21` |            `15` |           `5` |\n",
    "|  #2 |      `1` |                   `3` |           `-11` |         `-11` |\n",
    "|  #3 |      `1` |           `-60000000` |             `1` |           `1` |\n",
    "|  #4 | `-13757` |               `41271` |    `3069585653` |     `-223129` |\n",
    "|  #5 | `13757`  | `-925576755971588797` | `7959927190867` |   `578609231` |"
   ]
  },
  {
   "cell_type": "markdown",
   "metadata": {},
   "source": [
    "Modifier le code suivant pour calculer les solutions $x_1$ et $x_2$ "
   ]
  },
  {
   "cell_type": "code",
   "execution_count": 194,
   "metadata": {},
   "outputs": [
    {
     "name": "stdout",
     "output_type": "stream",
     "text": [
      "équation :  3 x² + -21 x + 15 = 0\n",
      "x1 = 1\n",
      "x2 = 1\n",
      "produit x1.x2 = 1\n",
      "produit exact = 5\n",
      "erreur relative = 80.0 %\n"
     ]
    }
   ],
   "source": [
    "# Données d'entrée\n",
    "a = 3\n",
    "b = -21\n",
    "c = 15\n",
    "prod_exact = 5\n",
    "\n",
    "# Calcule des racines de l'équation ax^2 + bx + c = 0\n",
    "x_1 = 1 # <-- Remplacer la valeur 1 par l'expression de la racine 1\n",
    "x_2 = 1 # <-- Remplacer la valeur 1 par l'expression de la racine 2\n",
    "prod_calcule = x_1 * x_2\n",
    "erreur_relative = abs(prod_calcule - prod_exact) / prod_exact\n",
    "\n",
    "# Affichage des résulats\n",
    "print(\"équation : \", a, \"x² +\", b, \"x +\", c, \"= 0\")\n",
    "print(\"x1 =\", x_1)\n",
    "print(\"x2 =\", x_2)\n",
    "print(\"produit x1.x2 =\", prod_calcule)\n",
    "print(\"produit exact =\", prod_exact)\n",
    "print(\"erreur relative =\", 100 * erreur_relative, \"%\")"
   ]
  },
  {
   "cell_type": "markdown",
   "metadata": {},
   "source": [
    "Utiliser votre code modifié pour compléter dans le tableau suivant le produit $x_1 \\times x_2$ et sont erreur relative par rapport à la valeur exacte du produit. \n",
    "\n",
    "| cas | Produit exact | Produit calculé | Erreur relative (%) |\n",
    "|----:|--------------:|----------------:|--------------------:|\n",
    "|  #1 |            5  |                 |                     |\n",
    "|  #2 |          -11  |                 |                     |\n",
    "|  #3 |            1  |                 |                     |\n",
    "|  #4 |      -223129  |                 |                     |\n",
    "|  #5 |    578609231  |                 |                     |\n"
   ]
  },
  {
   "cell_type": "code",
   "execution_count": 195,
   "metadata": {},
   "outputs": [
    {
     "name": "stdout",
     "output_type": "stream",
     "text": [
      "équation :  3 x² + -21 x + 15 = 0\n",
      "discriminant = 261\n",
      "x1 = 6.192582403567251\n",
      "x2 = 0.8074175964327482\n",
      "produit x1.x2 = 5.000000000000001\n",
      "produit exact = 5\n",
      "erreur relative = 1.7763568394002505e-14 %\n"
     ]
    }
   ],
   "source": [
    "# Proposition de solution\n",
    "\n",
    "# Données d'entrée\n",
    "a = 3\n",
    "b = -21\n",
    "c = 15\n",
    "produit_exact = 5\n",
    "\n",
    "# Calcule des racines de l'équation ax^2 + bx + c = 0\n",
    "d = (b ** 2) - (4 * a * c)  # Calcul exacte du discriminant (entre entiers)\n",
    "x_1 = (-b + d ** 0.5) / (2 * a) \n",
    "x_2 = (-b - d ** 0.5) / (2 * a) \n",
    "produit_calcule = x_1 * x_2\n",
    "erreur_relative = abs(produit_calcule - produit_exact) / produit_exact\n",
    "\n",
    "# Affichage des résulats\n",
    "print(\"équation : \", a, \"x² +\", b, \"x +\", c, \"= 0\")\n",
    "print(\"discriminant =\", d)\n",
    "print(\"x1 =\", x_1)\n",
    "print(\"x2 =\", x_2)\n",
    "print(\"produit x1.x2 =\", produit_calcule)\n",
    "print(\"produit exact =\", produit_exact)\n",
    "print(\"erreur relative =\", 100 * erreur_relative, \"%\")\n"
   ]
  },
  {
   "cell_type": "markdown",
   "metadata": {},
   "source": [
    "% Proposition de solution\n",
    "\n",
    "<span style=\"color:FireBrick;\">\n",
    "\n",
    "| cas | Produit exact | Produit calculé     | Erreur relative (%) |\n",
    "|----:|--------------:|--------------------:|--------------------:|\n",
    "|  #1 |            5  |   5.000000000000001 |          1.77e-14   |\n",
    "|  #2 |          -11  | -10.999999999999998 |         -1.61e-14   |\n",
    "|  #3 |            1  |  0.8940696716308592 |             10.59   | \n",
    "|  #4 |      -223129  | -223129.00000000003 |         -1.30e-14   |\n",
    "|  #5 |    578609231  | -6.251337096215e-10 |             100 %   |\n",
    "\n",
    "Les \"grosses\" erreurs proviennent du calcul de $b - \\sqrt{b^2 - 4ac}$.\n",
    "\n",
    "Pour $b>0$, lorsqu'on calcule $b^2 - 4ac$, si $b^2 \\gg 4ac$ alors $4ac$ est \"absorbé\" par $b^2$ qui n'a pas assez de chiffres significatifs pour prendre en compte $4ac$. Ainsi, le calcul de $b^2 - 4ac$ donne le même résultat que le calcul de $b^2$, et la solution associée vaut 0.\n",
    "\n",
    "</span>"
   ]
  },
  {
   "cell_type": "markdown",
   "metadata": {},
   "source": [
    "### 5.22 🟨🞳🞳 Conclusions sur la précision des calculs avec des nombres flottants\n",
    "\n",
    "L'écart entre les valeurs attendues et les valeurs obtenues en calcul numérique sur les flottants reste très faible dans la plupart des cas, mais peut parfois être très significatif pour certains cas pathologiques ; il est important d'en rester conscient. Il ne s'agit pas d'une limite spécifique au langage Python, mais d'une limite de la représentation en nombres à virgule flottante qui est partagée par l'ensemble des langages et des logiciels de calcul numérique, du langage C à Matlab en passant par le tableur Microsoft Excel.\n",
    "\n",
    "Dans les deux questions précédentes, l'écart entre les valeurs attendues et les valeurs obtenues a pu être évalué, car la valeur attendue était connue. Dans la plupart des cas, la valeur attendue n'est pas connue, car le calcul numérique est justement utilisé pour l'obtenir. Le numéricien (celui qui développe un code pour du calcul numérique) cherchera à estimer les **incertitudes** de ses résultats de calcul, par exemple avec la méthode [CESTAC](https://link.springer.com/article/10.1007/BF02998627) (Contrôle et Estimation STochastique des Arrondis de Calcul).\n",
    "\n",
    "Lorsque la maitrise de la précision ou l'exactitude des calculs sont primordiales, Python propose la classe `Decimal` dans son module `decimal` qui donne de nombreux contrôles sur la précision des nombres. `decimal` n'est donc pas un type de base du langage, mais il fait partie des modules standards de Python. Le code ci-dessous illustre que la petite erreur lors calcul de `0.1 + 0.1 + 0.1 - 0.3` avec des flottants devient inexistante dans des décimaux. Le bénéfice sur la précision maitrisée des calculs avec le type `decimal` est au prix d'une difficulté d'utilisation accrue et d'un temps de calcul plus lent."
   ]
  },
  {
   "cell_type": "code",
   "execution_count": 196,
   "metadata": {},
   "outputs": [
    {
     "name": "stdout",
     "output_type": "stream",
     "text": [
      "en flottant 0.1 + 0.1 + 0.1 - 0.3 = 5.551115123125783e-17\n",
      "en décimal  0.1 + 0.1 + 0.1 - 0.3 = 0.0\n"
     ]
    }
   ],
   "source": [
    "import decimal\n",
    "f1, f3 = float(\"0.1\"), float(\"0.3\")\n",
    "d1, d3 = decimal.Decimal(\"0.1\"), decimal.Decimal(\"0.3\")\n",
    "print(\"en flottant 0.1 + 0.1 + 0.1 - 0.3 =\", f1 + f1 + f1 - f3)\n",
    "print(\"en décimal  0.1 + 0.1 + 0.1 - 0.3 =\", d1 + d1 + d1 - d3)"
   ]
  },
  {
   "cell_type": "markdown",
   "metadata": {},
   "source": [
    "## 6. 🟩🞳 Chaine de caractères"
   ]
  },
  {
   "cell_type": "markdown",
   "metadata": {},
   "source": [
    "Un « caractère » peut être une lettre (A b ç é δ), un chiffre (0 1 2 3), un signe de ponctuation ( . : ! § \"), un idéogramme (漢 る 𓅓 ), un symbole mathématique (∮ ∈ ℕ ⊇), ou même un caractère de contrôle non imprimable (retour à la ligne, saut de ligne, bip sonore ...). Python utilise la forme UTF-8 du standard de jeux de caractères [Unicode](https://fr.wikipedia.org/wiki/Unicode) comprenant 149&nbsp;186 caractères. Un jeu de caractères (*character set* en anglais) est la combinaison de trois éléments :\n",
    "\n",
    "1. Un **répertoire des caractères** abstraits (ensemble des caractères représentables dans le jeu).\n",
    "2. Des **points de code** qui sont des nombres entiers que l'on associe de manière biunivoque aux caractères abstraits. Exemple : points de code de [U+00 à U+7F](https://fr.wikipedia.org/wiki/Table_des_caract%C3%A8res_Unicode/U0000) pour les caractères latins de base, dans le jeu de caractères Unicode (exprimé en base hexadécimal).\n",
    "3. Un **codage** qui spécifie une représentation physique du caractère, ou plutôt de son point de code. Python utilise le code UTF-8 basé sur l'octet (8 bits) comme atome de codage.\n",
    "\n",
    "**Définition** : une chaine de caractères dans le langage Python est une séquence de points de code du jeu de caractères Unicode.\n",
    "\n",
    "Le tableau illustratif ci-dessous présente ces concepts avec la chaine de caractères \"Émoji 😃\". Il montre comment une chaine de caractères Pyton est associée à une séquence de points de code, puis comment ces points de code sont codés selon UTF-8, et enfin comment cela produit une séquence d'octets, la représentation interne de la chaine de caractère. On notera que si le codage des points de code de 0 à 7F est direct (le nombre entier du point de code est codé directement dans un octet), les points de code supérieurs à 7F requièrent le codage moins trivial avec 2 voir 4 octets.\n",
    "\n",
    "<img src=\"img/BE1_utf8_exemple.png\" style=\"width:360px;\" />\n",
    "\n",
    "Les fonctions natives `ord()` et `chr()` permettent respectivement d'obtenir le point de code d'un caractère et d'obtenir le caractère à partir de son point de code ; ici le terme \"caractère\" doit se lire comme \"chaine de caractères de longueur 1\", car contrairement à d'autres langages, Python ne propose pas le type spécifique pour un seul caractère.\n",
    "\n",
    "``` Python\n",
    "ord(\"A\")  # renvoie 65 (en décimal), le point de code Unicode du caractère \"A\"\n",
    "chr(66)  # renvoie \"B\", le caractère correspondant au point de code Unicode 66\n",
    "```"
   ]
  },
  {
   "cell_type": "markdown",
   "metadata": {},
   "source": [
    "Pour créer un objet de type chaine de caractères, il existe trois moyens :\n",
    "- les **littéraux** (ex: \"Bonjour\")\n",
    "- le **constructeur** d'instances de classe `str()` \n",
    "- les **expressions** à base d'opérateurs et de fonctions (ex : `+`, `*`, `chr()`, `repr()`, `ascii()`, `bin()`, `hex()`, `oct()`, `min()`, `max()`)\n",
    "\n",
    "Le tableau suivant donne les principales manières de construire un objet de type numérique\n",
    "\n",
    "|                   | Chaine de caractères  | \n",
    "|-------------------|-----------------------|\n",
    "| **Littéraux**     | entre apostrophes : `'cela autorise les \"guillemets\"'`<br />entre guillemets (anglais) : `\"cela autorise les 'apostrophes'\"`<br />entre trois apostrophes ou guillemets : `'''Trois apostrophes'''`, `\"\"\"Trois guillemets\"\"\"` (les chaines entre trois apostrophes ou guillemets peuvent s'étendre sur plusieurs lignes) | \n",
    "| **Constructeur** | `str()` donne `''` (construit la chaine vide)<br />`str(\"Oh !\")` donne `'Oh !'`<br />`str(23)` donne `'23'` (construit une chaine à partir d'un entier)<br />`str(0.000032)` donne `'3.2e-05'` (construit une chaine à partir d'un flottant)<br />`str(\"Émoji 😃\")` donne `'Émoji 😃'`| \n",
    "| **Expressions**   | `\"aze\" + \"rty\"` donne `'azerty'` (concaténation de deux chaines)<br />`3 * \"ab\"` donne `'ababab'` (réplication en 3 exemplaires de la chaine \"ab\")<br />`chr(n)` renvoie la chaine représentant un caractère dont le point de code Unicode est le nombre entier `n`, exemple, `chr(8364)` renvoie `'€'`<br />`repr(x)` renvoie une représentation en chaine de caractères de l'object `x`, la fonction tente de renvoyer une chaine qui produirait un objet ayant la même valeur lorsqu'elle est transmise à `eval()`, sinon , la représentation est une chaine entre crochets qui contient le nom du type de l'objet ainsi que des informations supplémentaires comprenant souvent le nom et l'adresse de l'objet.<br />`repr(123e-8)` renvoie `'1.23e-06'`<br />`repr(\"Émoji 😃\")` renvoie `\"'Émoji 😃'\"`<br />`ascii(x)` renvoie, tout comme `repr()`, une chaine contenant une représentation destinée à l'affichage d'un objet `x`, mais en transformant les caractères non ASCII (points de code inférieurs à U+20 et supérieurs à U+7E) renvoyés par `repr()` par l'utilisation de séquences d'échappement \\x, \\u ou \\U.<br />`ascii(\"Émoji 😃\")` renvoie `\"'\\\\xc9moji \\\\U0001f603'\"`<br />`bin(n)` renvoie une chaine avec le préfixe \"0b\" qui est la représentation binaire, en base 2, de l'entier `n`.<br />`bin(3)` renvoie `'0b11'`<br />`hex(n)` renvoie une chaine avec le préfixe \"0x\" qui est la représentation hexadécimale, en base 16, de l'entier `n`<br />`hex(125)` renvoie `'0x7d'`<br />`oct(n)` renvoie une chaine avec le préfixe \"0o\" qui est la représentation octale, en base 8, de l'entier `n`<br />`oct(8)` renvoie `'0o10'`<br />`min()` renvoie le caractère ayant le plus petit point de code<br />`min(\"python\")` renvoie `'h'`<br />`max()` renvoie le caractère ayant le plus grand point de code<br />`max(\"python\")` renvoie `'y'` | "
   ]
  },
  {
   "cell_type": "markdown",
   "metadata": {},
   "source": [
    "Quelques fonctions natives suplémentaires qui s'appliquent à des chaines de caractères, mais qui ne renvoient pas une chaine.\n",
    "\n",
    "- `len(s)` renvoie un entier, la longueur de la chaine `s` (nombre de caractères)<br />`len(\"Bonjour\")` renvoie `7`<br />\n",
    "- `eval(s)` analyse et évalue la chaine `s` comme une expression Python<br />`eval(\"pow(3, 2) - 1.2\")` donne `7.8`"
   ]
  },
  {
   "cell_type": "markdown",
   "metadata": {},
   "source": [
    "### 6.1 🟩🞳 Exercice - Concaténation de chaines de caractères\n",
    "\n",
    "À partir de variables prédéfinies `n1`, `n2` et `s1a`, construire des chaines de caractères, les affecter à un nom de variable et les afficher.\n",
    "\n",
    "| Nom de<br />variable  | Valeur de la chaine à construire | Variables prédéfinies |\n",
    "|----------------------------------|-----------------|-----------------------|\n",
    "| `s1` | `\"La masse est de 123 kg\"` | `n1 = 123`<br />`s1a = \"kg\"`|\n",
    "| `s2` | `\"123 + 123 + 123 + 123 = 492\"` | `n1 = 123`|\n",
    "| `s3` | `\"La représentation binaire de 123 est 0b1111011\"` | `n1 = 123`|\n",
    "| `s4` | `\"Le point de code de π est 0x3c0\"` | `n2 = 0x03C0` |\n",
    "\n",
    "- Les chaines ou sous-chaines `\"123\"`, `\"kg\"`, `\"0x03C0\"` et `\"π\"` ne doivent pas apparaitre dans votre code, utiliser les variables `n1`, `n2` et `s1a` à la place. \n",
    "- $\\text{03C0}_{(16)}$ est le point de code du caractère $\\pi$ dans le jeu de caractères Unicode."
   ]
  },
  {
   "cell_type": "code",
   "execution_count": 197,
   "metadata": {},
   "outputs": [
    {
     "name": "stdout",
     "output_type": "stream",
     "text": [
      "\n",
      "\n",
      "\n",
      "\n"
     ]
    }
   ],
   "source": [
    "# Données d'entrée\n",
    "n1 = 123  # entier littéral en base 10\n",
    "s1a = \"kg\"  # chaîne de caractères littérale\n",
    "n2 = 0x03C0  # entier littéral en base 16\n",
    "\n",
    "# Insérez votre code ici\n",
    "s1 = \"\"  # <-- Modifier cette ligne\n",
    "print(s1)\n",
    "s2 = \"\"  # <-- Modifier cette ligne\n",
    "print(s2)\n",
    "s3 = \"\"  # <-- Modifier cette ligne\n",
    "print(s3)\n",
    "s4 = \"\"  # <-- Modifier cette ligne\n",
    "print(s4)"
   ]
  },
  {
   "cell_type": "code",
   "execution_count": 198,
   "metadata": {},
   "outputs": [
    {
     "name": "stdout",
     "output_type": "stream",
     "text": [
      "La masse vaut 123 kg\n",
      "123 + 123 + 123 + 123 = 492\n",
      "La représentation binaire de 123 est 0b1111011\n",
      "Le point de code de π est 0x3c0\n"
     ]
    }
   ],
   "source": [
    "# Proposition de solution\n",
    "\n",
    "# Données d'entrée\n",
    "n1 = 123  # entier littéral en base 10\n",
    "s1a = \"kg\"  # chaîne de caractères littérale\n",
    "n2 = 0x03C0  # entier littéral en base 16\n",
    "\n",
    "# Insérez votre code ici\n",
    "s1 = \"La masse vaut \" + str(n1) + \" \" + s1a\n",
    "print(s1)\n",
    "s2 = 3 * (str(n1) + \" + \") + str(n1) + \" = \" + str(4 * n1)\n",
    "print(s2)\n",
    "s3 = \"La représentation binaire de \" + str(n1) + \" est \" + bin(n1)\n",
    "print(s3)\n",
    "s4 = \"Le point de code de \" + chr(n2) + \" est \" + hex(n2)\n",
    "print(s4)\n"
   ]
  },
  {
   "cell_type": "code",
   "execution_count": 199,
   "metadata": {},
   "outputs": [],
   "source": [
    "# test de la cellule de code précédente\n",
    "assert s1 == \"La masse vaut 123 kg\", \"La chaine s1 est incorrecte\"\n",
    "assert s2 == \"123 + 123 + 123 + 123 = 492\", \"La chaine s2 est incorrecte\"\n",
    "assert s3 == \"La représentation binaire de 123 est 0b1111011\", \"La chaine s1 est incorrecte\"\n",
    "assert s4 == \"Le point de code de π est 0x3c0\", \"La chaine s1 est incorrecte\"\n"
   ]
  },
  {
   "cell_type": "markdown",
   "metadata": {},
   "source": [
    "### 6.2 🟩🞳 Séquences d'échappement\n",
    "\n",
    "Le caractère d'échappement est utilisé dans les chaines de caractères pour représenter des caractères spéciaux, comme les caractères de contrôle. Le caractère d'échappement pour Python est la barre oblique inversée `\\` (*antislash* en anglais). L'échappement marque le début d'une séquence de caractères, appelée séquence d'échappement. Les caractères d'une séquence d'échappement sont interprétés différemment des mêmes caractères qui ne seraient pas précédés du caractère d'échappement. \n",
    "\n",
    "Voici quelques exemples courants de séquences d'échappement en Python :\n",
    "- `\\n` : saut de ligne ASCII (LF, Line Feed)\n",
    "- `\\r` : retour à la ligne (CR, Carriage Return)\n",
    "- `\\t` : tabulation horizontale (TAB)\n",
    "- `\\\"` : guillemet anglais (`\"`)\n",
    "- `\\'` : apostrophe (`'`)\n",
    "- `\\\\` : barre oblique inversée (`\\`), en effet `\\` seul ne peut signifier barre oblique inversée puis qu'il représente le début d'une séquence d'échappement\n",
    "- `\\xhh` : caractère dont le point de code est hh en hexadécimal (limité aux points de code de 00 à FF) \n",
    "- `\\uhhhh` : caractère dont le point de code est hh en hexadécimal (limité aux points de code de 00 à FF) \n",
    "- `\\Uhhhhhhhh` : caractère dont le point de code est hh en hexadécimal (limité aux points de code de 00 à FF) \n",
    "- `\\<newline>` : barre oblique inversée et retour à la ligne suivante sont ignorés\n",
    "\n",
    "Voici quelques exemples pour illustrer des séquences d'échappement :"
   ]
  },
  {
   "cell_type": "code",
   "execution_count": 200,
   "metadata": {},
   "outputs": [
    {
     "name": "stdout",
     "output_type": "stream",
     "text": [
      "Ceci est une chaine avec un saut de ligne :\n",
      "Voici la deuxième ligne\n",
      "Ceci est une chaine avec une tabulation :\tVoici le texte après la tabulation\n",
      "Ceci est une chaine avec guillemets : \"Exemple de citation\"\n",
      "Ceci est une chaine avec apostrophes : 'Exemple d'apostrophe'\n",
      "Ceci est une chaine avec une barre oblique inversée : \\\n",
      "la séquence \\xe0 affiche le caractère 'à'\n",
      "Ceci est une chaine d'une seule ligne, mais écrite sur plusieurs lignes\n"
     ]
    }
   ],
   "source": [
    "print(\"Ceci est une chaine avec un saut de ligne :\\nVoici la deuxième ligne\")\n",
    "print(\"Ceci est une chaine avec une tabulation :\\tVoici le texte après la tabulation\")\n",
    "print(\"Ceci est une chaine avec guillemets : \\\"Exemple de citation\\\"\")\n",
    "print('Ceci est une chaine avec apostrophes : \\'Exemple d\\'apostrophe\\'')\n",
    "print(\"Ceci est une chaine avec une barre oblique inversée : \\\\\")\n",
    "print(\"la séquence \\\\xe0 affiche le caractère '\\xe0'\")\n",
    "print(\"Ceci est une chaine \\\n",
    "d'une seule ligne, mais \\\n",
    "écrite sur plusieurs lignes\")"
   ]
  },
  {
   "cell_type": "markdown",
   "metadata": {},
   "source": [
    "Par défaut, Python interprète les séquences d'échappement dans les chaines de caractères littérales avant d'en stocker le résultat dans l'objet de type chaine. Si l’on ne souhaite pas interpréter les séquences d'échappement, la chaine littérale doit être préfixée de la lettre `r` (*raw* en anglais), par exemple :"
   ]
  },
  {
   "cell_type": "code",
   "execution_count": 201,
   "metadata": {},
   "outputs": [
    {
     "name": "stdout",
     "output_type": "stream",
     "text": [
      "Une séquence d'échappement commence par \\, exemple \\n pour un saut de ligne\n"
     ]
    }
   ],
   "source": [
    "s1 = r\"Une séquence d'échappement commence par \\, exemple \\n pour un saut de ligne\"\n",
    "print(s1)"
   ]
  },
  {
   "cell_type": "markdown",
   "metadata": {},
   "source": [
    "### 6.3 🟩🞳 Exercice - Séquences d'échapement\n",
    "\n",
    "Construire chacunes des chaines de caractères du tableau par une chaine littérale, puis les affectées à leur nom de variable et les afficher.\n",
    "\n",
    "| Nom de<br />variable  | Résultat attendu de l'affichage |\n",
    "|-----------------------|---------------------------------|\n",
    "| `s5` | \"La Création d'Adam\" de Michel-Ange |\n",
    "| `s6` | Liste des \"courses\"<br />  - jus d'orange<br /> - pailles |\n",
    "| `s7` | Les chaines litérales utilisent ', \", ''' ou \"\"\" pour délimiter le texte |\n",
    "\n"
   ]
  },
  {
   "cell_type": "code",
   "execution_count": 202,
   "metadata": {},
   "outputs": [],
   "source": [
    "# Insérer votre code ici\n"
   ]
  },
  {
   "cell_type": "code",
   "execution_count": 203,
   "metadata": {},
   "outputs": [
    {
     "name": "stdout",
     "output_type": "stream",
     "text": [
      "\"La Création d'Adam\" de Michel-Ange\n",
      "Liste des \"courses\" :\n",
      "  - jus d'orange\n",
      "  - pailles\n",
      "Les chaines litérales utilisent ', \", ''' ou \"\"\" pour délimiter le texte\n"
     ]
    }
   ],
   "source": [
    "# Proposition de solution\n",
    "\n",
    "s5 = '\"La Création d\\'Adam\" de Michel-Ange'\n",
    "print(s5)\n",
    "s6 = \"Liste des \\\"courses\\\" :\\n  - jus d'orange\\n  - pailles\"\n",
    "print(s6)\n",
    "s7 = \"Les chaines litérales utilisent ', \\\", ''' ou \\\"\\\"\\\" pour délimiter le texte\"\n",
    "print(s7)"
   ]
  },
  {
   "cell_type": "markdown",
   "metadata": {},
   "source": [
    "On notera qu'il existe une alternative sans séquences d'échapement pour `s5` et `s6`. \n",
    "- `s5` contient à la fois une apostrophe et des guillemets, mais jamais trois successivement, il est donc possible de délimiter la chaine littérale par 3 guillemets pour que les guillemets présents dans la chaine ne soient pas interprétés comme la fin de cette chaine.\n",
    "- `s6` contient des retours à la ligne qui peuvent être contenus dans une chaine littérale délimitée par trois apostrophes ou trois guillemets."
   ]
  },
  {
   "cell_type": "code",
   "execution_count": 204,
   "metadata": {},
   "outputs": [
    {
     "name": "stdout",
     "output_type": "stream",
     "text": [
      "\"La Création d'Adam\" de Michel-Ange\n",
      "Liste des \"courses\" :\n",
      "  - jus d'orange\n",
      "  - pailles\n"
     ]
    }
   ],
   "source": [
    "s5 = \"\"\"\"La Création d'Adam\" de Michel-Ange\"\"\"\n",
    "print(s5)\n",
    "s6 = \"\"\"Liste des \"courses\" :\n",
    "  - jus d'orange\n",
    "  - pailles\"\"\"\n",
    "print(s6)"
   ]
  },
  {
   "cell_type": "markdown",
   "metadata": {},
   "source": [
    "### 6.4 🟩🞳 Exercice - Fonctions natives sur les chaines\n",
    "\n",
    "Pour chacune des chaines `s1` à `s5` du code suivant, afficher la représentation de la chaine fournie par `repr()` et sa longueur.\n",
    "\n",
    "Faire de même pour la chaine `s6` qui sera construite en respectant les containtes suivantes : \n",
    "- même contenu que `s5`\n",
    "- générée par concaténation (`+`) de caractères obtenus à partir de leurs points de code (`chr()`)"
   ]
  },
  {
   "cell_type": "code",
   "execution_count": 205,
   "metadata": {},
   "outputs": [],
   "source": [
    "s1 = \"Bonjour à tous\"\n",
    "s2 = \"\"\"Bonjour\n",
    "à tous\"\"\"\n",
    "s3 = \"Bonjour \\\n",
    "à tous\"\n",
    "s4 = \"Bonjour\\nà tous\"\n",
    "s5 = \"\\xc9\\x6d\\x6f\\x6a\\x69\\x20\\U0001F603\"\n",
    "\n",
    "# Insérer votre code ici\n"
   ]
  },
  {
   "cell_type": "code",
   "execution_count": 206,
   "metadata": {},
   "outputs": [
    {
     "name": "stdout",
     "output_type": "stream",
     "text": [
      "'Bonjour à tous' est composée de 14 caractères\n",
      "'Bonjour\\nà tous' est composée de 14 caractères\n",
      "'Bonjour à tous' est composée de 14 caractères\n",
      "'Bonjour\\nà tous' est composée de 14 caractères\n",
      "'Émoji 😃' est composée de 7 caractères\n",
      "'Émoji 😃' est composée de 7 caractères\n"
     ]
    }
   ],
   "source": [
    "s1 = \"Bonjour à tous\"\n",
    "s2 = \"\"\"Bonjour\n",
    "à tous\"\"\"\n",
    "s3 = \"Bonjour \\\n",
    "à tous\"\n",
    "s4 = \"Bonjour\\nà tous\"\n",
    "s5 = \"\\xc9\\x6d\\x6f\\x6a\\x69\\x20\\U0001F603\"\n",
    "\n",
    "# Proposition de solutions\n",
    "print(repr(s1), \"est composée de\", len(s1), \"caractères\")\n",
    "print(repr(s2), \"est composée de\", len(s2), \"caractères\")\n",
    "print(repr(s3), \"est composée de\", len(s3), \"caractères\")\n",
    "print(repr(s4), \"est composée de\", len(s4), \"caractères\")\n",
    "print(repr(s5), \"est composée de\", len(s5), \"caractères\")\n",
    "\n",
    "s6 = chr(0xc9) + chr(0x6d) + chr(0x6f) + chr(0x6a) + chr(0x69) + chr(0x20) + chr(0x1F603)\n",
    "print(repr(s6), \"est composée de\", len(s6), \"caractères\")"
   ]
  },
  {
   "cell_type": "markdown",
   "metadata": {},
   "source": [
    "### 6.5 🟩🞳 Méthodes des chaines de caractères"
   ]
  },
  {
   "cell_type": "markdown",
   "metadata": {},
   "source": [
    "\n",
    "#### 6.5.1 🟩🞳 Sélection de méthodes de chaines\n",
    "\n",
    "La liste qui suit rassemble les méthodes de chaines de caractère qui sont les plus couramment utilisées.\n",
    "\n",
    "- Pour gérer la casse (lettres majuscules et lettres minuscules)\n",
    "  - `upper()` renvoie une copie de la chaine où tous les caractères capitalisables ont été convertis en capitales.\n",
    "  - `lower()` renvoie une copie de la chaine où tous les caractères qui le permettent ont été convertis en minuscules.\n",
    "- Pour supprimer des caractères en début et fin de chaine\n",
    "  - `strip()` renvoie une copie de la chaine dont des caractères d'espacement initiaux et finaux sont supprimés.\n",
    "- Pour mettre en forme la chaine\n",
    "  - `format(arg1, arg2...)` renvoie une copie de la chaine où chaque champ de remplacement délimiter par des accolades `{}` est remplacé par un des arguments `arg1`, `arg2`... après sa mis en forme (méthode détaillée plus tard).\n",
    "- Pour joindre et découper des chaines\n",
    "  - `join(iterable)` renvoie une chaine qui est la concaténation des chaines contenues dans `iterable`. Le séparateur entre les éléments est la chaine sur laquelle cette méthode s'applique.\n",
    "  - `split(sep)` renvoie une liste des mots de la chaine, en utilisant la chaine `sep` comme séparateur de mots. Si `sep` n’est pas spécifié ou vaut `None`, tout caractère d'espacement est un séparateur.\n",
    "  - `splitlines()` renvoie les lignes de la chaine sous forme de liste.\n",
    "- Pour rechercher l'emplacement de caractères \n",
    "  - `find(sub, start, end)` renvoie l'indice de la première position de la sous-chaine `sub` dans la chaine sur laquelle la méthode est appliquée et uniquement entre les indices `start` et `end`. Si `end` est omis la recherche va jusqu'au bout et si `start` et `end` sont omis la recherche se fait sur toute la chaine. Renvoie `-1` si `sub` n'est pas trouvée.\n",
    "\n",
    "``` python\n",
    "# Gestion des majuscules et minuscules\n",
    "\"Bonjour à tous\".upper()  # renvoie `BONJOUR À TOUS`\n",
    "\"BONJOUR À TOUS\".lower()  # renvoie 'bonjour à tous'\n",
    "\n",
    "# Suppression de caractères en début et fin de chaine\n",
    "\" \\t   Bonjour à tous  \\n  \\t   \".strip()  # renvoie 'Bonjour à tous'\n",
    "\n",
    "# Jonction des chaines\n",
    "\" \".join([\"Bonjour\", \"à\", \"tous\"])  # renvoie 'Bonjour à tous'\n",
    "\n",
    "# Découpage de chaines\n",
    "\"Bonjour à tous\".split()  # renvoie ['Bonjour', 'à', 'tous']\n",
    "\"Bonjour à tous\".split(\"ou\")  # renvoie ['Bonj', 'r à t', 's']\n",
    "\"\"\"Bonjour\n",
    "à toutes et \n",
    "à tous\"\"\".splitlines()  # ['Bonjour', 'à toutes et ', 'à tous']\n",
    "\n",
    "# Recherche une chaine, l'indice du 1er caractère d'une chaine est 0\n",
    "\"Bonjour à tous\".find(\"ou\")  # renvoie 4 \n",
    "```"
   ]
  },
  {
   "cell_type": "markdown",
   "metadata": {},
   "source": [
    "#### 6.5.2 🟩🞳 Exercice - Méthodes de chaines\n",
    "\n"
   ]
  },
  {
   "cell_type": "markdown",
   "metadata": {},
   "source": [
    "#### 6.5.3 🟨🞳🞳 Gestion de la casse\n",
    "\n",
    "Les méthodes de `str` pour gérer la casse (lettres majuscules et lettres minuscules) sont :\n",
    "- `upper()` renvoie une copie de la chaine où tous les caractères capitalisables ont été convertis en capitales.\n",
    "- `lower()` renvoie une copie de la chaine où tous les caractères qui le permettent ont été convertis en minuscules.\n",
    "- `swapcase()` renvoie une copie de la chaine où les caractères majuscules sont convertis en minuscules et vice versa. \n",
    "- `capitalize()` renvoie une copie de la chaine avec son premier caractère en majuscule et le reste en minuscule. \n",
    "- `title()` renvoie une version de la chaine où les mots commencent par une capitale et les caractères restants sont en minuscules.\n",
    "\n",
    "``` python\n",
    "# Gestion des majuscules et minuscules\n",
    "\"Bonjour à tous\".upper()  # renvoie `BONJOUR À TOUS`\n",
    "\"BONJOUR À TOUS\".lower()  # renvoie 'bonjour à tous'\n",
    "\"Bonjour à tous\".swapcase()  # renvoie 'bONJOUR À TOUS'\n",
    "\"BONJOUR À TOUS\".capitalize()  # renvoie 'Bonjour à tous'\n",
    "\"Bonjour à tous\".title()  # renvoie 'Bonjour À Tous'\n",
    "```"
   ]
  },
  {
   "cell_type": "markdown",
   "metadata": {},
   "source": [
    "#### 6.5.4 🟨🞳🞳 Suppression du début et de fin\n",
    "\n",
    "Les méthodes de `str` pour supprimer des caractères en début et/ou fin de chaine sont:\n",
    "- `strip()` renvoie une copie de la chaine dont des caractères d'espacement initiaux et finaux sont supprimés.\n",
    "- `strip(car)` renvoie une copie de la chaine dont des caractères initiaux et finaux qui sont dans la chaine `car` sont supprimés.\n",
    "- `rstrip()` renvoie une copie de la chaine dont des caractères d'espacement finaux sont supprimés.\n",
    "- `rstrip(car)` renvoie une copie de la chaine dont des caractères finaux qui sont dans la chaine `car` sont supprimés.\n",
    "- `lstrip()` renvoie une copie de la chaine dont des caractères d'espacement initiaux sont supprimés.\n",
    "- `lstrip(car)` renvoie une copie de la chaine dont des caractères initiaux qui sont dans la chaine `car` sont supprimés.\n",
    "- `removeprefix(prefix)` renvoie une copie de la chaine de caractères sans la sous-chaine initiale `prefix`. Si la chaine ne commence pas par la sous-chaine `prefix`, la méthode renvoie une copie de la chaine originale.\n",
    "- `removesuffix(suffix)` renvoie une copie de la chaine de caractères sans la sous-chaine finale `suffix`. Si la chaine ne finit pas par la sous-chaine `suffix`, la méthode renvoie une copie de la chaine originale.\n",
    "\n",
    "``` python\n",
    "# Suppression de caractères en début et fin de chaine\n",
    "\" \\t   Bonjour à tous  \\n  \\t   \".strip()  # renvoie 'Bonjour à tous'\n",
    "\"www.exemple.com\".strip(\"cmowz.\")  # renvoie 'exemple'\n",
    "\" \\t   Bonjour à tous  \\n  \\t   \".rstrip()  # renvoie ' \\t   Bonjour à tous'\n",
    "\"www.exemple.com\".rstrip(\"cmowz.\")  # renvoie 'www.exemple'\n",
    "\" \\t   Bonjour à tous  \\n  \\t   \".lstrip()  # renvoie 'Bonjour à tous  \\n  \\t   '\n",
    "\"www.exemple.com\".lstrip(\"cmowz.\")  # renvoie 'exemple.com'\n",
    "\"www.exemple.com\".removeprefix(\"www.\")  # renvoie 'exemple.com'\n",
    "\"www.exemple.com\".removesuffix(\".com\")  # renvoie 'www.exemple'\n",
    "```"
   ]
  },
  {
   "cell_type": "markdown",
   "metadata": {},
   "source": [
    "#### 6.5.5 🟨🞳🞳 Recherche de chaine\n",
    "\n",
    "Les méthodes de `str` pour rechercher l'emplacement d'une chaine dans une autre chaine sont :\n",
    "- `find(sub, start, end)` renvoie l'indice de la première position dans la chaine où la sous-chaine `sub` se trouve dans la chaine sur laquelle la méthode est appliquée et entre les indices `start` et `end`. Si `end` est omis la recherche va jusqu'au bout et si `start` et `end` sont omis la recherche se fait sur toute la chaine. Renvoie `-1` si `sub` n'est pas trouvée.\n",
    "- `rfind(sub, start, end)` renvoie l'indice le plus élevé dans la chaine où la sous-chaine `sub` se trouve dans la chaine sur laquelle la méthode est appliquée. Si `end` est omis la recherche dès la fin de la chaine, et si `start` et `end` sont omis la recherche se fait sur toute la chaine. Renvoie `-1` si `sub` n'est pas trouvée.\n",
    "- `index(sub, start, end)` renvoie la même chose que `find()`, mais lève une `ValueError` lorsque la chaine `sub` est introuvable.\n",
    "- `rindex(sub, start, end)` renvoie la même chose que `rfind()`, mais lève une `ValueError` lorsque la chaine `sub` est introuvable.\n",
    "\n",
    "``` python\n",
    "# l'indice du 1er caractère d'une chaine est 0\n",
    "\"Bonjour à toutes et à tous\".find(\"ou\")  # renvoie 4 \n",
    "\"Bonjour à toutes et à tous\".find(\"o\", 7)  # renvoie 11\n",
    "\"Bonjour à toutes et à tous\".find(\"o\", 7, 15)  # renvoie 11\n",
    "\n",
    "\"Bonjour à toutes et à tous\".rfind(\"ou\")  # renvoie 23\n",
    "\"Bonjour à toutes et à tous\".rfind(\"o\", 0, 20)  # renvoie 11\n",
    "\"Bonjour à toutes et à tous\".rfind(\"o\", 5, 10)  # renvoie -1\n",
    "```"
   ]
  },
  {
   "cell_type": "markdown",
   "metadata": {},
   "source": [
    "#### 6.5.6 🟥🞳🞳🞳 Remplacement et suppression de caractères\n",
    "\n",
    "Les méthodes de `str` pour remplacer et supprimer des caractères sont :\n",
    "\n",
    "- `expandtabs(tabsize)` renvoie une copie de la chaine où toutes les tabulations sont remplacées par une ou plusieurs espaces, en fonction de la colonne courante et de la taille de tabulation donnée par `tabsize` qui vaut 8 par défaut.\n",
    "\n",
    "``` python\n",
    "\"1\\t012\\t123\\t1234\\t12345\".expandtabs()  # donne '1       012     123     1234    12345'\n",
    "#        tabulations tous les 8 caractères -->    ⊥       ⊥       ⊥       ⊥       ⊥\n",
    "\n",
    "\"1\\t012\\t123\\t1234\\t12345\".expandtabs(4)  # donne '1   012 123 1234    12345'\n",
    "#         tabulations tous les 4 caractères -->    ⊥   ⊥   ⊥   ⊥   ⊥   ⊥\n",
    "```\n",
    "\n",
    "- `replace(old, new, n)` renvoie une copie de la chaine dont les `n` premières occurrences de la sous-chaine `old` sont remplacées par `new`. `n` peut être omis, alors toutes les occurrences sont remplacées.\n",
    "- `translate(table)` renvoie une copie de la chaine dans laquelle chaque caractère a été traduit selon la `table` de correspondance. La `table` peut être construite avec la méthode statique `maketrans(old, new, suppr)`\n",
    "- `str.maketrans(old, new, suppr)` est une méthode statique de la classe `str` (elle ne s'applique ni sur une instance de chaine, ni sur la classe `str`, elle est simplement \"rangée' dans `str`), elle renvoie une table de traduction de caractères qui peut être transmise comme argument à la méthode `translate()`. La table spécifie qu'il faudra remplacer le ième caractère de la chaine `old` par le ième caractère de la chaine `new` et qu'il faudra supprimer les caractères présents dans la chaine `suppr`. Les arguments `old` et `new` doivent avoir le même nombre de caractères.\n",
    "\n",
    "``` python\n",
    "\"Bonjour à toutes et à tous\".replace(\"ou\", \"XXX\", 2)  # renvoie 'BonjXXXr à tXXXtes et à tous'\n",
    "\"Bonjour à toutes et à tous\".replace(\"ou\", \"XXX\")  # renvoie 'BonjXXXr à tXXXtes et à tXXXs'\n",
    "\n",
    "table = str.maketrans(\"cEilNPr\", \"uBoronj\", \"aSsy- \")  # renvoie une table de traduction\n",
    "#\n",
    "#      caractères...   | c | E | i | l | N | P | r |\n",
    "#    ------------------|---|---|---|---|---|---|---|\n",
    "#    ...à remplacé par | u | B | o | r | o | n | j |\n",
    "#\n",
    "#  caractères à supprimer | a | S | s | y | - | espace |\n",
    "#\n",
    "\"ENS Paris-Saclay\".translate(table)  # renvoie 'Bonjour'\n",
    "```"
   ]
  },
  {
   "cell_type": "markdown",
   "metadata": {},
   "source": [
    "#### 6.5.7 🟥🞳🞳🞳 Mise en forme\n",
    "\n",
    "Les méthodes de `str` pour mettre en forme la chaine sont :\n",
    "\n",
    "- `center(width, fillchar)` renvoie la chaine au centre d'une chaine de longueur `width` en utilisant le caractère `fillchar` pour le remplissage ou `\" \"` si l'argument est omis. La chaine d'origine est renvoyée si `width` est trop petit.\n",
    "- `ljust(width, fillchar)` renvoie la chaine justifiée à gauche dans une chaine de longueur `width`en utilisant le caractère `fillchar` pour le remplissage ou `\" \"` si l'argument est omis. La chaine d'origine est renvoyée si `width` est trop petit.\n",
    "- `rjust(width, fillchar)` renvoie la chaine justifiée à droite dans une chaine de longueur `width`en utilisant le caractère `fillchar` pour le remplissage ou `\" \"` si l'argument est omis. La chaine d'origine est renvoyée si `width` est trop petit.\n",
    "- `zfill(width)` renvoie une copie de la chaine remplie par la gauche du chiffre `\"0\"` pour faire une chaine de longueur `width`. Un préfixe (\"+\" / \"-\") est permis par l'insertion du caractère de bourrage après le caractère de préfixe. La chaine d'origine est renvoyée si `width` est trop petit.\n",
    "- `format(arg1, arg2...)` renvoie une copie de la chaine où chaque champ de remplacement délimiter par des accolades `{}` est remplacé par un des arguments `arg1`, `arg2`... après sa mis en forme (méthode détaillée plus tard).\n",
    "\n",
    "``` python\n",
    "\"Salut\".center(10)  # renvoie '  Salut   '\n",
    "\"Salut\".center(10, \"-\")  # renvoie '--Salut---'\n",
    "\n",
    "\"Salut\".ljust(10)  # renvoie 'Salut     '\n",
    "\"Salut\".ljust(10, \"-\")  # renvoie 'Salut-----'\n",
    "\n",
    "\"Salut\".rjust(10)  # renvoie '     Salut'\n",
    "\"Salut\".rjust(10, \"-\")  # renvoie '-----Salut'\n",
    "\n",
    "\"Salut\".zfill(10)  # renvoie '00000Salut'\n",
    "\"1.234\".zfill(10)  # renvoie '000001.234'\n",
    "\"+1.23\".zfill(10)  # renvoie '+000001.23'\n",
    "\"-1.23\".zfill(10)  # renvoie '-000001.23'\n",
    "```"
   ]
  },
  {
   "cell_type": "markdown",
   "metadata": {},
   "source": [
    "#### 6.5.8 🟥🞳🞳🞳 Jonction et découpage\n",
    "\n",
    "Les méthodes de `str` pour joindre et découper des chaines sont :\n",
    "- `split(sep, maxsplit)` renvoie une liste des mots de la chaine, en utilisant la chaine `sep` comme séparateur de mots. Si `maxsplit` est donné, c'est le nombre maximum de divisions qui pourront être effectuées. Si `maxsplit` n'est pas fourni, toutes les divisions possibles sont faites. Si `sep` n’est pas spécifié ou vaut `None`, tout caractère d'espacement est un séparateur.\n",
    "- `rsplit(sep, maxsplit)` renvoie une liste des mots de la chaine, en utilisant la chaine `sep` comme séparateur. les `maxsplit` divisions « les plus à droite » sont effectuées. Si `sep` vaut `None`, tout caractère d'espacement est un séparateur.\n",
    "- `splitlines()` renvoie les lignes de la chaine sous forme de liste.\n",
    "- `partition(sep)` divise la chaine à la première occurrence de la chaine séparateur `sep`, et renvoie un triplet contenant la partie avant le séparateur, le séparateur lui-même, et la partie après le séparateur. Si le séparateur n'est pas trouvé, le triplet contient la chaine elle-même, suivie de deux chaines vides.\n",
    "- `join(iterable)` renvoie une chaine qui est la concaténation des chaines contenues dans `iterable`. Le séparateur entre les éléments est la chaine sur laquelle cette méthode s'applique.\n",
    "\n",
    "``` python\n",
    "\"Bonjour à tous\".split()  # renvoie ['Bonjour', 'à', 'tous']\n",
    "\"Bonjour à tous\".split(None, 1)  # renvoie ['Bonjour', 'à tous']\n",
    "\"Bonjour à tous\".split(\"ou\")  # renvoie ['Bonj', 'r à t', 's']\n",
    "\"1, 2, 3, 4\".split(\",\")  # renvoie ['1', ' 2', ' 3', ' 4']\n",
    "\"1, 2, 3, 4\".split(\",\", 2)  # renvoie ['1', ' 2', ' 3, 4']\n",
    "\n",
    "\"1, 2, 3, 4\".rsplit(\",\", 2)  # renvoie ['1, 2', ' 3', ' 4']\n",
    "\n",
    "\"\"\"Bonjour\n",
    "à toutes et \n",
    "à tous\"\"\".splitlines()  # ['Bonjour', 'à toutes et ', 'à tous']\n",
    "\n",
    "\"Bonjour\".partition(\"jo\")  # renvoie ('Bon', 'jo', 'ur')\n",
    "\n",
    "\"_\".join([\"il\", \"fait\", \"beau\"])  # renvoie 'il_fait_beau'\n",
    "```"
   ]
  },
  {
   "cell_type": "markdown",
   "metadata": {},
   "source": [
    "#### 6.5.9 🟥🞳🞳🞳 Test du contenu d'un chaine\n",
    "\n",
    "Les méthodes de `str` pour tester le contenu \"textuel\" d'une chaine sont :\n",
    "\n",
    "- `startswith(prefix, start, end)` renvoie `True` si la chaine commence par la sous-chaine `prefix`, sinon `False`. Si l'argument optionnel `start` est donné, la comparaison commence à cette position. Si l'argument optionnel `end` est donné, la comparaison s'arrête à celle-ci.\n",
    "- `endswith(suffix, start, end)` renvoie `True` si la chaine se termine par la sous-chaine `suffix`, sinon `False`. Si l'argument optionnel `start` est donné, la comparaison commence à cette position. Si l'argument optionnel `end` est donné, la comparaison s'arrête à celle-ci.\n",
    "- `isupper()` renvoie `True` si tous les caractères capitalisables de la chaine sont en majuscules et s'il y a au moins un caractère en majuscule, sinon `False`.\n",
    "- `islower()` renvoie `True` si tous les caractères capitalisables de la chaine sont en minuscules et qu'elle contient au moins un caractère capitalisable, sinon `False`.\n",
    "- `istitle()` renvoie `True` si la chaine est une chaine où les mots commencent par une capitale et les caractères restants sont en minuscules et qu'elle contient au moins un caractère, sinon `False`.\n",
    "- `isalnum()` renvoie `True` si tous les caractères de la chaine sont alphanumériques et qu'il y a au moins un caractère, sinon `False`.\n",
    "- `isalpha()` renvoie `True` si tous les caractères de la chaine sont alphabétiques et qu'il y a au moins un caractère, sinon `False`.\n",
    "- `isascii()` renvoie `True` si la chaine est vide ou ne contient que des caractères ASCII, `False` sinon. Les caractères ASCII ont un code dans l'intervalle \"U+0000\"–\"U+007F\".\n",
    "- `isspace()` renvoie `True` s'il n'y a que des caractères d'espacement dans la chaine et qu'elle comporte au moins un caractère, sinon `False`.\n",
    "\n",
    "``` python\n",
    "\"www.exemple.com\".startswith(\"www\")  # renvoie True\n",
    "\"www.exemple.com\".startswith(\"http\")  # renvoie False\n",
    "\"www.exemple.com\".startswith(\"exe\", 4)  # renvoie True\n",
    "\n",
    "\"www.exemple.com\".endswith(\"com\")  # renvoie True\n",
    "\"www.exemple.com\".endswith(\"org\")  # renvoie False\n",
    "\"www.exemple.com\".endswith(\"ple\", 0, 11)  # renvoie True\n",
    "\n",
    "\"Bonjour à tous\".isupper()  # renvoie False \n",
    "\"BONJOUR À TOUS\".isupper()  # renvoie True\n",
    "\n",
    "\"Bonjour à tous\".islower()  # renvoie False\n",
    "\"bonjour à tous\".islower()  # renvoie True\n",
    "\n",
    "\"Bonjour à tous\".istitle()  # renvoie False \n",
    "\"Bonjour À Tous\".istitle()  # renvoie True \n",
    "\n",
    "\"quoi de neuf ?\".isalnum()  # renvoie False à cause des espaces et du point d'interrogation\n",
    "\"koi29\".isalnum()  # renvoie True car tous les caractères sont alphanumériques\n",
    "\n",
    "\"Porte-clés\".isalpha()  # renvoie False à cause du tiret\n",
    "\"Trousseau\".isalpha()  # renvoie True car tous les caractères sont alphabétiques\n",
    "\n",
    "\"25 Portes-clés !\".isascii()  # renvoie False à cause du é\n",
    "\"25 trousseaux !\".isascii()  # renvoie True car tous les caractères sont ASCII\n",
    "\n",
    "\"    \".isspace()  # renvoie True\n",
    "\"\\t\\n\\t\".isspace()  # renvoie True\n",
    "\"\".isspace()  # renvoie False\n",
    "```"
   ]
  },
  {
   "cell_type": "markdown",
   "metadata": {},
   "source": [
    "Les méthodes de `str` pour tester le contenu \"numérique\" d'une chaine sont :\n",
    "- `isdecimal()` renvoie `True` si tous les caractères de la chaine sont des caractères décimaux et qu'elle contient au moins un caractère, sinon `False`. Les caractères décimaux sont ceux pouvant être utilisés pour former des nombres en base 10. Formellement, un caractère décimal est un caractère Unicode dont la propriété *Numeric_Type* est *Decimal* (voir [Nd](https://www.compart.com/fr/unicode/category/Nd)). Exemples : 0 1 9 ६ (6 en Devanagari) ೬ (6 en Kannada) 𝟨 (6 mathématique en style *sans serif*)\n",
    "- `isdigit()` renvoie `True` si tous les caractères de la chaine sont des chiffres et qu'elle contient au moins un caractère, `False` sinon. Formellement, un chiffre est un caractère Unicode dont la propriété *Numeric_Type* est *Digit* ou *Decimal*. Exemples : ¹ (exposant) ① ⒈ (chiffre avec un point en un seul caractère).\n",
    "- `isnumeric()` renvoie `True` si tous les caractères de la chaine sont des caractères numériques et qu'elle contient au moins un caractère, sinon `False`. Les caractères numériques comprennent les chiffres et tous les caractères qui ont la propriété Unicode *numeric_value*, par exemple ¾ ௰ (10 en Tamil) Ⅹ (10 en chiffre romain) 六 (6 en Han).\n",
    "\n",
    "``` python\n",
    "\"0123456789\".isdecimal()  # renvoie True car tous les caractères sont des chiffres décimaux indo-européens\n",
    "\"-25.1\".isdecimal()  # renvoie False à cause du point et du signe négatif\n",
    "\"٠١٢٣٤٥٦٧٨٩\".isdecimal()  # renvoie True car tous les caractères sont des chiffres décimaux arabes\n",
    "\"०१२३४५६७८९\".isdecimal()  # renvoie True car tous les caractères sont des chiffres décimaux sanscrits\n",
    "\"ⅠⅡⅢⅣⅤⅥⅦⅧⅨ\".isdecimal()  # renvoie False car les caractères sont des chiffres alphanumériques\n",
    "\"①②③④⑤⑥⑦⑧⑨\".isdecimal()  # renvoie False les chiffre encerclés ne sont pas considérés comme des chiffres décimaux\n",
    "\"2³\".isdecimal()  # renvoie False à cause de l'exposant n'est pas considéré comme un chiffre décimal\n",
    "\n",
    "\"0123456789\".isdigit()  # renvoie True car tous les caractères sont des chiffres indo-européens\n",
    "\"2³\".isdigit()  # renvoie True car tous les caractères sont des chiffres\n",
    "\"-25.1\".isdigit()  # renvoie False à cause du point et du signe négatif\n",
    "\"①②③④⑤⑥⑦⑧⑨\".isdigit()  # renvoie True car tous les caractères représentent des chiffres\n",
    "\"⑩⑪⑫⑬⑭⑮⑯⑰⑱⑲⑳\".isdigit()  # renvoie False car les caractères '⑩' à '⑳' sont des nombres et pas des chiffres\n",
    "\"ⅠⅡⅢⅣⅤⅥⅦⅧⅨ\".isdigit()  # renvoie False car les caractères sont des chiffres alphanumériques\n",
    "\"𝋠𝋡𝋢𝋣𝋤𝋥𝋦𝋧𝋨𝋩𝋪𝋫𝋬𝋭𝋮𝋯𝋰𝋱𝋲𝋳\".isdigit()  # renvoie False car les caractères sont des nombres mayas et pas des chiffres\n",
    "\n",
    "\"0123456789\".isnumeric()  # renvoie True car tous les caractères sont des nombres\n",
    "\"ⅠⅡⅢⅣⅤⅥⅦⅧⅨⅩⅪⅫⅬⅭⅮⅯ\".isnumeric()  # renvoie True car tous les caractères sont des nombres romains\n",
    "\"𝋠𝋡𝋢𝋣𝋤𝋥𝋦𝋧𝋨𝋩𝋪𝋫𝋬𝋭𝋮𝋯𝋰𝋱𝋲𝋳\".isnumeric()  # renvoie True car tous les caractères sont des nombres mayas\n",
    "\"-25.1\".isnumeric()  # renvoie False à cause du point et du signe négatif\n",
    "```"
   ]
  },
  {
   "cell_type": "markdown",
   "metadata": {},
   "source": [
    "Les autres méthodes de `str` pour une chaine sont :\n",
    "- `count(sub, start, end)` renvoie le nombre d'occurrences de `sub` ne se chevauchant pas dans l'intervalle d'indices des caractères [start, end] (le 1er caractère à l'indice 0). Les arguments `start` et `end` sont facultatifs. Si `sub` est vide, renvoie le nombre de chaînes vides.\n",
    "- `encode(encoding)` renvoie un objet de type `bytes` (séquence d'octets) qui représente le codage des la séquence des points de code de la chaine sur le type de codage donné par `encoding` (\"utf-8\" par défaut).\n",
    "\n",
    "``` python\n",
    "\"Bonjour\".count(\"o\")  # compte le nombre de 'o', donne 2\n",
    "\"Bonjour\".count(\"o\", 2)  # compte le nombre de 'o' à partir de l'indice 2, donne 1\n",
    "\"Bonjour\".count(\"ou\")  # compte le nombre de 'ou', donne 1\n",
    "\n",
    "\"Bonjour\".encode(\"utf-8\")  # donne b'Bonjour'\n",
    "\"Émoji 😃\".encode(\"utf-8\")  # donne b'\\xc3\\x89moji \\xf0\\x9f\\x98\\x83'\n",
    "```"
   ]
  },
  {
   "cell_type": "markdown",
   "metadata": {},
   "source": [
    "#### 6.5.10 🟥🞳🞳🞳 Exercice - Méthodes de chaines avancées\n",
    "\n",
    "On s'intéresse à des chaines utilisées comme nom de fichier. Pour faciliter l'interopérabilité entre les différents systèmes de fichiers (exemple: FAT32 pour les clés USB, ext4 pour Linux, HTFS pour MacOS, NTFS pour MS Windows...) qui utilisent des jeux de caractères parfois différents, on souhaite appliquer les règles de *bonne écriture* suivantes :\n",
    "\n",
    "- les lettres particulières à l'écriture latine `à`, `ä`, `ç`, `é`, `ê`, `ë`, `è`, `î`, `ï`, `ô`, `ö`, `ù`, `ü`, `À`, `Ç`, `É`, `Ê`, `È`, `Î`, `Ô`, `Ù` sont remplacées par leur équivalent sans accent ni cédille.\n",
    "- les guillemets `\"` sont supprimés\n",
    "- les caractères interdits dans FAT32 `/`, `:`, `*`, `?`, `!`, `<`, `>`, `{` et `}` sont remplacés par le caractère tiret bas `_`\n",
    "- les caractères d'espacement (espace, tabulation, retour à la ligne...) et les apostrophes `'` sont remplacés par le caractère tiret bas `_`\n",
    "- les lettres sont remplacées par leur version minuscule\n",
    "\n",
    "En utilisant des méthodes de chaines, proposer une façon de transformer les noms de fichiers du tableau ci-après. Votre proposition devra fonctionner pour tous les noms. Afficher le nom initial, le nom modifié et la valeur booléenne indiquant si le nouveau nom est formé uniquement de caractère ASCII.\n",
    "\n",
    "\n",
    "| nom initial                       | nom à construire                | difficultés particulières |\n",
    "|-----------------------------------|---------------------------------|---------------------------|\n",
    "| Tour EIFFEL.jpg                   | tour_eiffel.jpg                 | majuscule, espace         |\n",
    "| Champs Élysée.JPG                 | champs_elysee.jpg               | lettre accentuée          |\n",
    "| Musée \"d'Orsay\".jpeg              | musee_d_orsay.jpeg              | guillemet                 |\n",
    "| Le Louvre 1/2.jpg                 | le_louvre_1_2.jpg               | barre oblique             |\n",
    "| Île de la Cité: Notre-Dame.jpg    | ile_de_la_Cité__Notre-Dame.jpg  | deux points               |\n",
    "| Île de la Cité {Notre-Dame}.jpg   | ile_de_la_Cité__Notre-Dame_.jpg | accolade                  |\n",
    "| Champs Élysée<br />- concorde.jpg | champs_elysee_-_concorde.jpg    | retour à la ligne         |"
   ]
  },
  {
   "cell_type": "code",
   "execution_count": 264,
   "metadata": {},
   "outputs": [],
   "source": [
    "s1 = \"Tour EIFFEL.jpg\"\n",
    "s2 = \"Champs Élysée.JPG\"\n",
    "# ...\n",
    "\n",
    "# Insérer votre code ici\n",
    "\n"
   ]
  },
  {
   "cell_type": "code",
   "execution_count": 267,
   "metadata": {},
   "outputs": [
    {
     "name": "stdout",
     "output_type": "stream",
     "text": [
      "---\n",
      " Tour EIFFEL.jpg  -->  tour_eiffel.jpg  ( True )\n",
      "---\n",
      " Champs Élysée.JPG  -->  champs_elysee.jpg  ( False )\n",
      "---\n",
      " Musée \"d'Orsay\".jpeg  -->  musee_d_orsay.jpeg  ( False )\n",
      "---\n",
      " Le Louvre 1/2.jpg  -->  le_louvre_1_2.jpg  ( True )\n",
      "---\n",
      " Île de la Cité: Notre-Dame.jpg  -->  ile_de_la_cite__notre-dame.jpg  ( False )\n",
      "---\n",
      " Île de la Cité {Notre-Dame}.jpg  -->  ile_de_la_cite__notre-dame_.jpg  ( False )\n",
      "---\n",
      " Champs Élysée\n",
      "- concorde.jpg  -->  champs_elysee_-_concorde.jpg  ( False )\n"
     ]
    }
   ],
   "source": [
    "# Proposition de solution\n",
    "\n",
    "s1 = \"Tour EIFFEL.jpg\"\n",
    "s2 = \"Champs Élysée.JPG\"\n",
    "s3 = \"Musée \\\"d'Orsay\\\".jpeg\"\n",
    "s4 = \"Le Louvre 1/2.jpg\"\n",
    "s5 = \"Île de la Cité: Notre-Dame.jpg\"\n",
    "s6 = \"Île de la Cité {Notre-Dame}.jpg\"\n",
    "s7 = \"Champs Élysée\\n- concorde.jpg\"\n",
    "\n",
    "table = str.maketrans(\n",
    "    \" \\t\\n/:*?!<>{}àäçéêëèîïôöùü'\",\n",
    "    \"____________aaceeeeiioouu_\",\n",
    "    \"\\\"\",\n",
    ")\n",
    "\n",
    "s, new_s, test = s1, s1.lower().translate(table), s1.isascii()\n",
    "print(\"---\\n\", s, \" --> \", new_s, \" (\", test, \")\")\n",
    "\n",
    "s, new_s, test = s2, s2.lower().translate(table), s2.isascii()\n",
    "print(\"---\\n\", s, \" --> \", new_s, \" (\", test, \")\")\n",
    "\n",
    "s, new_s, test = s3, s3.lower().translate(table), s3.isascii()\n",
    "print(\"---\\n\", s, \" --> \", new_s, \" (\", test, \")\")\n",
    "\n",
    "s, new_s, test = s4, s4.lower().translate(table), s4.isascii()\n",
    "print(\"---\\n\", s, \" --> \", new_s, \" (\", test, \")\")\n",
    "\n",
    "s, new_s, test = s5, s5.lower().translate(table), s5.isascii()\n",
    "print(\"---\\n\", s, \" --> \", new_s, \" (\", test, \")\")\n",
    "\n",
    "s, new_s, test = s6, s6.lower().translate(table), s6.isascii()\n",
    "print(\"---\\n\", s, \" --> \", new_s, \" (\", test, \")\")\n",
    "\n",
    "s, new_s, test = s7, s7.lower().translate(table), s7.isascii()\n",
    "print(\"---\\n\", s, \" --> \", new_s, \" (\", test, \")\")"
   ]
  },
  {
   "cell_type": "markdown",
   "metadata": {},
   "source": [
    "### 6.7 🟩🞳 Formatage d'objets en chaine de caractères\n",
    "\n",
    "La méthode d'instance des chaines de caractères `format()` est un outil de construction de chaine de caractères offrant de nombreuses fonctionnalités. Cette méthode s'applique à des chaines qui incluent des emplacements délimités par des accolades `{}`, dits emplacements de remplacement. La méthode `format()` remplace les emplacements de remplacement par des sous-chaines construites à l'aide de ses arguments. La figure ci-dessous illustre le principe de la méthode `format()` sur une chaine disposant de 3 emplacements de remplacement.\n",
    "\n",
    "<img src=\"img/BE1_format_01.png\" style=\"width:320px;\" />\n",
    "\n",
    "Dans cet exemple les emplacements de remplacement sont vides, mais ils peuvent contenir des directives pour spécifier :\n",
    "- La **cible** vers une donnée - quel argument de la méthode `format()` est utilisé ?\n",
    "- Le **convertisseur** - quelle fonction convertit la donnée en chaine de caractères ?\n",
    "- Le **formatage** - comment la donnée est mise en forme ?"
   ]
  },
  {
   "cell_type": "raw",
   "metadata": {
    "vscode": {
     "languageId": "raw"
    }
   },
   "source": [
    "{<cible><convertisseur><formatage>}\n",
    "  ──┬──  ──────┬──────  ────┬────\n",
    "    |          |            └───────>  :<spécification du format> (optionnel)\n",
    "    |          └───────────────>  !r !s ou !a (optionnel)\n",
    "    └──────────────────────>  numéro d'ordre ou nom de l'argument (optionnel)"
   ]
  },
  {
   "cell_type": "markdown",
   "metadata": {},
   "source": [
    "Comme les accolades `{}` délimitent les chaines de remplacement, si dans une chaine à formater on souhaite utiliser une accolade, il faut le préciser à la méthode `format()` en doublant l'accolade, `{{` pour obtenir `{` et `}}` pour obtenir `}`. \n",
    "\n",
    "**`<cible>`** - Choix de la donnée à placer dans les emplacements de remplacement\n",
    "\n",
    "- laisser vide : le ième emplacements de remplacement utilisera le ième argument passé à la méthode `format()`.\n",
    "- numéro d'ordre `n` : l'emplacement de remplacement utilisera l'argument ayant le même numéro d'ordre `n` dans la liste des arguments passés à la méthode `format()`. Le numéro d'ordre commence par 0.\n",
    "- nom de l'argument : l'emplacement de remplacement utilisera l'argument nommé."
   ]
  },
  {
   "cell_type": "code",
   "execution_count": 208,
   "metadata": {},
   "outputs": [
    {
     "data": {
      "text/plain": [
       "'91400 Saclay'"
      ]
     },
     "execution_count": 208,
     "metadata": {},
     "output_type": "execute_result"
    }
   ],
   "source": [
    "# Choix de la donnée à placer dans les emplacements de remplacement\n",
    "\"{}, {} et {}\".format(\"zéro\", \"un\", \"deux\")  # donne 'zéro, un et deux'\n",
    "\"{1}, {0} et {1}\".format(\"zéro\", \"un\")  # donne 'un, zéro et un'\n",
    "\"{code} {ville}\".format(ville=\"Saclay\", code=\"91400\")  # donne '91190 Saclay'"
   ]
  },
  {
   "cell_type": "markdown",
   "metadata": {},
   "source": [
    "**`<convertisseur>`** - Choix du convertisseur pour construire une chaine de caractère à partie de la donnée et avant le formatage\n",
    "\n",
    "- laisser vide : pas de conversion avant le formatage\n",
    "- `!s` utilise la fonction native `str(data)` pour construire une chaine à partir de la donnée `data`\n",
    "- `!r` utilise la fonction native `repr(data)` pour construire une chaine à partir de la donnée `data`\n",
    "- `!a` utilise la fonction native `ascii(data)` pour construire une chaine à partir de la donnée `data`"
   ]
  },
  {
   "cell_type": "code",
   "execution_count": 209,
   "metadata": {},
   "outputs": [
    {
     "data": {
      "text/plain": [
       "\"là là 'là' 'l\\\\xe0'\""
      ]
     },
     "execution_count": 209,
     "metadata": {},
     "output_type": "execute_result"
    }
   ],
   "source": [
    "# la ligne suivantes sont équivalentes et donnent \"là là 'là' 'l\\\\xe0'\"\n",
    "\"{} {!s} {!r} {!a}\".format(\"là\", \"là\", \"là\", \"là\")\n",
    "\"{0} {0!s} {0!r} {0!a}\".format(\"là\")\n",
    "\"{} {} {} {}\".format(\"là\", str(\"là\"), repr(\"là\"), ascii(\"là\"))"
   ]
  },
  {
   "cell_type": "markdown",
   "metadata": {},
   "source": [
    "**`<formatage>`** - Choix de la mise en forme\n",
    "\n",
    "Le formatage est spécifié avec une chaine de caractère notée `<spécification du format>` qui suit le caractère `:` dans l'emplacement de remplacement. Par exemple l'emplacement `{:^20}` indique que la donnée sera sera placée au centre (`^`) d'une sous-chaine de longueur 20 caractères (par défaut le caractère de remplissage est l'espace).\n",
    "\n",
    "La spécification de format est régie par un mini-langage qui décrit dans l'ordre :\n",
    "\n",
    "- l'alignement (caractère de remplissage, droite, centre, gauche)\n",
    "- le signe pour les numériques (présence ou non du signe +)\n",
    "- une version alternative du format pour les numériques\n",
    "- le remplissage par des `0` pour les numériques\n",
    "- la largeur de la sous-chaine de remplacement\n",
    "- la séparation de groupes de chiffres, ex. 1_234_567, 0b_0110_1100\n",
    "- la précision d'affichage, ex: nombre de chiffres significatifs\n",
    "- le type de mise en forme selon le type de la donnée\n",
    "\n",
    "L'ordre des points doit être respecté, mais chacun est optionnel. L'essentiel du mini-langage est présenté dans le graphique ci-dessous, la version complète peut être lue ici -> [mini-langage](https://docs.python.org/fr/3.10/library/string.html#format-specification-mini-language)."
   ]
  },
  {
   "cell_type": "raw",
   "metadata": {
    "vscode": {
     "languageId": "raw"
    }
   },
   "source": [
    "F A S # 0 LLL  G  .PP T\n",
    "─┬─ ┬ ┬ ┬ ─┬─  ┬  ─┬─ ┬\n",
    " |  | | |  |   |   |  └─> | Type de représentation (optionnel)\n",
    " |  | | |  |   |   |      | exemples : 'd' entier décimal\n",
    " |  | | |  |   |   |      |            'e' flottant en notation scientifique\n",
    " |  | | |  |   |   |      |            '%' flottant en pourcent\n",
    " |  | | |  |   |   |\n",
    " |  | | |  |   |   └────> | Précision d'affichage (optionnelle)\n",
    " |  | | |  |   |          | un '.' suivi d'un nombre décimal pour les flottants\n",
    " |  | | |  |   |          | ex: \"{:.4}\".format(3.14159) donne '3.142'\n",
    " |  | | |  |   |\n",
    " |  | | |  |   └────────> | Séparation de groupes de chiffres (optionnel)\n",
    " |  | | |  |              | - ',' ou '_' comme séparateur de milliers\n",
    " |  | | |  |              |   ex: \"{:_}\".format(1234567) donne '1_234_567'\n",
    " |  | | |  |              | - '_' comme séparateur tout les 4 chiffres\n",
    " |  | | |  |              |       pour les entiers en base 2, 8 et 16\n",
    " |  | | |  |\n",
    " |  | | |  └────────────> | Largueur de la chaine (optionnelle)\n",
    " |  | | |                 | ex: \"{:10}\".format(\"ABCD\") donne 'ABCD      '\n",
    " |  | | |\n",
    " |  | | └───────────────> | Remplissage de 0 des type numériques (optionnel)\n",
    " |  | |                   | ex: remplissage d'une chaine de longueur 12\n",
    " |  | |                   |     \"{:012}\".format(-3.14) donne '-00000003.14'\n",
    " |  | |\n",
    " |  | └─────────────────> | Format alternatif si '#' (optionnel)\n",
    " |  |                     | - pour les entiers force le prefix `0b` `0x` `0o`\n",
    " |  |                     | - pour les flottants et complexes\n",
    " |  |                     |   force l'affichage du point décimal\n",
    " |  |\n",
    " |  └───────────────────> | Signe d'un numérique (optionnel)\n",
    " |                        | - '+' le signe (positif ou négatif) est affiché\n",
    " |                        | - '-' seul le signe négatif est affiché\n",
    " |                        | - ' ' un espace doit précéder les nombres positifs\n",
    " |                        | ex: \"{:+}\".format(3.14) donne '+3.14'\n",
    " |\n",
    " └──────────────────────> | Spécification de l'alignement (optionnel)\n",
    "                          | F -> caractère de remplissage (' ' par défaut)\n",
    "                          | A -> '<' pour aligner à gauche\n",
    "                          |      '>' pour aligner à droite\n",
    "                          |      '^' pour centrer\n",
    "                          | ex: pour une chaine de longueur 9\n",
    "                          |     \"{:^9}\".format(\"ABC\")  donne '   ABC   '\n",
    "                          |     \"{:o^9}\".format(\"ABC\") donne 'oooABCooo'\n",
    "                          |     \"{:x>9}\".format(\"ABC\") donne 'xxxxxxABC'\n",
    "                          |     \"{:i<9}\".format(\"ABC\") donne 'ABCiiiiii'"
   ]
  },
  {
   "cell_type": "markdown",
   "metadata": {},
   "source": [
    "#### 6.7.1 🟩🞳 Formatage des objets de type chaine de caractères\n",
    "\n",
    "Pour formater les objet de type les chaines de caractères, il n'y a qu'une possiblité offerte\n",
    "\n",
    "- `\"s\"` pour formater un objet chaine\n",
    "\n",
    "Exemples de formatages des chaines de caractères"
   ]
  },
  {
   "cell_type": "code",
   "execution_count": 210,
   "metadata": {},
   "outputs": [
    {
     "name": "stdout",
     "output_type": "stream",
     "text": [
      "début -->|chaine|<-- fin avec {}\n"
     ]
    }
   ],
   "source": [
    "# remplissage = \"\" (\" \" par défaut pour une chaine)\n",
    "# alignement = \"\" (gauche par défaut pour une chaine) \n",
    "# signe = \"\" (ne s'applique pas à une chaine)\n",
    "# alternative = \"\" (ne s'applique pas à une chaine)\n",
    "# remplissage de zéro = \"\" (ne s'applique pas à une chaine)\n",
    "# largueur = \"\" (largueur de la donnée par défaut)\n",
    "# séparation de groupes de chiffres = \"\" (ne s'applique pas à une chaine)\n",
    "# precision = \"\" (toute la donnée par défaut)\n",
    "# type = \"\" (\"s\" par défaut pour une chaine)\n",
    "\n",
    "# défaut pour une chaine de caractères {}\n",
    "print(\"début -->|{}|<-- fin avec {{}}\".format(\"chaine\"))"
   ]
  },
  {
   "cell_type": "code",
   "execution_count": 211,
   "metadata": {},
   "outputs": [
    {
     "name": "stdout",
     "output_type": "stream",
     "text": [
      "début -->|chaine|<-- fin avec {:s}\n",
      "début -->|chaine              |<-- fin avec {:20s}\n",
      "début -->|chaine              |<-- fin avec {:<20s}\n",
      "début -->|       chaine       |<-- fin avec {:^20s}\n",
      "début -->|              chaine|<-- fin avec {:>20s}\n",
      "début -->|        cha         |<-- fin avec {:^20.3s}\n",
      "début -->|~~~~~~~chaine~~~~~~~|<-- fin avec {:~^20s}\n"
     ]
    }
   ],
   "source": [
    "# type=\"s\"\n",
    "print(\"début -->|{:s}|<-- fin avec {{:s}}\".format(\"chaine\"))\n",
    "# largueur=\"20\" type=\"s\"\n",
    "print(\"début -->|{:20s}|<-- fin avec {{:20s}}\".format(\"chaine\"))\n",
    "# alignement=\"<\" largueur=\"20\" type=\"s\"\n",
    "print(\"début -->|{:<20s}|<-- fin avec {{:<20s}}\".format(\"chaine\"))\n",
    "# alignement=\"^\" largueur=\"20\" type=\"s\"\n",
    "print(\"début -->|{:^20s}|<-- fin avec {{:^20s}}\".format(\"chaine\"))\n",
    "# alignement=\">\" largueur=\"20\" type=\"s\"\n",
    "print(\"début -->|{:>20s}|<-- fin avec {{:>20s}}\".format(\"chaine\"))\n",
    "# alignement=\"^\" largueur=\"20\" precision=\".3\" type=\"s\"\n",
    "print(\"début -->|{:^20.3s}|<-- fin avec {{:^20.3s}}\".format(\"chaine\"))\n",
    "# remplissage=\"~\" alignement=\"^\" largueur=\"20\" type=\"s\"\n",
    "print(\"début -->|{:~^20s}|<-- fin avec {{:~^20s}}\".format(\"chaine\"))"
   ]
  },
  {
   "cell_type": "markdown",
   "metadata": {},
   "source": [
    "#### 6.7.2 🟩🞳 Formatage des objets numériques de type entier\n",
    "\n",
    "Pour les nombres entiers les types de format disponibles sont\n",
    "- `\"d\"` format décimal, affiche l'entier en base 10\n",
    "- `\"b\"` format binaire, affiche l'entier en base 2\n",
    "- `\"o\"` pour octal, affiche l'entier en base 10\n",
    "- `\"x\"` pour héxadécimal, affiche l'entier en base 16 avec les lettres en minuscules\n",
    "- `\"X\"` pour héxadécimal, affiche l'entier en base 16 avec les lettres en majuscules\n",
    "- `\"n\"` comme `\"d\"` mais avec les usages lingistique de la localisation\n",
    "\n",
    "Exemples de formatages des entiers"
   ]
  },
  {
   "cell_type": "code",
   "execution_count": 212,
   "metadata": {},
   "outputs": [
    {
     "name": "stdout",
     "output_type": "stream",
     "text": [
      "début -->|12345678|<-- fin avec {}\n"
     ]
    }
   ],
   "source": [
    "# remplissage = \"\" (ne s'applique pas à un numérique)\n",
    "# alignement = \"\" (droite par défaut pour un numérique) \n",
    "# signe = \"\" (pas d'affichage du + pour les entiers positifs par défaut)\n",
    "# alternative = \"\" (\"#\" force l'affichage de la base pour les entiers)\n",
    "# remplissage de zéro = \"\" (ne s'applique pas à une chaine)\n",
    "# largueur = \"\" (largueur de la donnée par défaut)\n",
    "# séparation de groupes de chiffres = \"\" (pas de séparateur par défaut)\n",
    "# precision = \"\" (ne s'applique pas à un entier)\n",
    "# type = \"\" (\"d\" par défaut pour un entier)\n",
    "\n",
    "print(\"début -->|{}|<-- fin avec {{}}\".format(12345678))"
   ]
  },
  {
   "cell_type": "code",
   "execution_count": 213,
   "metadata": {},
   "outputs": [
    {
     "name": "stdout",
     "output_type": "stream",
     "text": [
      "début -->|12345678|<-- fin avec {:d}\n",
      "début -->|101111000110000101001110|<-- fin avec {:b}\n",
      "début -->|57060516|<-- fin avec {:o}\n",
      "début -->|bc614e|<-- fin avec {:x}\n",
      "début -->|BC614E|<-- fin avec {:X}\n"
     ]
    }
   ],
   "source": [
    "# type=\"d\" (décimal)\n",
    "print(\"début -->|{:d}|<-- fin avec {{:d}}\".format(12345678))\n",
    "# type=\"b\" (binaire)\n",
    "print(\"début -->|{:b}|<-- fin avec {{:b}}\".format(12345678))\n",
    "# type=\"o\" (octal)\n",
    "print(\"début -->|{:o}|<-- fin avec {{:o}}\".format(12345678))\n",
    "# type=\"x\" (hexadécimal minuscule)\n",
    "print(\"début -->|{:x}|<-- fin avec {{:x}}\".format(12345678))\n",
    "# type=\"X\" (hexadécimal majuscule)\n",
    "print(\"début -->|{:X}|<-- fin avec {{:X}}\".format(12345678))"
   ]
  },
  {
   "cell_type": "code",
   "execution_count": 214,
   "metadata": {},
   "outputs": [
    {
     "name": "stdout",
     "output_type": "stream",
     "text": [
      "début -->|0b101111000110000101001110|<-- fin avec {:#b}\n",
      "début -->|0xbc614e|<-- fin avec {:#x}\n",
      "début -->|0XBC614E|<-- fin avec {:#X}\n",
      "\n",
      "début -->|12_345_678|<-- fin avec {:_d}\n",
      "début -->|1011_1100_0110_0001_0100_1110|<-- fin avec {:_b}\n",
      "début -->|bc_614e|<-- fin avec {:_x}\n"
     ]
    }
   ],
   "source": [
    "# alternative=\"#\" type=\"b\" (binaire)\n",
    "print(\"début -->|{:#b}|<-- fin avec {{:#b}}\".format(12345678))\n",
    "# alternative=\"#\" type=\"x\" (hexadécimal minuscule)\n",
    "print(\"début -->|{:#x}|<-- fin avec {{:#x}}\".format(12345678))\n",
    "# alternative=\"#\" type=\"X\" (hexadécimal minuscule)\n",
    "print(\"début -->|{:#X}|<-- fin avec {{:#X}}\\n\".format(12345678))\n",
    "\n",
    "# séparateur=\"_\" type=\"d\" (décimal)\n",
    "print(\"début -->|{:_d}|<-- fin avec {{:_d}}\".format(12345678))\n",
    "# séparateur=\"_\" type=\"b\" (binaire)\n",
    "print(\"début -->|{:_b}|<-- fin avec {{:_b}}\".format(12345678))\n",
    "# séparateur=\"_\" type=\"x\" (hexadécimal minuscule)\n",
    "print(\"début -->|{:_x}|<-- fin avec {{:_x}}\".format(12345678))"
   ]
  },
  {
   "cell_type": "code",
   "execution_count": 215,
   "metadata": {},
   "outputs": [
    {
     "name": "stdout",
     "output_type": "stream",
     "text": [
      "début -->|        12345678|<-- fin avec {:16d}\n",
      "début -->|        12345678|<-- fin avec {:>16d}\n",
      "début -->|    12345678    |<-- fin avec {:^16d}\n",
      "début -->|12345678        |<-- fin avec {:<16d}\n"
     ]
    }
   ],
   "source": [
    "# largueur=\"16\" type=\"d\" (décimal)\n",
    "print(\"début -->|{:16d}|<-- fin avec {{:16d}}\".format(12345678))\n",
    "# alignement=\">\" largueur= \"16\" type=\"d\" (décimal)\n",
    "print(\"début -->|{:>16d}|<-- fin avec {{:>16d}}\".format(12345678))\n",
    "# alignement=\"^\" largueur= \"16\" type=\"d\" (décimal)\n",
    "print(\"début -->|{:^16d}|<-- fin avec {{:^16d}}\".format(12345678))\n",
    "# alignement=\"<\" largueur= \"16\" type=\"d\" (décimal)\n",
    "print(\"début -->|{:<16d}|<-- fin avec {{:<16d}}\".format(12345678))"
   ]
  },
  {
   "cell_type": "code",
   "execution_count": 216,
   "metadata": {},
   "outputs": [
    {
     "name": "stdout",
     "output_type": "stream",
     "text": [
      "début -->|0000000012345678|<-- fin avec {:16d}\n",
      "début -->|0000000012345678|<-- fin avec {:>16d}\n",
      "début -->|0000123456780000|<-- fin avec {:^16d}\n",
      "début -->|1234567800000000|<-- fin avec {:<16d}\n"
     ]
    }
   ],
   "source": [
    "# remplissage=\"0\" largueur=\"16\" type=\"d\" (décimal)\n",
    "print(\"début -->|{:016d}|<-- fin avec {{:16d}}\".format(12345678))\n",
    "# remplissage=\"0\" alignement=\">\" largueur= \"16\" type=\"d\" (décimal)\n",
    "print(\"début -->|{:>016d}|<-- fin avec {{:>16d}}\".format(12345678))\n",
    "# remplissage=\"0\" alignement=\"^\" largueur= \"16\" type=\"d\" (décimal)\n",
    "print(\"début -->|{:^016d}|<-- fin avec {{:^16d}}\".format(12345678))\n",
    "# remplissage=\"0\" alignement=\"<\" largueur= \"16\" type=\"d\" (décimal)\n",
    "print(\"début -->|{:<016d}|<-- fin avec {{:<16d}}\".format(12345678))"
   ]
  },
  {
   "cell_type": "markdown",
   "metadata": {},
   "source": [
    "Attention, on remarque qu'un remplissage par des 0 entraine une lecture d'un nombre différent si l'alignement à droite n'est pas utilisé."
   ]
  },
  {
   "cell_type": "code",
   "execution_count": 217,
   "metadata": {},
   "outputs": [
    {
     "name": "stdout",
     "output_type": "stream",
     "text": [
      "début -->|12345678|<-- fin avec {:d}\n",
      "début -->|-12345678|<-- fin avec {:d}\n",
      "\n",
      "début -->|+12345678|<-- fin avec {:+d}\n",
      "début -->|-12345678|<-- fin avec {:+d}\n",
      "\n",
      "début -->| 12345678|<-- fin avec {: d}\n",
      "début -->|-12345678|<-- fin avec {: d}\n"
     ]
    }
   ],
   "source": [
    "# signe=\"\" type=\"d\" (décimal)\n",
    "print(\"début -->|{:d}|<-- fin avec {{:d}}\".format(12345678))\n",
    "print(\"début -->|{:d}|<-- fin avec {{:d}}\\n\".format(-12345678))\n",
    "\n",
    "# signe=\"+\" type=\"d\" (décimal)\n",
    "print(\"début -->|{:+d}|<-- fin avec {{:+d}}\".format(12345678))\n",
    "print(\"début -->|{:+d}|<-- fin avec {{:+d}}\\n\".format(-12345678))\n",
    "\n",
    "# signe=\" \" type=\"d\" (décimal)\n",
    "print(\"début -->|{: d}|<-- fin avec {{: d}}\".format(12345678))\n",
    "print(\"début -->|{: d}|<-- fin avec {{: d}}\".format(-12345678))"
   ]
  },
  {
   "cell_type": "markdown",
   "metadata": {},
   "source": [
    "Le format de type `\"n\"` affiche l'entier selon les spécificités linguistiques. Cela permet une [internationalisation](https://fr.wikipedia.org/wiki/Internationalisation_(informatique)) (i18n en abrégé) des programmes. Par défaut, la localisation ou la régionalisation (l10n en agrégé) de l'interpréteur python `\"C\"`. La fonction `setlocale()` du module `locale` permet de sélectionner la localisation linguistique pour l'interpréteur Python.\n",
    "- `\"C\"` (langage C) pour les usages informatiques anglophone \n",
    "- `\"\"` localisation du système d'exploitation\n",
    "- `\"fr_FR\"` pour la langue française en France\n",
    "- `\"us-US\"` pour la langue anglaise aux USA"
   ]
  },
  {
   "cell_type": "code",
   "execution_count": 218,
   "metadata": {},
   "outputs": [
    {
     "name": "stdout",
     "output_type": "stream",
     "text": [
      "début -->|12345678|<-- fin avec {:n}   et localisation 'C'\n",
      "début -->|12 345 678|<-- fin avec {:n} et localisation 'fr_FR'\n",
      "début -->|12,345,678|<-- fin avec {:n} et localisation 'us_US'\n"
     ]
    }
   ],
   "source": [
    "import locale\n",
    "\n",
    "# type=\"n\" (suit les paramètres linguistiques en cours)\n",
    "locale.setlocale(locale.LC_ALL, \"C\")\n",
    "print(\n",
    "    \"début -->|{:n}|<-- fin avec {{:n}}\".format(12345678),\n",
    "    \"  et localisation 'C'\",\n",
    ")\n",
    "locale.setlocale(locale.LC_ALL, \"fr_FR\")\n",
    "print(\n",
    "    \"début -->|{:n}|<-- fin avec {{:n}}\".format(12345678),\n",
    "    \"et localisation 'fr_FR'\",\n",
    ")\n",
    "locale.setlocale(locale.LC_ALL, \"us_US\")\n",
    "print(\n",
    "    \"début -->|{:n}|<-- fin avec {{:n}}\".format(12345678),\n",
    "    \"et localisation 'us_US'\",\n",
    ")\n",
    "_ = locale.setlocale(locale.LC_ALL, \"C\") # restauration de la localisation"
   ]
  },
  {
   "cell_type": "markdown",
   "metadata": {},
   "source": [
    "#### 6.7.3 🟩🞳 Exercice - Formatage des entiers\n",
    "\n",
    "Modifier les 3 chaines de formatage `f_titre`, `f_separ` et `f_ligne` dans la cellule de code suivante, pour obtenir le rendu ci-dessous.\n",
    "\n",
    "```\n",
    "|  Décimal  |  Hexa  |         Binaire          | \n",
    "|-----------|--------|--------------------------| \n",
    "|        10 |      A | ....................1010 | \n",
    "|       100 |     64 | ................110_0100 | \n",
    "|     1_000 |    3E8 | ............11_1110_1000 | \n",
    "|    10_000 |   2710 | .......10_0111_0001_0000 | \n",
    "|   100_000 | 1_86A0 | ...1_1000_0110_1010_0000 | \n",
    "| 1_000_000 | F_4240 | 1111_0100_0010_0100_0000 | \n",
    "```"
   ]
  },
  {
   "cell_type": "code",
   "execution_count": 219,
   "metadata": {},
   "outputs": [
    {
     "name": "stdout",
     "output_type": "stream",
     "text": [
      "Décimal Hexa Binaire\n",
      "  \n",
      "10 10 10\n",
      "100 100 100\n",
      "1000 1000 1000\n",
      "10000 10000 10000\n",
      "100000 100000 100000\n",
      "1000000 1000000 1000000\n"
     ]
    }
   ],
   "source": [
    "f_titre = \"{} {} {}\"  # <-- à modifier, format pour l'entête\n",
    "f_separ = \"{0} {0} {0}\"  # <-- à modifier, format pour la ligne de séparation\n",
    "f_ligne = \"{0} {0} {0}\"  # <-- à modifier, format pour les lignes de données\n",
    "\n",
    "# Ne pas modifier les lignes suivantes\n",
    "print(f_titre.format(\"Décimal\", \"Hexa\", \"Binaire\"))\n",
    "print(f_separ.format(\"\"))\n",
    "print(f_ligne.format(10))\n",
    "print(f_ligne.format(100))\n",
    "print(f_ligne.format(1000))\n",
    "print(f_ligne.format(10000))\n",
    "print(f_ligne.format(100000))\n",
    "print(f_ligne.format(1000000))\n"
   ]
  },
  {
   "cell_type": "code",
   "execution_count": 220,
   "metadata": {},
   "outputs": [
    {
     "name": "stdout",
     "output_type": "stream",
     "text": [
      "|  Décimal  |  Hexa  |         Binaire          | \n",
      "|-----------|--------|--------------------------| \n",
      "|        10 |      A | ....................1010 | \n",
      "|       100 |     64 | ................110_0100 | \n",
      "|     1_000 |    3E8 | ............11_1110_1000 | \n",
      "|    10_000 |   2710 | .......10_0111_0001_0000 | \n",
      "|   100_000 | 1_86A0 | ...1_1000_0110_1010_0000 | \n",
      "| 1_000_000 | F_4240 | 1111_0100_0010_0100_0000 | \n"
     ]
    }
   ],
   "source": [
    "# Proposition de solution\n",
    "\n",
    "f_titre = \"| {:^9s} | {:^6s} | {:^24s} | \"  # format pour l'entête\n",
    "f_separ = \"|-{0:-^9s}-|-{0:-^6s}-|-{0:-^24s}-| \"  # format pour la ligne de séparation\n",
    "f_ligne = \"| {0:9_d} | {0:6_X} | {0:.>24_b} | \"  # format pour les lignes de données\n",
    "\n",
    "# Ne pas modifier les lignes suivantes\n",
    "print(f_titre.format(\"Décimal\", \"Hexa\", \"Binaire\"))\n",
    "print(f_separ.format(\"\"))\n",
    "print(f_ligne.format(10))\n",
    "print(f_ligne.format(100))\n",
    "print(f_ligne.format(1000))\n",
    "print(f_ligne.format(10000))\n",
    "print(f_ligne.format(100000))\n",
    "print(f_ligne.format(1000000))"
   ]
  },
  {
   "cell_type": "markdown",
   "metadata": {},
   "source": [
    "#### 6.7.4 🟩🞳 Formatage des objets de type flottant\n",
    "\n",
    "Pour les nombres flottants, les types de formats disponibles sont\n",
    "- `\"f\"` notation en virgule fixe (6 chiffres après la virgule par défaut)\n",
    "- `\"e\"` notation scientifique (6 chiffres après la virgule par défaut)\n",
    "- `\"E\"` comme `\"e\"` mais avec un E majuscule pour l'exposant\n",
    "- `\"g\"` format général avec la notation en virgule fixe ou scientifique selon la taille du nombre\n",
    "- `\"G\"` comme `\"g\"` mais avec un E majuscule pour l'exposant\n",
    "- `\"%\"` pourcentage, multiplie le nombre par 100 et l'affiche en virgule fixe (`f`), suivi d'un symbole pourcent `%`\n",
    "- `\"n\"` comme `\"g\"` mais avec les usages linguistiques de la localisation\n",
    "\n",
    "Exemples de formatages des nombres flottants"
   ]
  },
  {
   "cell_type": "code",
   "execution_count": 221,
   "metadata": {},
   "outputs": [
    {
     "name": "stdout",
     "output_type": "stream",
     "text": [
      "début -->|1234.5678|<-- fin avec {}\n"
     ]
    }
   ],
   "source": [
    "# remplissage = \"\" (ne s'applique pas à un numérique)\n",
    "# alignement = \"\" (droite par défaut pour un numérique) \n",
    "# signe = \"\" (pas d'affichage du + pour les flottant positifs par défaut)\n",
    "# alternative = \"\" (\"#\" force l'affichage de la base pour les flottants)\n",
    "# remplissage de zéro = \"\" (pas de remplissage de zéro par défaut)\n",
    "# largueur = \"\" (largueur de la donnée par défaut)\n",
    "# séparation de groupes de chiffres = \"\" (pas de séparateur par défaut)\n",
    "# precision = \"\" (6 par défaut pour un flottant)\n",
    "# type = \"\" (\"g\" par défaut pour un flottant)\n",
    "\n",
    "print(\"début -->|{}|<-- fin avec {{}}\".format(1234.5678))"
   ]
  },
  {
   "cell_type": "code",
   "execution_count": 222,
   "metadata": {},
   "outputs": [
    {
     "name": "stdout",
     "output_type": "stream",
     "text": [
      "début -->|12345.678900|<-- fin avec {:f}\n",
      "début -->|1.234568e+04|<-- fin avec {:e}\n",
      "début -->|1.234568E+04|<-- fin avec {:E}\n",
      "début -->|12345.7|<-- fin avec {:g}\n",
      "début -->|1.23457e+07|<-- fin avec {:g}\n",
      "début -->|1.23457E+07|<-- fin avec {:G}\n",
      "début -->|1234567.890000%|<-- fin avec {:%}\n"
     ]
    }
   ],
   "source": [
    "# Exploration des types de formatage pour les nombres flottants\n",
    "\n",
    "print(\"début -->|{:f}|<-- fin avec {{:f}}\".format(12345.6789))\n",
    "print(\"début -->|{:e}|<-- fin avec {{:e}}\".format(12345.6789))\n",
    "print(\"début -->|{:E}|<-- fin avec {{:E}}\".format(12345.6789))\n",
    "print(\"début -->|{:g}|<-- fin avec {{:g}}\".format(12345.6789))\n",
    "print(\"début -->|{:g}|<-- fin avec {{:g}}\".format(12345678.9))\n",
    "print(\"début -->|{:G}|<-- fin avec {{:G}}\".format(12345678.9))\n",
    "print(\"début -->|{:%}|<-- fin avec {{:%}}\".format(12345.6789))"
   ]
  },
  {
   "cell_type": "code",
   "execution_count": 223,
   "metadata": {},
   "outputs": [
    {
     "name": "stdout",
     "output_type": "stream",
     "text": [
      "début -->|12345.68|<-- fin avec {:.2f}\n",
      "début -->|1.23e+04|<-- fin avec {:.2e}\n",
      "début -->|1.2e+04|<-- fin avec {:.2g}\n",
      "début -->|1234567.89%|<-- fin avec {:.2%}\n"
     ]
    }
   ],
   "source": [
    "# Exploration des la précision pour le format des nombres flottants\n",
    "\n",
    "print(\"début -->|{:.2f}|<-- fin avec {{:.2f}}\".format(12345.6789))\n",
    "print(\"début -->|{:.2e}|<-- fin avec {{:.2e}}\".format(12345.6789))\n",
    "print(\"début -->|{:.2g}|<-- fin avec {{:.2g}}\".format(12345.6789))\n",
    "print(\"début -->|{:.2%}|<-- fin avec {{:.2%}}\".format(12345.6789))"
   ]
  },
  {
   "cell_type": "code",
   "execution_count": 224,
   "metadata": {},
   "outputs": [
    {
     "name": "stdout",
     "output_type": "stream",
     "text": [
      "début -->|12345.7|<-- fin avec {:n}   et localisation 'C'\n",
      "début -->|12 345,7|<-- fin avec {:n} et localisation 'fr_FR'\n",
      "début -->|12,345.7|<-- fin avec {:n} et localisation 'us_US'\n"
     ]
    }
   ],
   "source": [
    "# Exploration des la localisation pour le format des nombres flottants\n",
    "import locale\n",
    "\n",
    "# type=\"n\" (suit les paramètres linguistiques en cours)\n",
    "locale.setlocale(locale.LC_ALL, \"C\")\n",
    "print(\n",
    "    \"début -->|{:n}|<-- fin avec {{:n}}\".format(12345.6789),\n",
    "    \"  et localisation 'C'\",\n",
    ")\n",
    "locale.setlocale(locale.LC_ALL, \"fr_FR\")\n",
    "print(\n",
    "    \"début -->|{:n}|<-- fin avec {{:n}}\".format(12345.6789),\n",
    "    \"et localisation 'fr_FR'\",\n",
    ")\n",
    "locale.setlocale(locale.LC_ALL, \"us_US\")\n",
    "print(\n",
    "    \"début -->|{:n}|<-- fin avec {{:n}}\".format(12345.6789),\n",
    "    \"et localisation 'us_US'\",\n",
    ")\n",
    "_ = locale.setlocale(locale.LC_ALL, \"C\") # restauration de la localisation"
   ]
  },
  {
   "cell_type": "markdown",
   "metadata": {},
   "source": [
    "L'exemple de code suivant montre comment la méthode `format()` permet un formatage homogène de nombres de type et de représentation différents."
   ]
  },
  {
   "cell_type": "code",
   "execution_count": 225,
   "metadata": {},
   "outputs": [
    {
     "name": "stdout",
     "output_type": "stream",
     "text": [
      "0000123.46\n",
      "0123456.00\n",
      "0000000.01\n",
      "----------\n",
      "0123579.47\n"
     ]
    }
   ],
   "source": [
    "format1 = \"{:>010.2f}\"  # flottant aligné à droite avec une largeur de 10 \n",
    "                        # précision de 2 et complété de '0'\n",
    "format2 = \"{:->10s}\"  # chaine alignée à droite avec une largeur de 1\n",
    "                      # et complétée de '-'\n",
    "\n",
    "print(format1.format(1.23456e2))\n",
    "print(format1.format(123456))\n",
    "print(format1.format(0.009))\n",
    "print(format2.format(\"\"))\n",
    "print(format1.format(1.23456e2 + 123456 + 0.009))"
   ]
  },
  {
   "cell_type": "markdown",
   "metadata": {},
   "source": [
    "#### 6.7.5 🟩🞳 Exercice - Formatage des flottants\n",
    "\n",
    "Modifier les chaines de formatage `det1_ligne`, `det2_ligne` dans la cellule de code suivante, pour obtenir le rendu ci-dessous pour les déterminants de deux matrices 3x3.\n",
    "\n",
    "```\n",
    "| -5.00  2.50 -1.67 |\n",
    "|  1.00 -2.00  3.00 | = det(M1)\n",
    "| -2.24  1.38 -1.62 |\n",
    "\n",
    "| -3.95e-08  4.97e-20 -1.82e-21 |\n",
    "|  1.00e+00  2.00e+00  3.00e+00 | = det(M2)\n",
    "|  2.53e+07 -2.01e+19  5.50e+20 |\n",
    "```"
   ]
  },
  {
   "cell_type": "code",
   "execution_count": 226,
   "metadata": {},
   "outputs": [
    {
     "name": "stdout",
     "output_type": "stream",
     "text": [
      "| -5 2.5 -1.6666666666666667 |\n",
      "| 1 -2 3 | = det(M1)\n",
      "| -2.23606797749979 1.379729661461215 -1.6206565966927624 |\n",
      "\n",
      "| -3.947963283758405e-08 4.9707246392902095e-20 -1.817366025293967e-21 |\n",
      "| 1 2 3 | = det(M2)\n",
      "| 25329516.211914062 -2.0117791118334693e+19 5.502468881238416e+20 |\n"
     ]
    }
   ],
   "source": [
    "# Les deux lignes suivantes sont à modifier\n",
    "det1_ligne = \"| {} {} {} |\"  # format pour les lignes du détermiant 1\n",
    "det2_ligne = \"| {} {} {} |\"  # format pour les lignes du détermiant 2\n",
    "\n",
    "# Ne pas modifier les lignes suivantes\n",
    "print(det1_ligne.format(-5, 5/2, -5/3))\n",
    "print(det1_ligne.format(1, -2, 3), \"= det(M1)\")\n",
    "print(det1_ligne.format(-pow(5, .5), pow(5, 0.2), -pow(5, 0.3)))\n",
    "\n",
    "print(\"\")\n",
    "\n",
    "print(det2_ligne.format(-pow(5.5, -10), pow(4.4, -30), -pow(3.3, -40)))\n",
    "print(det2_ligne.format(1, 2, 3), \"= det(M2)\")\n",
    "print(det2_ligne.format(pow(5.5, 10), -pow(4.4, 30), pow(3.3, 40)))"
   ]
  },
  {
   "cell_type": "code",
   "execution_count": 227,
   "metadata": {},
   "outputs": [
    {
     "name": "stdout",
     "output_type": "stream",
     "text": [
      "| -5.00  2.50 -1.67 |\n",
      "|  1.00 -2.00  3.00 | = det(M1)\n",
      "| -2.24  1.38 -1.62 |\n",
      "\n",
      "| -3.95e-08  4.97e-20 -1.82e-21 |\n",
      "|  1.00e+00  2.00e+00  3.00e+00 | = det(M2)\n",
      "|  2.53e+07 -2.01e+19  5.50e+20 |\n"
     ]
    }
   ],
   "source": [
    "# Proposition de solution\n",
    "\n",
    "det1_ligne = \"| {:5.2f} {:5.2f} {:5.2f} |\"  # format pour les lignes du détermiant 1\n",
    "det2_ligne = \"| {: .2e} {: .2e} {: .2e} |\"  # format pour les lignes du détermiant 2\n",
    "\n",
    "# Ne pas modifier les lignes suivantes\n",
    "print(det1_ligne.format(-5, 5/2, -5/3))\n",
    "print(det1_ligne.format(1, -2, 3), \"= det(M1)\")\n",
    "print(det1_ligne.format(-pow(5, .5), pow(5, 0.2), -pow(5, 0.3)))\n",
    "\n",
    "print(\"\")\n",
    "\n",
    "print(det2_ligne.format(-pow(5.5, -10), pow(4.4, -30), -pow(3.3, -40)))\n",
    "print(det2_ligne.format(1, 2, 3), \"= det(M2)\")\n",
    "print(det2_ligne.format(pow(5.5, 10), -pow(4.4, 30), pow(3.3, 40)))"
   ]
  },
  {
   "cell_type": "markdown",
   "metadata": {},
   "source": [
    "#### 6.7.6 🟩🞳 Chaine de caractères formatée\n",
    "\n",
    "Python propose une alternative à l'utilisation explicite de la méthode `format()` avec les chaines de caractères formatées (*f-strings* en anglais). En préfixant une chaine littérale d'un `f` ou d'un `F`, Python interprètera les emplacements délimités par des accolades `{}` comme des emplacements de remplacement. Les directives dans les emplacements de remplacement sont identiques à celles de la méthode `format()`, à un exception du champ `<cible>` qui doit directement être une expression suivi de manière optionnelle par le caractère \"=\". Si le caractère est présent "
   ]
  },
  {
   "cell_type": "raw",
   "metadata": {
    "vscode": {
     "languageId": "raw"
    }
   },
   "source": [
    "{<cible><convertisseur><formatage>}\n",
    "  ──┬──  ──────┬──────  ────┬────\n",
    "    |          |            └────>  :<spécification du format> (optionnel)\n",
    "    |          └──────>  !r !s ou !a (optionnel)\n",
    "    └────────────────>  la cible est obligatoire, elle est formée : \n",
    "                        - d'une expression, ex. x + abs(y), suivie \n",
    "                        - du signe '=' (optionnel)"
   ]
  },
  {
   "cell_type": "markdown",
   "metadata": {},
   "source": [
    "Exemples de chaines de caractères formatées (f-string) :"
   ]
  },
  {
   "cell_type": "code",
   "execution_count": 228,
   "metadata": {},
   "outputs": [
    {
     "data": {
      "text/plain": [
       "\"123 en base 10 s'écrit 7B en base 16 et 111_1011 en base 2\""
      ]
     },
     "execution_count": 228,
     "metadata": {},
     "output_type": "execute_result"
    }
   ],
   "source": [
    "f\"{123:d} en base 10 s'écrit {123:X} en base 16 et {123:_b} en base 2\""
   ]
  },
  {
   "cell_type": "code",
   "execution_count": 229,
   "metadata": {},
   "outputs": [
    {
     "data": {
      "text/plain": [
       "'J. DOE à 32 ans.'"
      ]
     },
     "execution_count": 229,
     "metadata": {},
     "output_type": "execute_result"
    }
   ],
   "source": [
    "nom, prenom, age = \"Doe\", \"John\", 32.0\n",
    "f\"{prenom:.1s}. {nom.upper()} à {age:.0f} ans.\""
   ]
  },
  {
   "cell_type": "code",
   "execution_count": 230,
   "metadata": {},
   "outputs": [
    {
     "data": {
      "text/plain": [
       "\"chaine='Bonjour'\""
      ]
     },
     "execution_count": 230,
     "metadata": {},
     "output_type": "execute_result"
    }
   ],
   "source": [
    "chaine = \"Bonjour\"\n",
    "f\"{chaine=}\""
   ]
  },
  {
   "cell_type": "markdown",
   "metadata": {},
   "source": [
    "#### 6.7.7 🟩🞳 Excercice - Chaines formatées\n",
    "\n",
    "À partir des seules variables `art` (nom d'un article), `qte` (quantité de l'article), `pu_ht` (prix unitaire hors-taxe de l'article) et `tva` (taux de TVA appliqué à l'article), proposé un chaine formatée (f-string) qui donne la chaine suivante :\n",
    "\n",
    "`\"3 x 'Gourde ENS Paris-Saclay' à 7.00€ HT soit 25.20€ TTC\"`"
   ]
  },
  {
   "cell_type": "code",
   "execution_count": 231,
   "metadata": {},
   "outputs": [],
   "source": [
    "art = \"Gourde ENS Paris-Saclay\" # nom de l'article\n",
    "qte = 3  # quantité de l'article, soit 3 gourdes\n",
    "pu_ht = 7  # prix unitaire hors-taxes en euros de l'article, soit 7€\n",
    "tva = 0.2  # taux de TVA appliqué à l'article, soit 20%\n",
    "\n",
    "# Insérez votre code ici\n"
   ]
  },
  {
   "cell_type": "code",
   "execution_count": 232,
   "metadata": {},
   "outputs": [
    {
     "data": {
      "text/plain": [
       "\"3 x 'Gourde ENS Paris-Saclay' à 7.00€ HT soit 25.20€ TTC\""
      ]
     },
     "execution_count": 232,
     "metadata": {},
     "output_type": "execute_result"
    }
   ],
   "source": [
    "art = \"Gourde ENS Paris-Saclay\" # nom de l'article\n",
    "qte = 3  # quantité de l'article, soit 3 gourdes\n",
    "pu_ht = 7  # prix unitaire hors-taxes en euros de l'article, soit 7€\n",
    "tva = 0.2  # taux de TVA appliqué à l'article, soit 20%\n",
    "\n",
    "# Proposition de solution\n",
    "f\"{qte} x {art!r} à {pu_ht:.2f}€ HT soit {qte * pu_ht * (1 + tva):.2f}€ TTC\""
   ]
  },
  {
   "cell_type": "markdown",
   "metadata": {},
   "source": [
    "## 7. 🟩🞳 Séquences\n",
    "\n",
    "On appelle **séquence**, un objet qui contient des **éléments** ordonnés. Voici quelques séquences natives : `str` (les chaines de caractères vues précédemment), `list` (les listes), `tuple` (les n-uplets), `range` (les intervalles) ou `bytes` (les séquences d'octets). \n",
    "\n",
    "\n",
    "On appelle **longueur** d'une séquence le nombre d'éléments qu'elle contient. Les séquences possèdent la méthode spéciale `__len__()` qui donne leur longueur. Exemples\n",
    "\n",
    "``` python\n",
    "\"Robotique\".__len__()  # donne 9, le nombre de caractères de la chaine \"Robotique\"\n",
    "\"\".__len__()  # donne 0, le nombre de caractères de la chaine vide \"\"\n",
    "```\n",
    "\n",
    "Python propose également une fonction native pour obtenir le nombre d'éléments d'un objet.\n",
    "- `len(s)` renvoie la longueur (nombre d'éléments) de l'objet `s`. Dans la pratique, `len(s)` renvoie `s.__len__()`.\n",
    "\n",
    "``` python\n",
    "len(\"Robotique\")  # donne 9, le nombre de caractères de la chaine\n",
    "```"
   ]
  },
  {
   "cell_type": "markdown",
   "metadata": {},
   "source": [
    "\n",
    "### 7.1 🟩🞳 Indiçage (indexing)\n",
    "\n",
    "On appelle l'**indice** (*index* en anglais) d'un élément de séquences, un entier qui caractérise la position de l'élément dans la séquence. Python indice les éléments d'une séquence de deux manières complémentaires :\n",
    "- l'indice `0` est attribué au premier élément et les éléments suivants sont indicés de manière croissante de 1 en 1,\n",
    "- l'indice `-1` est attribué au dernier élément et les éléments précédents sont indicés de manière décroissante de -1 en -1.\n",
    "\n",
    "Les indices positifs et négatifs sont illustrés sur le diagramme ci-dessous sur l'exemple de la chaine de caractères `\"Robobique\"`.\n",
    "\n",
    "```\n",
    "|  R |  o |  b |  o |  t |  i |  q |  u |  e | Chaine de caractères (séquence)\n",
    "|----|----|----|----|----|----|----|----|----|\n",
    "|  0 |  1 |  2 |  3 |  4 |  5 |  6 |  7 |  8 | indices positifs\n",
    "| -9 | -8 | -7 | -6 | -5 | -4 | -3 | -2 | -1 | indices négatifs\n",
    "```\n",
    "\n",
    "On notera qu'un élément de la séquence est désigné par deux indices distincts, un entier positif et un entier négatif. En revanche, un indice réfère à un et un seul élément, s'il existe. Cela permet de référer à un élément par sa position relative au début de la séquence ou par sa position relative à la fin de la séquence selon les besoins.\n",
    "\n",
    "On appelle **indiçage** (*indexing* en anglais) l'opération qui désigne un élément dans une séquence à l'aide d'un indice. Python offre un accès efficace aux éléments d'une séquence par les méthodes spéciales `__getitem__()`, `__setitem__()` ou `__delitem__()` selon les besoins. Exemple pour obtenir à un élément :\n",
    "\n",
    "``` python\n",
    "\"Robotique\".__getitem__(2)  # donne 'b', l'élément d'indice 2 de \"Robotique\"\n",
    "\"Robotique\".__getitem__(-5)  # donne 't', l'élément d'indice -5 de \"Robotique\"\n",
    "```\n",
    "\n",
    "Python propose un [sucre syntaxique](https://fr.wikipedia.org/wiki/Sucre_syntaxique) pour l'indiçage, une possibilité d'écriture plus succincte et plus intuitive, en accolant à une instance de séquence l'indice entre crochets. La syntaxe est `objet_de_type_sequence[indice]`. Exemples :\n",
    "\n",
    "``` python\n",
    "\"Robotique\"[2]  # donne 'b', équivalent à \"Robotique\".__getitem__(2)\n",
    "\"Robotique\"[-5]  # donne 't', équivalent à \"Robotique\".__getitem__(-5)\n",
    "s = \"Robotique\"\n",
    "s[5]  # donne 'i', équivalent à s.__getitem__(5)\n",
    "```"
   ]
  },
  {
   "cell_type": "markdown",
   "metadata": {},
   "source": [
    "### 7.2 🟩🞳 Tranchage (slicing)\n",
    "\n",
    "On appelle **tranche** (*slice* en anglais) une séquence d'indices d'éléments d'une séquence. Python propose le type d'objet `slice` pour représenter les tranches en compréhension, c'est-à-dire sans lister un à un les indices . On peut créer une tranche à l'aide du constructeur d'instances `slice()` des manières suivantes :\n",
    "\n",
    "- `slice(stop)` renvoie un objet tranche désignant les éléments d'une séquence allant du 1er inclus (indice 0) jusqu'à l'élément d'indice `stop` exclu. Si `stop` est `None` la tranche va jusqu'au dernier élément inclus. \n",
    "- `slice(start, stop)` renvoie un objet tranche désignant les éléments d'une séquence allant de l'élément d'indice `start` inclus, jusqu'à l'élément d'indice `stop` exclu. Si `start` est `None` la tranche commence à l'indice 0, si `stop` est `None` tranche va jusqu'au dernier élément inclus.\n",
    "- `slice(start, stop, step)` renvoie un objet tranche désignant les éléments d'une séquence allant de l'élément d'indice `start` inclus, jusqu'à l'élément d'indice `stop` exclu en progressant par pas de `step` éléments. Si `step` est négatif, la progression se fait en sens inverse.\n",
    "  - si `step` est positif : si `start` est `None` la tranche commence au premier élément, si `stop` est `None` la tranche va jusqu'au dernier élément inclus.\n",
    "  - si `step` est négatif : si `start` est `None` la tranche commence au dernier élément, si `stop` est `None` la tranche va jusqu'au premier élément inclus.\n",
    "  - si `step` est `None`, la tranche progresse d’un élément en un élément.\n",
    "\n",
    "Exemples :\n",
    "\n",
    "```python\n",
    "slice(7)  # tranche de 0 à 7 exclu (0, 1, 2, 4, 5, 6)\n",
    "slice(3, 7)  # tranche de 3 à 7 exclu (3, 4, 5, 6)\n",
    "slice(3, 7, 2)  # tranche de 3 à 7 exclu par pas de 2 (3, 5)\n",
    "slice(7, 3, -1)  # tranche de 7 à 3 exclu par pas de -1 (7, 6, 5, 4)\n",
    "slice(7, 3, -2)  # tranche de 7 à 3 exclu par pas de -2 (7, 5)\n",
    "slice(None)  # tranche désignant tous les éléments\n",
    "slice(None, 7)  # tranche de 0 à 7 exclu (0, 1, 2, 3, 4, 5)\n",
    "slice(7, None)  # tranche allant de 7 jusqu'au dernier inclus\n",
    "slice(None, None, 2)  # tranche allant du premier au dernier inclus, de 2 en 2\n",
    "slice(None, None, -1)  # tranche allant du dernier au premier inclus\n",
    "\n",
    "```\n",
    "\n",
    "Les indices `start` et `stop` peuvent être négatifs, l'un, l'autre ou les deux. Dans ce cas ils désignent les éléments d'une séquence par rapport au dernier élément.\n",
    "\n",
    "On appelle **tranchage** (*slicing* en anglais) l'opération qui désigne, à l'aide d'une tranche, des éléments dans une séquence. Comme pour l'indiçage, les méthodes spéciales `__getitem__()`, `__setitem__()` ou `__delitem__()` effectuent le tranchage d'une séquence selon les besoins. Exemple :\n",
    "\n",
    "``` python\n",
    "\"Robotique\".__getitem__(slice(7))  # donne 'Robotiq'\n",
    "\"Robotique\".__getitem__(slice(3, 7))  # donne 'otiq'\n",
    "\"Robotique\".__getitem__(slice(3, 7, 2))  # donne 'oi'\n",
    "\"Robotique\".__getitem__(slice(7, 3, -1))  # donne 'uqit'\n",
    "\"Robotique\".__getitem__(slice(7, 3, -2))  # donne 'ui'\n",
    "```\n",
    "\n",
    "La syntaxe simplifiée avec les crochets `[]` est aussi utilisable avec les tranches. Exemple\n",
    "\n",
    "``` python\n",
    "\"Robotique\"[slice(7)]  # donne 'Robotiq'\n",
    "\"Robotique\"[slice(3, 7)]  # donne 'otiq'\n",
    "\"Robotique\"[slice(3, 7, 2)]  # donne 'oi'\n",
    "```\n",
    "\n",
    "Python propose un [sucre syntaxique](https://fr.wikipedia.org/wiki/Sucre_syntaxique) supplémentaire pour le tranchage avec la syntaxe de crochets `[]`, en remplaçant `[slide(start, stop, step)]` par `[start:stop:step]`.\n",
    "\n",
    "| Exemple de tranches        | Sucre syntaxique équivalent, uniquement entre `[]` | Commentaire |\n",
    "|----------------------------|---------------------|---------------------------|\n",
    "| `slide(stop)`              | `:stop` ou `0:stop` | les `stop` premiers       |\n",
    "| `slide(start, stop)`       | `start:stop`        | de `start` à `stop` exclu |\n",
    "| `slide(start, stop, step)` | `start:stop:step`   | de `start` à `stop` exclu, de `step` en `step` |\n",
    "| `slide(start, None)`       | `start:`            | de `start` jusqu'au dernier inclus |\n",
    "| `slide(None, stop, step)`  | `:stop:step`        | si `step` > 0, du premier jusqu'à `stop` exclu, de `step` en `step` <br />si `step` < 0, du dernier jusqu'à `stop` exclu, de `step` en `step` |\n",
    "| `slide(start, None, step)` | `start::step`       | si `step` > 0, de `start` jusqu'au dernier inclus, de `step` en `step`<br />si `step` < 0, de `start` jusqu'au premier inclus, de `step` en `step` |\n",
    "| `slide(None, None, step)`  | `::step`            | si `step` > 0, du premier jusqu'au dernier, de `step` en `step` <br />si `step` < 0, du dernier jusqu'au premier, de `step` en `step` |\n",
    "\n",
    "Exemples de tranchage avec l'utilisation des deux sucres syntaxiques\n",
    "\n",
    "``` python\n",
    "\"Robotique\"[:7]  # donne 'Robotiq', équivalent à \"Robotique\"[slice(7)] ou à\n",
    "                 # \"Robotique\".__getitem__(slice(7))\n",
    "                 \n",
    "\"Robotique\"[3:7]  # donne 'otiq', équivalent à \"Robotique\"[slice(3, 7)] ou à\n",
    "                  # \"Robotique\".__getitem__(slice(3, 7))\n",
    "                  \n",
    "\"Robotique\"[3:7:2]  # donne 'oi', équivalent à \"Robotique\"[slice(3, 7, 2)]\n",
    "                    # ou à \"Robotique\".__getitem__(slice(3, 7, 2))\n",
    "s = \"Robotique\"\n",
    "s[::-1]  # donne 'euqitoboR', équivalent à s.__getitem__(slice(None, None, -1))\n",
    "```"
   ]
  },
  {
   "cell_type": "markdown",
   "metadata": {},
   "source": [
    "L'exemple qui suit montre l'intérêt d'assigner un nom aux tranches pour extraire avec lisibilité des \"champs\" (tranches) dans des lignes de texte régulières, comme  elles peuvent se présenter dans un fichier texte. Les lignes de texte `ist0`, ... `ist6` décrivent des institutions de l'Université Paris-Saclay où le nom s'étend du 1er au 38e caractère exclu, le ville du 38e au 53e caractère exclus, la latitude en degrée du 53 au 61e caractère exclu est la longitude du 61e au 67e caractère exclu."
   ]
  },
  {
   "cell_type": "code",
   "execution_count": 233,
   "metadata": {},
   "outputs": [
    {
     "name": "stdout",
     "output_type": "stream",
     "text": [
      "ENS Paris-Saclay, Gif-sur-Yvette (https://www.google.com/maps/dir//48.7123,2.1641)\n"
     ]
    }
   ],
   "source": [
    "ist0 = \"0.....................................38.............53......61....\"\n",
    "ist1 = \"AgroParisTech                         Palaiseau      48.7143 2.1942\"\n",
    "ist2 = \"CentraleSupélec                       Gif-sur-Yvette 48.7098 2.1624\"\n",
    "ist3 = \"ENS Paris-Saclay                      Gif-sur-Yvette 48.7123 2.1641\"\n",
    "ist4 = \"Institut d'optique Graduate School    Palaiseau      48.7137 2.2025\"\n",
    "ist5 = \"Faculté des sciences de Paris-Saclay  Orsay          48.7014 2.1788\" \n",
    "ist6 = \"Faculté de pharmacie de Paris-Saclay  Orsay          48.7109 2.1724\"  \n",
    "\n",
    "NOM = slice(0, 38)  # nom assigné à la tranche allant de 0 à 38 exclu\n",
    "VILLE = slice(38, 53)  # nom assigné à la tranche allant de 38 à 53 exclu\n",
    "LATITUDE = slice(53, 61)  # nom assigné à la tranche allant de 53 à 61 exclu\n",
    "LONGITUDE = slice(61, 67)  # nom assigné à la tranche allant de 61 à 67 exclu\n",
    "\n",
    "institution = ist3\n",
    "\n",
    "institution[NOM].strip()  # donne \"ENS Paris-Saclay\"\n",
    "institution[VILLE].strip()  # donne \"Gif-sur-Yvette\"\n",
    "institution[LATITUDE].strip()  # donne \"48.7123\"\n",
    "institution[LONGITUDE].strip()  # donne \"2.1641\"\n",
    "\n",
    "print(\n",
    "    \"{}, {} (https://www.google.com/maps/dir//{},{})\".format(\n",
    "        institution[NOM].strip(),\n",
    "        institution[VILLE].strip(),\n",
    "        institution[LATITUDE].strip(),\n",
    "        institution[LONGITUDE].strip(),\n",
    "    )\n",
    ")  # donne \"ENS Paris-Saclay, Gif-sur-Yvette (https://www.google.com/maps/dir//48.712300,2.164100)\""
   ]
  },
  {
   "cell_type": "markdown",
   "metadata": {},
   "source": [
    "### 7.3 🟩🞳 Exercice - Indiçage et tranchage de séquences\n",
    "\n",
    "On s'intéresse à la chaine `s = \"École Normale Supérieure de Paris-Saclay\"`.\n",
    "\n",
    "Coder par indiçage ou tranchage de la chaine `s` les actions suivantes :\n",
    "\n",
    "| Action                                               | Résultat attendu                 |\n",
    "|------------------------------------------------------|----------------------------------|\n",
    "| Extraire le 18e caractère                            | `'é'`                            |\n",
    "| Extraire les 5 premiers caractères                   | `'École Normale Supérieure'`     |\n",
    "| Extraire tous les caractères sauf les 5 premiers     | `' de Paris-Saclay'`             |\n",
    "| Extraire les 12 derniers caractères                  | `'Paris-Saclay'`                 |\n",
    "| Extraire tous les caractères sauf les 12 derniers    | `'École Normale Supérieure de '` |\n",
    "| Extraire tous les caractères du 15e au 24e inclu     | `'Supérieure'`                   |\n",
    "| Extraire tous les caractères à partir du 15e, sauf les 16 derniers | `'Supérieure'`     |\n",
    "| Extraire tous les caractères d'indice positif pair   | `'ÉoeNraeSprer ePrsSca'`         |\n",
    "| Extraire tous les caractères d'indice positif impair | `'cl oml uéiued ai-aly'`         |\n",
    "| Extraire un caractère sur 5 à partir du 3e           | `'ooeér sl'`                     |\n",
    "| Extraire une copie de la chaine                      | `'École Normale Supérieure de Paris-Saclay'` |\n",
    "| Extraire une copie de la chaine en sens inverse      | `'yalcaS-siraP ed erueirépuS elamroN elocÉ'` |\n"
   ]
  },
  {
   "cell_type": "code",
   "execution_count": 234,
   "metadata": {},
   "outputs": [],
   "source": [
    "s = \"École Normale Supérieure de Paris-Saclay\"\n",
    "# Insérez votre code ici\n"
   ]
  },
  {
   "cell_type": "markdown",
   "metadata": {},
   "source": [
    "<span style=\"color:FireBrick\">\n",
    "Proposition de solution\n",
    "</span>"
   ]
  },
  {
   "cell_type": "code",
   "execution_count": 235,
   "metadata": {},
   "outputs": [
    {
     "name": "stdout",
     "output_type": "stream",
     "text": [
      "                           'é', le 18e caractère\n",
      "    'École Normale Supérieure', les 24 premiers caractères\n",
      "            ' de Paris-Saclay', tous les caractères sauf les 24 premiers\n",
      "                'Paris-Saclay', les 12 derniers caractères\n",
      "'École Normale Supérieure de ', tous les caractères sauf les 12 derniers\n",
      "                  'Supérieure', tous les caractères du 15e au 24e inclu\n",
      "                  'Supérieure', tous les caractères à partir du 15e, sauf les 16 derniers\n",
      "        'ÉoeNraeSprer ePrsSca', tous les caractères d'indice positif pair\n",
      "        'cl oml uéiued ai-aly', tous les caractères d'indice positif impair\n",
      "                    'ooeér sl', un caractère sur 5 à partir du 3e\n",
      "\n",
      "'École Normale Supérieure de Paris-Saclay', une copie de la chaine\n",
      "'yalcaS-siraP ed erueirépuS elamroN elocÉ', une copie de la chaine en sens inverse\n"
     ]
    }
   ],
   "source": [
    "s = \"École Normale Supérieure de Paris-Saclay\"\n",
    "# Proposition de solution\n",
    "\n",
    "st, comment = s[17], \"le 18e caractère\"\n",
    "print(f\"{st!r:>30}, {comment}\")\n",
    "\n",
    "st, comment = s[:24], \"les 24 premiers caractères\"\n",
    "print(f\"{st!r:>30}, {comment}\")\n",
    "\n",
    "st, comment = s[24:], \"tous les caractères sauf les 24 premiers\"\n",
    "print(f\"{st!r:>30}, {comment}\")\n",
    "\n",
    "st, comment = s[-12:], \"les 12 derniers caractères\"\n",
    "print(f\"{st!r:>30}, {comment}\")\n",
    "\n",
    "st, comment = s[:-12], \"tous les caractères sauf les 12 derniers\"\n",
    "print(f\"{st!r:>30}, {comment}\")\n",
    "\n",
    "st, comment = s[14:24], \"tous les caractères du 15e au 24e inclu\"\n",
    "print(f\"{st!r:>30}, {comment}\")\n",
    "\n",
    "st, comment = s[14:-16], \"tous les caractères à partir du 15e, sauf les 16 derniers\"\n",
    "print(f\"{st!r:>30}, {comment}\")\n",
    "\n",
    "st, comment = s[::2], \"tous les caractères d'indice positif pair\"\n",
    "print(f\"{st!r:>30}, {comment}\")\n",
    "\n",
    "st, comment = s[1::2], \"tous les caractères d'indice positif impair\"\n",
    "print(f\"{st!r:>30}, {comment}\")\n",
    "\n",
    "st, comment = s[2::5], \"un caractère sur 5 à partir du 3e\"\n",
    "print(f\"{st!r:>30}, {comment}\\n\")\n",
    "\n",
    "st, comment = s[:], \"une copie de la chaine\"\n",
    "print(f\"{st!r:>42}, {comment}\")\n",
    "\n",
    "st, comment = s[::-1], \"une copie de la chaine en sens inverse\"\n",
    "print(f\"{st!r:>42}, {comment}\")"
   ]
  },
  {
   "cell_type": "markdown",
   "metadata": {},
   "source": []
  },
  {
   "cell_type": "markdown",
   "metadata": {},
   "source": [
    "## 8. 🟩🞳 Listes\n",
    "\n",
    "Une liste Python est une collection ordonnée et modifiable d'objets arbitraires. Techniquement les listes Python ne sont pas à proprement parlé des listes chainées où l'accès à la ième valeur nécessite de parcourir toutes les précédentes, elles sont en réalité des tableaux indicés un peu semblables à aux tableaux dans de nombreux autres langages de programmation, mais en plus flexibles. Cela permet un accès rapide à un élément de la liste en connaissant sa position, son indice (temps d'accès indépendant de la taille de la liste). Pour créer un objet de type `list`, il existe quatre moyens :\n",
    "\n",
    "- l'agencement en extension (les éléments sont listés explicitement)\n",
    "- le constructeur d'instances de classe `list()`\n",
    "- l'agencement en compréhension\n",
    "- les expressions à base d'opérateurs et de fonctions (ex : +, *, sorted())"
   ]
  },
  {
   "cell_type": "markdown",
   "metadata": {},
   "source": [
    "\n",
    "### 8.1 🟩🞳 Agencement en extension\n",
    "\n",
    "Syntaxe : `[expression_1, expression_2 ... expression_n, ]` (la dernière virgule est optionnelle) ou `[]` pour la liste vide de longueur égale à zéron.<br />\n",
    "Sémantique : en allant de gauche à droite, de l'`expression_1` à l'`experssion_n`, les expressions sont évaluées et donnent respectivement les objets `objet_1`, `objet_1` ... `objet_n`. L'objet `list` résultant est la succession ordonnée des références aux objets `objet_1`, `objet_1` ... `objet_n`. Les éléments d'une liste ne sont pas obligatoirement tous du même type. Exemples :\n",
    "\n",
    "``` python\n",
    "[0, 1, 2, 9, 16]  # liste de 5 entiers\n",
    "[1.0, 0.1, 0.01, 0.001]  # liste de 4 flottants \n",
    "[\"abc\", \"def\", \"ghi\", ]  # liste de 3 chaines (ici avec la virgule finale)\n",
    "[12, \"Bonjour\", None, True, 2.3e12] # liste de 5 éléments de types différents\n",
    "[\n",
    "    12, \n",
    "    \"Bonjour\", \n",
    "    None, \n",
    "    True, \n",
    "    2.3e12,\n",
    "] # liste identique à la précédente, écrite sur plusieurs lignes\n",
    "```\n",
    "\n",
    "L'illustration graphique de ces quatre listes dans l'espace des objets de l'interpréteur Python est présentée ci-dessous.\n",
    "\n",
    "<img src=\"img/BE1_list_01.png\" style=\"width:420px;\" />\n",
    "\n",
    "Les listes sont des collections qui pointent sur d'autres objets de l'espace des objets. Elles peuvent donc contenir d'autres listes. Exemple avec son illustration :\n",
    "\n",
    "``` python\n",
    "[\"Châtelet - Les Halles\", [\"RER\", \"A\", \"B\", \"D\"], [\"Métro\", 1, 4, 11, 14]]\n",
    "```\n",
    "\n",
    "<img src=\"img/BE1_list_02.png\" style=\"width:350px;\" />\n",
    "\n",
    "En tant que séquence d'objets, l'indiçage et le tranchage s'appliquent aux listes. Exemples :\n",
    "\n",
    "``` python\n",
    "li = [\"a\", [\"b\", \"B\", \"β\"], \"c\", \"d\"]\n",
    "li[0]  # donne la chaine 'a' (l'élément d'indice 0)\n",
    "li[2:4]  # donne la liste ['c', 'd'] (les éléments indicés par la tranche 2:4)\n",
    "li[1]  # donne la liste ['b', 'B', 'β'] (l'élément d'indice 1)\n",
    "li[1][0]  # donne la chaine 'b' (l'élément d'indice 0 de la liste li[1])\n",
    "li[1][1:3]  # donne la liste ['B', 'β'] \n",
    "            # (les éléments indicés par la tranche 1:3 de la liste li[1])\n",
    "```"
   ]
  },
  {
   "cell_type": "markdown",
   "metadata": {},
   "source": [
    "### 8.2 🟩🞳 Exercice - Agencement en extension\n",
    "\n",
    "Construire par agencement en extension la liste illustée ci dessous, et l'assignée au nom `li`\n",
    "\n",
    "<img src=\"img/BE1_list_03.png\" style=\"width:400px\"/>\n"
   ]
  },
  {
   "cell_type": "code",
   "execution_count": 236,
   "metadata": {},
   "outputs": [],
   "source": [
    "# Insérez votre code ici\n"
   ]
  },
  {
   "cell_type": "code",
   "execution_count": 237,
   "metadata": {},
   "outputs": [],
   "source": [
    "# Propositions de solution\n",
    "\n",
    "# liste décrite sur une seule ligne\n",
    "li = [[1, 2, 3, 4], [5, 6, 7, 8], [9, 10, 11, 12]]\n",
    "\n",
    "# liste décrite sur plusieurs lignes\n",
    "li = [\n",
    "    [1, 2, 3, 4],\n",
    "    [5, 6, 7, 8],\n",
    "    [9, 10, 11, 12],\n",
    "]"
   ]
  },
  {
   "cell_type": "code",
   "execution_count": 238,
   "metadata": {},
   "outputs": [],
   "source": [
    "# test de la cellule de code précédente\n",
    "assert all(\n",
    "    isinstance(e, list) for e in li\n",
    "), \"Tous les éléments de la liste ne sont pas des listes\"\n",
    "\n",
    "assert all(\n",
    "    isinstance(e, int) for li1 in li for e in li1\n",
    "), \"Tous les éléments terminaux ne sont pas des entiers\"\n",
    "\n",
    "assert [e for li1 in li for e in li1] == list(\n",
    "    range(1, 13)\n",
    "), \"Tous les éléments terminaux n'ont pas la bonne valeur\""
   ]
  },
  {
   "cell_type": "markdown",
   "metadata": {},
   "source": [
    "### 8.3 🟩🞳 Muabilité des listes\n",
    "\n",
    "Les listes font partie des objets Python muable (*mutable* en anglais), cela signifie que leur valeur peut changer sans que leur identité ne change. La \"valeur\" d'une liste est sa séquence d'objet, la modifier permet :\n",
    "- de *remplacer* un objet de la liste\n",
    "- d'*ajouter* un ou plusieurs objets dans la liste\n",
    "- de *retirer* un ou plusieurs objets dans la liste\n",
    "- de *changer* l'ordre de la liste\n",
    "\n",
    "Les codes qui suivent donnent un exemple de ces changements en les appliquant successivement à la même liste, avec une illustration graphique de l'état de l'espace des objets après chaque exécution. On notera que l'identité de la liste reste la même après chaque changement de sa séquence d'objets. Ici, les modifications de la liste se font à l'aide d'instructions d'affection sur des indiçages ou des tranchages de la liste, il existe des façons plus lisibles de manipuler les listes par leurs attributs-méthode, elles seront étudiés plus long."
   ]
  },
  {
   "cell_type": "code",
   "execution_count": 239,
   "metadata": {},
   "outputs": [
    {
     "name": "stdout",
     "output_type": "stream",
     "text": [
      "id(li)=2157152729664, li=['un', 'deux', 'trois', 'quatre']\n"
     ]
    }
   ],
   "source": [
    "# Création d'une liste par agencement en extension et assignation au nom li\n",
    "li = [\"un\", \"deux\", \"trois\", \"quatre\"]\n",
    "print(f\"{id(li)=}, {li=}\")  # affiche l'identifiant de la liste et son contenu"
   ]
  },
  {
   "cell_type": "markdown",
   "metadata": {},
   "source": [
    "<img src=\"img/BE1_list_04a.png\" style=\"width:320px\" />"
   ]
  },
  {
   "cell_type": "code",
   "execution_count": 240,
   "metadata": {},
   "outputs": [
    {
     "name": "stdout",
     "output_type": "stream",
     "text": [
      "\n",
      "L'objet à l'indice 1 est replacé par la chaine 'DEUX'\n",
      "id(li)=2157152729664, li=['un', 'DEUX', 'trois', 'quatre']\n"
     ]
    }
   ],
   "source": [
    "# Remplacement d'un objet de la liste\n",
    "print(\"\\nL'objet à l'indice 1 est replacé par la chaine 'DEUX'\")\n",
    "li[1] = \"DEUX\"\n",
    "print(f\"{id(li)=}, {li=}\")"
   ]
  },
  {
   "cell_type": "markdown",
   "metadata": {},
   "source": [
    "<img src=\"img/BE1_list_04b.png\" style=\"width:320px\" />"
   ]
  },
  {
   "cell_type": "code",
   "execution_count": 241,
   "metadata": {},
   "outputs": [
    {
     "name": "stdout",
     "output_type": "stream",
     "text": [
      "\n",
      "L'objet 'TROIS' est inséré à l'indice 3 de la liste\n",
      "id(li)=2157152729664, li=['un', 'DEUX', 'trois', 'TROIS', 'quatre']\n"
     ]
    }
   ],
   "source": [
    "# Insersion d'un objet d'un  liste\n",
    "print(\"\\nL'objet 'TROIS' est inséré à l'indice 3 de la liste\")\n",
    "li[3:3] = [\"TROIS\"] \n",
    "print(f\"{id(li)=}, {li=}\")"
   ]
  },
  {
   "cell_type": "markdown",
   "metadata": {},
   "source": [
    "<img src=\"img/BE1_list_04c.png\" style=\"width:320px\" />"
   ]
  },
  {
   "cell_type": "code",
   "execution_count": 242,
   "metadata": {},
   "outputs": [
    {
     "name": "stdout",
     "output_type": "stream",
     "text": [
      "\n",
      "L'objet d'indice 2 est retirer de la liste\n",
      "id(li)=2157152729664, li=['un', 'DEUX', 'TROIS', 'quatre']\n"
     ]
    }
   ],
   "source": [
    "# Retrait d'un objet de la liste\n",
    "print(\"\\nL'objet d'indice 2 est retirer de la liste\")\n",
    "li[2:3] = []  # remplace un tranchage par une liste vide\n",
    "print(f\"{id(li)=}, {li=}\")"
   ]
  },
  {
   "cell_type": "markdown",
   "metadata": {},
   "source": [
    "<img src=\"img/BE1_list_04d.png\" style=\"width:320px\" />"
   ]
  },
  {
   "cell_type": "code",
   "execution_count": 243,
   "metadata": {},
   "outputs": [
    {
     "name": "stdout",
     "output_type": "stream",
     "text": [
      "\n",
      "Inverse l'ordre des objets de la liste\n",
      "id(li)=2157152729664, li=['quatre', 'TROIS', 'DEUX', 'un']\n"
     ]
    }
   ],
   "source": [
    "# Inversion de l'ordre des objets de la liste\n",
    "print(\"\\nInverse l'ordre des objets de la liste\")\n",
    "li[:] = li[::-1]  # remplace un tranchage par une liste vide\n",
    "print(f\"{id(li)=}, {li=}\")"
   ]
  },
  {
   "cell_type": "markdown",
   "metadata": {},
   "source": [
    "<img src=\"img/BE1_list_04e.png\" style=\"width:320px\" />"
   ]
  },
  {
   "cell_type": "code",
   "execution_count": 244,
   "metadata": {},
   "outputs": [
    {
     "name": "stdout",
     "output_type": "stream",
     "text": [
      "['un', [...]]\n"
     ]
    }
   ],
   "source": [
    "li = [\"un\"]\n",
    "li.append(li)\n",
    "print(li)"
   ]
  },
  {
   "cell_type": "markdown",
   "metadata": {},
   "source": [
    "### 8.4 🟨🞳🞳 Itérable et itérateur\n",
    "\n",
    "Python gère un concept d'itération sur les objets de types collection. \n",
    "\n",
    "Un objet **itérable** (*iterable* en anglais) est un objet collection capable de renvoyer un de ses éléments à la fois. Parmi les objets itérables on trouve les séquences (ex: chaines de caractères, liste, n-uplets), les dictionnaires, les ensembles ou les fichiers. \n",
    "\n",
    "Un objet **itérateur** (*iterator* en anglais) représente un flux des données issuent d'un objet itérable. À chaque sollicitation d'un itérateur, celui-ci renvoie une nouvelle donnée issue de l'itérable sur lequel il est construit. Lorsqu'il n'y a plus de donnée disponible, l'itérateur lève l'exception `StopIteration`. À ce stade, l'objet itérateur est épuisé et toute sollicitation ultérieure ne fait que lever à nouveau l'exception `StopIteration`. Les objets itérateurs sont eux-mêmes itérables.\n",
    "\n",
    "Pour construire un object itérateur, Python propose cinq fonctions natives :\n",
    "- `iter(x)` renvoie un itérateur sur l'objet itérable `x`. Les éléments de l'objet seront parcourus dans le sens de leur rangement.\n",
    "- `reversed(x)` renvoie un itérateur sur l'objet itérable reversible `x`. Les éléments de l'objet seront parcourus dans le sens inverse de leur rangement. Les objets itérables réversibles sont les listes, les intervalles, les n-uplets et depuis la version 3.8 de Python, les dictionnaires.\n",
    "- `map(f, x)` renvoie un itérateur appliquant la fonction `f` à chaque élément de l'iterable `x`.\n",
    "- `filter(f, x)` renvoie un itérateur sur les éléments `e` de l'itérable `x` pour lesquels la fonction `f` renvoir `True` \n",
    "- `zip(x1, y2 ... xn)` renvoie un itérateur donc le ième objet renvoyé est le n-uplet `(<ième élément de l'itérateur construit sur x1>, ... <ième élément de l'itérateur construit sur xn>)`.\n",
    "\n",
    "Pour itérer avec un itérateur, Python propose une fonction native : \n",
    "- `next(i)` renvoie le prochain élément de l'itérable sur lequel à état construit l'itérateur `i`. Le terme \"prochain\" dépendant du sens de parcours de l'itérateur `i` et du dernier élément renvoyé par `i`."
   ]
  },
  {
   "cell_type": "markdown",
   "metadata": {},
   "source": [
    "Exemple de contruction d'un itérateur avec la fonction `iter()` :\n",
    "\n",
    "``` python\n",
    "li_1 = [\"un\", \"deux\", \"trois\", \"quatre\", \"cinq\"]  # liste itérable li_1\n",
    "iter_sur_li_1 = iter(li_1)  # création d'un itérateur sur la liste li_1\n",
    "next(iter_sur_li_1)  # donne 'un', premier élément de l'itérateur\n",
    "next(iter_sur_li_1)  # donne 'deux', deuxième élément de l'itérateur\n",
    "next(iter_sur_li_1)  # donne 'trois', troisième élément de l'itérateur\n",
    "```\n",
    "\n",
    "Exemple de contruction d'un itérateur avec la fonction `reversed()` :\n",
    "\n",
    "``` python\n",
    "li_2 = [0, 1, 2, 3, 4]  # liste itérable\n",
    "iter_2 = reversed(li_2)  # création d'un itérateur sur la liste li_2\n",
    "next(iter_2)  # donne 9, premier élément de l'itérateur\n",
    "next(iter_2)  # donne 8, deuxième élément de l'itérateur\n",
    "next(iter_2)  # donne 7, troisième élément de l'itérateur\n",
    "```\n",
    "\n",
    "Exemple de contruction d'un itérateur avec la fonction `map()` :\n",
    "\n",
    "``` python\n",
    "iter_3 = map(abs, [-3, 2, -8])  # création d'un itérateur sur [-1, 2, -8]\n",
    "next(iter_3)  # donne 3, abs(-3), le premier élément de l'itérateur \n",
    "next(iter_3)  # donne 2, abs(2), l'élément suivant de l'itérateur \n",
    "next(iter_3)  # donne 8, abs(8), l'élément suivant de l'itérateur \n",
    "```\n",
    "\n",
    "Exemple de contruction d'un itérateur avec la fonction `filter()` :\n",
    "\n",
    "``` python\n",
    "iter_4 = filter(bool, [3, 0, \"\", \"a\"]))  # création d'un itérateur sur\n",
    "                                         # la liste [3, 0, \"\", \"a\"]\n",
    "next(iter_4)  # donne 3, car bool(3) vaut True\n",
    "next(iter_4)  # donne \"a\", 0 est ignoré car bool(0) vaut False\n",
    "              #          , \"\" est ignoré car bool(\"\") vaut False\n",
    "              #          , puis bool(\"a\") vaut True  \n",
    "```\n",
    "\n",
    "Exemple de contruction d'un itérateur avec la fonction `zip()` :\n",
    "\n",
    "``` python\n",
    "iter_5 = zip([\"Astérix\", \"Tintin\", \"Boule\"], [\"Idéfix\", \"Milou\", \"Bill\"])\n",
    "\n",
    "next(iter_5)  # donne ('Astérix', 'Idéfix')\n",
    "next(iter_5)  # donne ('Tintin', 'Milou')\n",
    "next(iter_5)  # donne ('Boule', 'Bill')\n",
    "```"
   ]
  },
  {
   "cell_type": "markdown",
   "metadata": {},
   "source": [
    "### 8.5 🟨🞳🞳 Exercice - Itérateur\n",
    "\n",
    "Soit deux objets itérables `s_1` et `li_1`\n",
    "\n",
    "``` python\n",
    "s_1 = \"Bonjour\"\n",
    "li_1 = [\"un\", \"deux\", \"trois\", \"quatre\", \"cinq\"]\n",
    "```\n",
    "\n",
    "Afficher les données renvoyées pour chacune des 3 premières itérations sur les itérateurs suivants :\n",
    "- itérateur qui renvoie les lettres de la chaine `s_1` dans l'ordre croissant\n",
    "- itérateur qui renvoie les éléments de la liste `li_1` dans l'ordre inverse\n",
    "- itérateur qui renvoie la taille des éléments de la liste `li_1` dans l'ordre croissant "
   ]
  },
  {
   "cell_type": "code",
   "execution_count": 245,
   "metadata": {},
   "outputs": [],
   "source": [
    "# Insérez votre code ici\n"
   ]
  },
  {
   "cell_type": "code",
   "execution_count": 246,
   "metadata": {},
   "outputs": [
    {
     "name": "stdout",
     "output_type": "stream",
     "text": [
      "3 itérations sur iter('Bonjour') : B o n\n",
      "3 itérations sur reversed(['un', 'deux', 'trois', 'quatre']) : quatre trois deux\n",
      "3 itérations sur map(len, ['un', 'deux', 'trois', 'quatre']) : 2 4 5\n"
     ]
    }
   ],
   "source": [
    "# Proposition de solution\n",
    "\n",
    "s_1 = \"Bonjour\"\n",
    "li_1 = [\"un\", \"deux\", \"trois\", \"quatre\"]\n",
    "\n",
    "it_1 = iter(s_1)\n",
    "it_2 = reversed(li_1)\n",
    "it_3 = map(len, li_1)\n",
    "\n",
    "print(\n",
    "    f\"3 itérations sur iter({s_1!r}) :\", \n",
    "    next(it_1), \n",
    "    next(it_1), \n",
    "    next(it_1),\n",
    ")\n",
    "print(\n",
    "    f\"3 itérations sur reversed({li_1}) :\", \n",
    "    next(it_2), \n",
    "    next(it_2), \n",
    "    next(it_2),\n",
    ")\n",
    "\n",
    "print(\n",
    "    f\"3 itérations sur map(len, {li_1}) :\", \n",
    "    next(it_3), \n",
    "    next(it_3), \n",
    "    next(it_3),\n",
    ")"
   ]
  },
  {
   "cell_type": "markdown",
   "metadata": {},
   "source": [
    "### 8.6 🟩🞳 Intervalle\n",
    "\n",
    "Les objets de type intervalle (*range* en anglais) représentent des séquences de nombres entiers (`int`) mais sans les lister explicitement, de ce fait l'occupation en mémoire d'un objet `range` est indépendante du nombre d'entiers qu'ils contiennent. Ce sont des objets séquentiels, ils sont donc itérables et servent souvent pour construire des itérateurs. \n",
    "\n",
    "Pour créer un objet intervalle il faut utiliser le **constructeur** d'instances de classe `range()` des manières suivantes :\n",
    "\n",
    "- `range(stop)` renvoie un objet intervalle d'entiers allant de `0` jusqu'à l'élément d'indice `stop` exclu.\n",
    "- `range(start, stop)` renvoie un objet intervalle d'entiers allant de `start` inclus jusqu'à `stop` exclu.\n",
    "- `range(start, stop, step)` renvoie un objet intervalle d'entiers allant de `start` inclus jusqu'à `stop` exclu en progressant par pas de `step`. Si `step` est négatif, la progression se fait en sens inverse.\n",
    "\n",
    "Autrement dit, le contenu d'un intervalle `r` est déterminé par l'expression `r[i] = start + step * i` où \n",
    "- $i \\ge 0 \\;$ et $\\; r[i] \\lt stop \\;$ si `step` est positif \n",
    "- $i \\ge 0 \\;$ et $\\; r[i] \\gt stop \\;$ si `step` est négatif\n",
    "\n",
    "Exemples :"
   ]
  },
  {
   "cell_type": "code",
   "execution_count": 247,
   "metadata": {},
   "outputs": [
    {
     "name": "stdout",
     "output_type": "stream",
     "text": [
      "range(0, 5)\n",
      "longueur : 5\n",
      "premier élément : 0\n",
      "dernier élément : 4\n"
     ]
    }
   ],
   "source": [
    "range_1 = range(5)  # objet range itérable de 0 à 5 exclu\n",
    "print(range_1)\n",
    "print(\"longueur :\", len(range_1),)\n",
    "print(\"premier élément :\", range_1[0])\n",
    "print(\"dernier élément :\", range_1[-1])\n"
   ]
  },
  {
   "cell_type": "markdown",
   "metadata": {},
   "source": [
    "### 8.7 🟩🞳 Exercice - Intervalle\n",
    "\n",
    "Soient quatre objets de type intervalle\n",
    "\n",
    "``` python\n",
    "range_2 = range(3, 9)\n",
    "range_3 = range(3, 16, 4)\n",
    "range_4 = range(16, 3, -4)\n",
    "range_5 = range(-16, 3, 2)\n",
    "```\n",
    "\n",
    "Pour chacun d'eux, afficher \n",
    "- le nombre d'éléments\n",
    "- le premier élément\n",
    "- le dernier élément"
   ]
  },
  {
   "cell_type": "code",
   "execution_count": 248,
   "metadata": {},
   "outputs": [],
   "source": [
    "# Insérez votre code ici\n"
   ]
  },
  {
   "cell_type": "code",
   "execution_count": 249,
   "metadata": {},
   "outputs": [
    {
     "name": "stdout",
     "output_type": "stream",
     "text": [
      "               range | longueur |  premier |  dernier |\n",
      "-------------------- | -------- | -------- | -------- |\n",
      "         range(3, 9) |        6 |        3 |        8 |\n",
      "     range(3, 16, 5) |        3 |        3 |       13 |\n",
      "    range(16, 3, -5) |        3 |       16 |        6 |\n",
      "    range(-16, 3, 3) |        7 |      -16 |        2 |\n"
     ]
    }
   ],
   "source": [
    "# Proposition de solution\n",
    "\n",
    "range_2 = range(3, 9)\n",
    "range_3 = range(3, 16, 5)\n",
    "range_4 = range(16, 3, -5)\n",
    "range_5 = range(-16, 3, 3)\n",
    "\n",
    "fs_1 = \"{:>20} | {:>8} | {:>8} | {:>8} |\"\n",
    "fs_2 = \"{:->20} | {:->8} | {:->8} | {:->8} |\"\n",
    "print(fs_1.format(\"range\", \"longueur\", \"premier\", \"dernier\"))\n",
    "print(fs_2.format(\"\", \"\", \"\", \"\"))\n",
    "print(fs_1.format(\"range(3, 9)\", len(range_2), range_2[0], range_2[-1]))\n",
    "print(fs_1.format(\"range(3, 16, 5)\", len(range_3), range_3[0], range_3[-1]))\n",
    "print(fs_1.format(\"range(16, 3, -5)\", len(range_4), range_4[0], range_4[-1]))\n",
    "print(fs_1.format(\"range(-16, 3, 3)\", len(range_5), range_5[0], range_5[-1]))\n"
   ]
  },
  {
   "cell_type": "markdown",
   "metadata": {},
   "source": [
    "### 8.8 🟩🞳 Constructeur d'instances de classe `list()`\n",
    "\n",
    "Syntaxe : `list(iterable)`<br />\n",
    "Sémantique : Instancie un objet de type `list` dont les éléments sont obtenus en itérant entièrement sur un itérateur construit à partir de l'objet `iterable`. \n",
    "\n",
    "Exemples :\n",
    "\n",
    "``` python\n",
    "list()  # liste vide []\n",
    "list(range(5))  # liste d'entiers [0, 1, 2, 3, 4]\n",
    "list(range(0, 10, 2))  # liste d'entiers pair [0, 2, 4, 6, 8]\n",
    "list(\"Bonjour\")  # liste de caractères ['B', 'o', 'n', 'j', 'o', 'u', 'r']\n",
    "list(\"Bonjour\"[2:4])  # liste de caractères ['n', 'j']\n",
    "list(map(abs, range(-3, 3)))  # liste d'entiers [3, 2, 1, 0, 1, 2]\n",
    "```"
   ]
  },
  {
   "cell_type": "markdown",
   "metadata": {},
   "source": [
    "### 8.8 🟥🞳🞳🞳 Agencement en comprehension\n",
    "\n",
    "Les listes par agencement en compréhension fournissent un moyen de construire des listes de manière concise et dans un esprit très \"Pythonique\". Les utilisations classiques sont :\n",
    "- la création d'une liste dont les éléments sont les résultats d'une opération appliquée à chaque élément d'une autre liste ou plus génératement d'une séquence.\n",
    "``` python\n",
    "[2 * x for x in range(6)]  # donne [0, 2, 4, 6, 8, 10]\n",
    "```\n",
    "- la création d'une liste dont les éléments sont ceux d'une autre séquence respectant une condition donnée (filtrage).\n",
    "``` python\n",
    "[x for x in range(6) if x % 2 == 0]  # donne [0, 2, 4]\n",
    "```"
   ]
  },
  {
   "cell_type": "markdown",
   "metadata": {},
   "source": [
    "Une liste par agencement en compréhension est constituée par une seule expression suivie par au moins une clause `<clause_for_if>`, l'ensemble entre crochets `[]`. \n",
    "\n",
    "<img src=\"img/BE1_liste_comprehension.png\" style=\"width:520px\" />\n",
    "\n",
    "Syntaxe : `[<expression> <clause_for_if> <clause_for_if> ... <clause_for_if>]` avec\n",
    "- `<expression>` une expression Python valide dont l'objet résultant sera assigné à un éléments de la liste ; elle fait référence à un ou plusieurs objets nommées par les clauses `<clause_for_if>` qui suivent.\n",
    "- `<clause_for_if>` est une clause `<clause_for>` suivie de zéro à plusieurs clauses `<clause_if>`<br />\n",
    "  syntaxe d'une clause `<clause_for_if>` :  `<clause_for> <clause_if> <clause_if> ...` avec\n",
    "  - syntaxe d'une clause `<clause_for>` : `for <nom_cible> in <iterable>`\n",
    "  - syntaxe d'une clause `<clause_if>` : `if <expression_logique>` \n",
    "\n",
    "Sémantique : une liste par agencement en comprehension est obtenue en évaluant la première clause `<clause_for_if>` (la plus à gauche). L'évaluation d'une clause `<clause_for_if>` consite à itérer sur son itérable `<iterable>`, et pour chaque élément obtenu, l'assigner au nom `<nom_cible>` de la clause puis évaluer les clauses `<clause_if>` qui suivent,\n",
    "  - si l'`<expression_logique>` de toutes les `<clause_if>` renvoie `True` et qu'il n'y a pas d'autres clauses `<clause_for_if>` à droite, alors l'`<expression>` est évaluée avec les objets qui ont été assigné au(x) `<nom_cible>`(s) ;\n",
    "  - si l'`<expression_logique>` de toutes les `<clause_if>` renvoie `True` et qu'il y a une clause `<clause_for_if>` à droite, alors la clause `<clause_for_if>` est évaluée (définition récursive) ;\n",
    "  - dès que l'`<expression_logique>` d'une `<clause_if>` renvoie `False`, l'itération en cours prend fin sans assigner d'élément au  nom `<nom_cible>`) et la clause `<clause_for_if>` passe à l'itération suivante.\n",
    "\n",
    "En résumé, une liste par agencement en compréhension se contruit en forgeant chaque élément avec une `<expression>` sur des objets filtrés par des clauses `<clause_if>` après avoir été extraits d'itérables par des clauses `<clause_for>`.\n",
    "\n",
    "Quelques exemples de listes par agencement en compréhension.\n",
    "\n",
    "``` python\n",
    "[c.upper() for c in \"Bonjour\"]  # donne ['B', 'O', 'N', 'J', 'O', 'U', 'R']\n",
    "```\n",
    "\n",
    "Chaque élément de la liste est obtenu avec l'expression `c.upper()` où `c` prend les valeurs fournies successivement par l'itérateur construit sur l'itérable `\"Bonjour\"`\n",
    "> `\"B\"` est le 1er élément remvoyé par l'itérateur, il est assigné à `c`<br />\n",
    "> `\"B\".upper()` (`\"B\"`) est assigné au 1er élément de la liste<br />\n",
    "> `\"o\"` est le 2e  élément remvoyé par l'itérateur, il est assigné à `c`<br />\n",
    "> `\"o\".upper()` (`\"O\"`) est assigné au 2e élément de la liste<br />\n",
    "> ...<br />\n",
    "> `\"r\"` est le 7e  élément remvoyé par l'itérateur, il est assigné à `c`<br />\n",
    "> `\"r\".upper()` (`\"R\"`) est assigné au 7e élément de la liste<br />\n",
    "> l'itérateur ne renvoie plus de valeur, la liste est entièrement construite\n",
    "\n",
    "``` python\n",
    "[n for n in range(10) if n > 2 if n < 8]  # donne [3, 4, 5, 6, 7]\n",
    "```\n",
    "\n",
    "Chaque élément de la liste est obtenu avec l'expression `n` où `n` prend les valeurs fournies successivement par l'itérateur construit sur l'itérable `range(10)` qui respectent les clauses `<clause_if>`\n",
    "\n",
    "> `0` est le 1er élément remvoyé par l'itérateur, il est assigné à `n`<br />\n",
    "> `n > 2` est faux, on passe à l'itération suivante<br />\n",
    "> `1` est le 2e élément remvoyé par l'itérateur, il est assigné à `n`<br />\n",
    "> `n > 2` est faux, on passe à l'itération suivante<br />\n",
    "> `2` est le 3e élément remvoyé par l'itérateur, il est assigné à `n`<br />\n",
    "> `n > 2` est faux, on passe à l'itération suivante<br />\n",
    "> `3` est le 4e élément remvoyé par l'itérateur, il est assigné à `n`<br />\n",
    "> `n > 2` est vrai<br />\n",
    "> `n < 8` est vrai<br />\n",
    "> `n`, c'est-à-dire `3`  est assigné au 1e élément de la liste<br />\n",
    "> ...<br />\n",
    "> `8` est le 9e élément remvoyé par l'itérateur, il est assigné à `n`<br />\n",
    "> `n > 2` est vrai<br />\n",
    "> `n < 8` est faux, on passe à l'itération suivante<br />\n",
    "> `9` est le 10e élément remvoyé par l'itérateur, il est assigné à `n`<br />\n",
    "> `n > 2` est vrai<br />\n",
    "> `n < 8` est faux, on passe à l'itération suivante<br />\n",
    "> l'itérateur ne renvoie plus de valeur, la liste est entièrement construite\n",
    "\n",
    "\n",
    "``` python\n",
    "[\n",
    "    f\"{i}x{j}={i * j}\" for i in range(1, 3) for j in range(1, 4)\n",
    "]  # donne ['1x1=1', '1x2=2', '1x3=3', '2x1=2', '2x2=4', '2x3=6']\n",
    "```\n",
    "\n",
    "Chaque élément de la liste est obtenu avec l'expression `f\"{i}x{j}={i * j}\"` où `i` et `j` prennent les valeurs fournies par l'itérateur construit sur `range(1, 3)` que l'on nommera `iter1` et l'itérateur construit sur `range(1, 4)` que l'on nommera `iter2`.\n",
    "\n",
    "> `1` est le 1er élément remvoyé par `iter1`, il est assigné à `i`<br />\n",
    "> On evalue la clause <clause_for_if> qui suit\n",
    ">> `1` est le 1er élément remvoyé par `iter2`, il est assigné à `j`<br />\n",
    ">> `f\"{i}x{j}={i * j}\"` (`\"1x1=1\"`) est assigné au 1er élément de la liste<br />\n",
    ">> `2` est le 2e élément remvoyé par `iter2`, il est assigné à `j`<br />\n",
    ">> `f\"{i}x{j}={i * j}\"` (`\"1x2=2\"`) est assigné au 1er élément de la liste<br />\n",
    ">> `3` est le 3e élément remvoyé par `iter2`, il est assigné à `j`<br />\n",
    ">> `f\"{i}x{j}={i * j}\"` (`\"1x3=3\"`) est assigné au 1er élément de la liste<br />\n",
    ">> `iter_2` ne renvoie plus de valeur <br />\n",
    ">\n",
    "> `2` est le 2e élément remvoyé par `iter1`, il est assigné à `i`<br />\n",
    "> On evalue la clause <clause_for_if> qui suit<br />\n",
    ">> `1` est le 1er élément remvoyé par `iter2`, il est assigné à `j`<br />\n",
    ">> `f\"{i}x{j}={i * j}\"` (`\"2x1=2\"`) est assigné au 1er élément de la liste<br />\n",
    ">> `2` est le 2e élément remvoyé par `iter2`, il est assigné à `j`<br />\n",
    ">> `f\"{i}x{j}={i * j}\"` (`\"2x2=4\"`) est assigné au 1er élément de la liste<br />\n",
    ">> `3` est le 3e élément remvoyé par `iter2`, il est assigné à `j`<br />\n",
    ">> `f\"{i}x{j}={i * j}\"` (`\"2x3=6\"`) est assigné au 1er élément de la liste<br />\n",
    ">> `iter_2` ne renvoie plus de valeur <br />\n",
    "> `iter_1` ne renvoie plus de valeur, la liste est entièrement construite<br />\n"
   ]
  },
  {
   "cell_type": "markdown",
   "metadata": {},
   "source": [
    "### 8.9 🟥🞳🞳🞳 Exercice - Agencement en compréhension\n",
    "\n",
    "En s'appuyant sur les régularités observées, construire à l'aide d'un agencement de liste en compréhension les listes suivantes données sous la forme d'un agencement en extension :\n",
    "\n",
    "``` python\n",
    "mat_1 = [6, 5, 4, 3, 2, 1]\n",
    "mat_2 = [1.0, 1.1, 1.2, 1.3, 1.4, 1.5, 1.6, 1.7, 1.8, 1.9]\n",
    "mat_3 = [\n",
    "    [0, 1, 2],\n",
    "    [3, 4, 5],\n",
    "    [6, 7, 8],\n",
    "]\n",
    "```\n",
    "\n",
    "Construire à l'aide d'un agencement de liste en compréhension les listes suivantes construites à partir de la liste<br />`li_1 = [6.512, 6.914, 8.566, 7.651, 6.065, 5.043, 3.778, 1.104, 5.318, 3.568]` :\n",
    "\n",
    "- `[6.5, 6.9, 8.6, 7.7, 6.1, 5.0, 3.8, 1.1, 5.3, 3.6]` après avoir arrondi chaque élément à 2 chiffres après la virgule\n",
    "- `[6.512, 6.914, 8.566, 7.651, 6.065, 5.043, 5.318]` en ne conservant que les éléments supérieurs à 5 "
   ]
  },
  {
   "cell_type": "code",
   "execution_count": 250,
   "metadata": {},
   "outputs": [],
   "source": [
    "li_1 = [6.512, 6.914, 8.566, 7.651, 6.065, 5.043, 3.778, 1.104, 5.318, 3.568]\n",
    "\n",
    "# Insérez votre code ici\n"
   ]
  },
  {
   "cell_type": "code",
   "execution_count": 251,
   "metadata": {},
   "outputs": [
    {
     "name": "stdout",
     "output_type": "stream",
     "text": [
      "mat_1 = [6, 5, 4, 3, 2, 1]\n",
      "mat_2 = [1.0, 1.1, 1.2, 1.3, 1.4, 1.5, 1.6, 1.7, 1.8, 1.9]\n",
      "mat_3 = [[0, 1, 2], [3, 4, 5], [6, 7, 8]]\n",
      "[6.5, 6.9, 8.6, 7.7, 6.1, 5.0, 3.8, 1.1, 5.3, 3.6]\n",
      "[6.512, 6.914, 8.566, 7.651, 6.065, 5.043, 5.318]\n"
     ]
    }
   ],
   "source": [
    "# Proposition de solution\n",
    "\n",
    "mat_1 = [i for i in range(6, 0, -1)]\n",
    "print(f\"{mat_1 = }\")\n",
    "\n",
    "mat_2 = [1.0, 1.1, 1.2, 1.3, 1.4, 1.5, 1.6, 1.7, 1.8, 1.9]\n",
    "mat_2 = [round(e, 1) for e in mat_2]\n",
    "print(f\"{mat_2 = }\")\n",
    "\n",
    "mat_3 = [\n",
    "    [0, 1, 2],\n",
    "    [3, 4, 5],\n",
    "    [6, 7, 8],\n",
    "]\n",
    "mat_3 = [[e for e in li] for li in mat_3]\n",
    "print(f\"{mat_3 = }\")\n",
    "\n",
    "li_1 = [6.512, 6.914, 8.566, 7.651, 6.065, 5.043, 3.778, 1.104, 5.318, 3.568]\n",
    "\n",
    "print([round(e, 1) for e in li_1])\n",
    "\n",
    "print([e for e in li_1 if e > 5])"
   ]
  },
  {
   "cell_type": "markdown",
   "metadata": {},
   "source": [
    "### 8.10 🟥🞳🞳🞳 Exercice - Agencement avancé de liste en compréhension\n",
    "\n",
    "Contruire à l'aide d'un agencement de liste en compréhension les listes suivantes données sous la forme d'un agencement en extension :\n",
    "\n",
    "``` python\n",
    "mat_5 = [\n",
    "    [ 0,  1,  2,  3,  4], \n",
    "    [ 5,  6,  7,  8], \n",
    "    [10, 11, 12],\n",
    "    [15, 16],\n",
    "    [20],\n",
    "]\n",
    "mat_6 = [\n",
    "    [1, 0, 0, 0], \n",
    "    [0, 1, 0, 0], \n",
    "    [0, 0, 1, 0],\n",
    "    [0, 0, 0, 1],\n",
    "]\n",
    "mat_7 = [\n",
    "    [1, 2],\n",
    "    [3, 4],\n",
    "    [5, 6],\n",
    "    [7, 8],\n",
    "]\n",
    "```\n",
    "\n",
    "Contruire à l'aide d'un agencement de liste en compréhension :\n",
    "- la `mat_5` uniquement à partir de son rang égal à 5 et d'itérateurs de type `range()`\n",
    "- la matrice identité `mat_6` uniquement à partir de son rang égal à 4 et d'itérateurs de type `range()`\n",
    "- la matrice transposé `mat_7t = [[1, 3, 5, 7], [2, 4, 6, 8]]` uniquement à partir de `mat7`"
   ]
  },
  {
   "cell_type": "code",
   "execution_count": 252,
   "metadata": {},
   "outputs": [],
   "source": [
    "mat_7 = [[1, 2], [3, 4], [5, 6], [7, 8]]\n",
    "\n",
    "# Insérez votre code ici\n"
   ]
  },
  {
   "cell_type": "code",
   "execution_count": 253,
   "metadata": {},
   "outputs": [
    {
     "name": "stdout",
     "output_type": "stream",
     "text": [
      "mat_5 = [[0, 1, 2, 3, 4], [5, 6, 7, 8], [10, 11, 12], [15, 16], [20]]\n",
      "mat_6 = [[1, 0, 0, 0], [0, 1, 0, 0], [0, 0, 1, 0], [0, 0, 0, 1]]\n",
      "mat_7t = [[1, 3, 5, 7], [2, 4, 6, 8]]\n"
     ]
    }
   ],
   "source": [
    "# Proposition de solution\n",
    "\n",
    "mat_5 = [\n",
    "    [ 0,  1,  2,  3,  4], \n",
    "    [ 5,  6,  7,  8], \n",
    "    [10, 11, 12],\n",
    "    [15, 16],\n",
    "    [20],\n",
    "]\n",
    "rank = 5\n",
    "mat_5 = [[j + rank * i for j in range(rank - i)] for i in range(rank)]\n",
    "print(f\"{mat_5 = }\")\n",
    "\n",
    "mat_6 = [\n",
    "    [1, 0, 0, 0], \n",
    "    [0, 1, 0, 0], \n",
    "    [0, 0, 1, 0],\n",
    "    [0, 0, 0, 1],\n",
    "]\n",
    "rank = 4\n",
    "mat_6 = [[int(i == j) for j in range(rank)] for i in range(rank)]\n",
    "mat_6 = [[(1 if i == j else 0) for j in range(rank)] for i in range(rank)]\n",
    "print(f\"{mat_6 = }\")\n",
    "\n",
    "mat_7 = [[1, 2], [3, 4], [5, 6], [7, 8]]\n",
    "mat_7t = [[ligne[i] for ligne in mat_7] for i in range(len(mat_7[0]))]\n",
    "# Cette seconde solution est plus efficace et plus \"Pythonique\",\n",
    "# elle utilise l'opérateur * pour dézipper les lignes de la matrice\n",
    "mat_7t = [list(ligne) for ligne in zip(*mat_7)]\n",
    "print(f\"{mat_7t = }\")"
   ]
  },
  {
   "cell_type": "markdown",
   "metadata": {},
   "source": [
    "### 8.11 🟩🞳 Expressions avec des listes\n",
    "\n",
    "Il est possible de construire les expressions à base d'opérateurs et de fonctions (ex : +, *, sorted())\n",
    "\n",
    "- `[1, 2, 3] + [\"a\", \"b\"]` donne `[1, 2, 3, \"a\", \"b\"]` (concaténation de deux listes)\n",
    "- `3 * [1, 2]` donne `[1, 2, 1, 2, 1, 2]` (réplication en 3 exemplaires de la liste [1, 2])\n",
    "- `sorted(li)` renvoie une nouvelle liste ordonnée avec les éléments de la liste `li`, la comparaison entre éléments se fait sur leur valeur<br>\n",
    "  exemple : `sorted([6, 2, 8])` renvoie `[2, 6, 8]`\n",
    "- `sorted(li, reverse=True)` renvoie une nouvelle liste ordonnée en ordre inverse avec les éléments de la liste `li`, la comparaison entre éléments se fait sur leur valeur<br />\n",
    "   exemple : `sorted([6, 2, 8], reverse=True)` renvoie `[8, 6, 2]`\n",
    "-  `sorted(li, key=fonc)` renvoie une nouvelle liste triée ordonnée avec les éléments de la liste `li`, la comparaison se fait entre éléments sur la valeur retournée par la fonction `fonc()` dont ils sont l'argument<br />\n",
    "   exemple : `sorted([-4, -2, 1, 7], key=abs)` renvoie `[1, -2, -4, 7]` (éléments ordonnées par leur valeur absolue)\n",
    "\n",
    "Bien qu'elle ne renvoie pas un liste, la fonction native `len()` s'applique aux listes, comme à toutes les séquences\n",
    "- `len(li)` renvoie le nombre d'éléments de la liste `li`<br />\n",
    "  exemple : `len([1, 2, [3, 4]])` renvoie `3` (2 entiers + 1 liste)\n",
    "\n"
   ]
  },
  {
   "cell_type": "markdown",
   "metadata": {},
   "source": [
    "### 8.12 🟩🞳 Exercice - Expressions avec des listes\n",
    "\n",
    "Proposer une seule expression qui à partir d'une chaine de caractères référencée par le nom `ch1` construire une nouvelle chaine de caractère qui est la concaténation de :\n",
    "- la chaine originelle `ch1`\n",
    "- un retour à la ligne\n",
    "- une suite de signe `=` en même nombre qu'il y a de caractères dans `ch1` pour souligné `ch1`\n",
    "\n",
    "| Exemple pour `ch1`    | Chaine attendue                  | affichage attendu<br/>avec print |\n",
    "|-----------------------|----------------------------------|----------------------------------|\n",
    "| `\"Bonjour\"`           | `'Bonjour\\n======='`             | `Bonjour`<br />`=======`         |\n",
    "| `\"Titre à souligner\"` | `'Titre à souligner\\n================='` | `Titre à souligner`<br />`=================` |"
   ]
  },
  {
   "cell_type": "code",
   "execution_count": 254,
   "metadata": {},
   "outputs": [],
   "source": [
    "ch1 = \"Titre à souligner\"\n",
    "# ch1 = \"Titre plus long à souligner\"\n",
    "\n",
    "# Insérez votre code ici"
   ]
  },
  {
   "cell_type": "code",
   "execution_count": 255,
   "metadata": {},
   "outputs": [
    {
     "name": "stdout",
     "output_type": "stream",
     "text": [
      "Titre à souligner\n",
      "=================\n"
     ]
    },
    {
     "data": {
      "text/plain": [
       "'Titre à souligner\\n================='"
      ]
     },
     "execution_count": 255,
     "metadata": {},
     "output_type": "execute_result"
    }
   ],
   "source": [
    "ch1 = \"Titre à souligner\"\n",
    "# ch1 = \"Titre plus long à souligner\"\n",
    "\n",
    "# Proposition de solution\n",
    "print(ch1 + \"\\n\" + len(ch1) * \"=\")\n",
    "ch1 + \"\\n\" + len(ch1) * \"=\""
   ]
  },
  {
   "cell_type": "markdown",
   "metadata": {},
   "source": [
    "### 8.13 Attributs-méthode de  listes\n",
    "\n",
    "Les objets de type `list` disposent de nombreux attribut-méthodes (méthodes). Ces méthode sont listées si dessous en trois catégories : les méthodes qui modifient la liste, celles qui en extraient des information et celles qui construise une nouvelle liste.\n",
    "\n",
    "**Modification d'une liste**\n",
    "-  `append(x)` ajoute l'objet `x` à la fin de la liste. L'expression `li.append(x)` est équivalente à l'affectation `li[len(li):] = [x]`\n",
    "-  `extend(iter)` étend la liste en y ajoutant les éléments de l'itérable `iter`.  L'expression `li.extend(x)` est équivalente à l'affectation `a[len(a):] = [iter]`\n",
    "-  `insert(i, x)` insert l'objet `x` juste avant l'élément d'indice `i` de la liste\n",
    "-  `pop()` supprime et renvoi le dernier élément de la liste\n",
    "-  `pop(i)` supprime et renvoi l'élément d'indice `i` de la liste\n",
    "-  `remove(x)` supprime de la liste le premier objet dont la valeur est égale à `x`. Une exception `ValueError` est levée s'il n'existe aucun élément avec cette valeur.\n",
    "-  `clear()` supprime tous les éléments de la liste. L'expression `li.clear()` est équivalente à `del li[:]`\n",
    "-  `reverse()` inverse l'ordre des éléments dans la liste\n",
    "-  `sort()` ordonne les éléments dans la liste, la comparaison entre éléments se fait sur leur valeur\n",
    "-  `sort(key=fonc)` ordonne les éléments de la liste, la comparaison se fait entre éléments sur la valeur retournée par la fonction `fonc()` dont ils sont l'argument \n",
    "-  `sort(reverse=True)` ordonne en ordre inverse les éléments de la liste\n",
    "-  `sort(key=fonc, reverse=True)` ordonne en ordre inverse les éléments de la liste, la comparaison se fait entre éléments sur la valeur retournée par la fonction `fonc()` dont ils sont l'argument \n",
    "\n",
    "exemples :\n",
    "\n",
    "``` python\n",
    "li = [\"zéro\", \"un\"]\n",
    "\n",
    "li.append(\"deux\")  # ne renvoi rien et ajoute \"deux\" à la fin\n",
    "# li est [\"zéro\", \"un\", \"deux\"]\n",
    "\n",
    "li.extend([\"trois\", \"quatre\"])  # ne renvoi rien et ajoute les éléments de la liste\n",
    "# li est [\"zéro\", \"un\", \"deux\", \"trois\", \"quatre\"]\n",
    "\n",
    "li.insert(3, \"deux et demi\")  # ne renvoi rien et insère \"deux et demi\" à l'indice 3\n",
    "# li est [\"zéro\", \"un\", \"deux\", \"deux et demi\", \"trois\", \"quatre\"]\n",
    "\n",
    "li.remove(\"deux\")  # ne renvoi rien et retire la première occurrence de \"deux\"\n",
    "# li est [\"zéro\", \"un\", \"deux\", \"deux et demi\", \"trois\", \"quatre\"]\n",
    "\n",
    "li.pop()  # renvoi 'quatre' et retire le dernier élément\n",
    "# li est [\"zéro\", \"un\", \"deux\", \"deux et demi\", \"trois\"]\n",
    "\n",
    "li.reverse()  # ne renvoi rien et inverse l'ordre des éléments\n",
    "# li est [\"trois\", \"deux et demi\", \"deux\", \"un\", \"zéro\"]\n",
    "\n",
    "li.sort()  # ne renvoi rien et tri par ordre des valeurs des éléments\n",
    "# li est [\"deux\", \"deux et demi\", \"trois\", \"un\", \"zéro\"]\n",
    "\n",
    "li.sort(key=len)  # ne renvoi rien et tri par longueur des éléments\n",
    "# li est ['un', 'zéro', 'trois', 'deux et demi']\n",
    "\n",
    "li.sort(reverse=True)  # ne renvoi rien et tri par ordre inverse des valeurs des éléments\n",
    "# li est ['zéro', 'un', 'trois', 'deux et demi']\n",
    "\n",
    "li.clear()  # supprime tous les éléments de la liste\n",
    "# li est[]\n",
    "```"
   ]
  },
  {
   "cell_type": "markdown",
   "metadata": {},
   "source": [
    "**Extraction d'information d'une liste**\n",
    "\n",
    "-  `index(x)` renvoie l'indice du premier élément de la liste dont la valeur est égale celle de `x`\n",
    "-  `index(x, start) ` renvoie l'indice du premier élément de la liste dont la valeur est égale celle de `x`, avec une recheche commençant à l'incide `start`\n",
    "-  `index(x, start, end)` renvoie l'indice du premier élément de la liste dont la valeur est égale celle de `x`, avec une recheche commençant à l'incide `start` et finissant à l'indice `stop` exclus\n",
    "-  `count(x)` renvoie le nombre d'éléments ayant la valeur de `x` dans la liste\n",
    "\n",
    "Exemples :\n",
    "\n",
    "``` python\n",
    "# indices\n",
    "#      0    1    2    3    4    5    6    7    8    9    10 \n",
    "li = [\"A\", \"b\", \"r\", \"a\", \"c\", \"a\", \"d\", \"a\", \"b\", \"r\", \"a\"]\n",
    "\n",
    "li.index(\"a\")  # donne 3\n",
    "li.index(\"a\", 4)  # donne 5 (recherche à partir de l'indice 4)\n",
    "li.count(\"a\")  # donne 4 (nombre d'occurrences de \"a\")\n",
    "```"
   ]
  },
  {
   "cell_type": "markdown",
   "metadata": {},
   "source": [
    "\n",
    "**Construction d'une nouvelle liste**\n",
    "\n",
    "-  `copy()` renvoie une liste qui est la cope superficielle de la liste. Une copie L'expression `li.copy()` est équivalente à l'expression `li[:]`\n",
    "\n",
    "Exemples :"
   ]
  },
  {
   "cell_type": "code",
   "execution_count": 256,
   "metadata": {},
   "outputs": [
    {
     "name": "stdout",
     "output_type": "stream",
     "text": [
      "| li_1 =  [12, 'abc', [1, 2, 5]]  | li_2 =  [12, 'abc', [1, 2, 5]]  |\n",
      "|---------------------------------|---------------------------------|\n",
      "|    id(li_1) =     2157152664256 |    id(li_2) =     2157152652608 |\n",
      "| id(li_1[0]) =   140704025265288 | id(li_2[0]) =   140704025265288 |\n",
      "| id(li_1[1]) =   140704024067264 | id(li_2[1]) =   140704024067264 |\n",
      "| id(li_1[2]) =     2157152659712 | id(li_2[2]) =     2157152659712 |\n"
     ]
    }
   ],
   "source": [
    "li_1 = [12, \"abc\", [1, 2, 5]]\n",
    "li_2 = li_1.copy()  # création d'une copie de la liste li_1 et assignation à li_2 \n",
    "\n",
    "print(f\"| {li_1 = !r:^24} | {li_2 = !r:^24} |\")  # donne les identifiants des deux listes\n",
    "print(\"|\" + 33 * \"-\" + \"|\" + 33 * \"-\" + \"|\") \n",
    "print(f\"| {   id(li_1) =:>18} | {   id(li_2) =:>18} |\")\n",
    "print(f\"| {id(li_1[0]) =:>18} | {id(li_2[0]) =:>18} |\")\n",
    "print(f\"| {id(li_1[1]) =:>18} | {id(li_2[1]) =:>18} |\")\n",
    "print(f\"| {id(li_1[2]) =:>18} | {id(li_2[2]) =:>18} |\")"
   ]
  },
  {
   "cell_type": "markdown",
   "metadata": {},
   "source": [
    "### 8.XX Comparaison de listes\n",
    "\n"
   ]
  },
  {
   "cell_type": "markdown",
   "metadata": {},
   "source": [
    "## 9 - N-uplet\n"
   ]
  },
  {
   "cell_type": "markdown",
   "metadata": {},
   "source": [
    "Le type **n-uplet** nommée `tuple` avec Python est également un type combiné et séquentiel. Un objet de type `tuple` s'écrit entre parenthèses avec ses éléments séparés par une virgule. Les éléments d'une liste ne sont pas obligatoirement tous du même type. Exemples :\n",
    "\n",
    "``` python\n",
    "(\"Châtelet - Les Halles\", [\"RER\", \"A\", \"B\", \"D\"], (\"Métro\", 1, 4, 11, 14))\n",
    "```\n",
    "\n",
    "<img src=\"img/BE1_tuple_01.png\" style=\"width:350px;\" />\n",
    "\n",
    "Tout comme les listes, les n-uplets supportent les opérations d'indiçage et de tranchage. \n",
    "\n",
    "Les n-uplets ressemblent beaucoup aux listes. Les points qui les différencient sont :\n",
    "- les objets de type `tuple` immuable, la séquence des éléments qu'ils contiennent ne peut plus changer après leurs créations, alors qu'il est possible de le faire pour les objets de type `list`.\n",
    "- les objets de type `tuple` prennent moins de place en mémoire que les objets de type `list` au cours de l'exécution du programme.\n",
    "- les objets de type `tuple` permettent un accès plus rapide à leurs éléments que les objets de type `list` au cours de l'exécution du programme.\n"
   ]
  },
  {
   "cell_type": "markdown",
   "metadata": {},
   "source": [
    "\n",
    "https://docs.python.org/fr/3/tutorial/datastructures.html#tuples-and-sequences\n",
    "\n",
    "L'instruction t = 12345, 54321, 'hello!' est un exemple d'agrégation de *n-uplet* (tuple packing en anglais) : les valeurs 12345, 54321 et hello! sont agrégées ensemble dans un n-uplet. L'opération inverse est aussi possible :\n",
    "\n",
    "```python\n",
    "x, y, z = t\n",
    "```\n",
    "\n",
    "Ceci est appelé, de façon plus ou moins appropriée, une dissociation de séquence (sequence unpacking en anglais) et fonctionne pour toute séquence placée à droite de l'expression. Cette dissociation requiert autant de variables dans la partie gauche qu'il y a d'éléments dans la séquence. Notez également que cette affectation multiple est juste une combinaison entre une agrégation de n-uplet et une dissociation de séquence."
   ]
  },
  {
   "cell_type": "code",
   "execution_count": 257,
   "metadata": {},
   "outputs": [
    {
     "name": "stdout",
     "output_type": "stream",
     "text": [
      "0 [1, 2, 3] 4\n",
      "1 [2, 3, 4] 5\n"
     ]
    }
   ],
   "source": [
    "tuple(range(10))\n",
    "x, *y, z = range(5)\n",
    "print(x, y, z)\n",
    "\n",
    "li = [1, 2, 3, 4, 5]\n",
    "#premier, *li, dernier = li\n",
    "[premier, *li, dernier] = li\n",
    "print(premier, li, dernier)\n"
   ]
  },
  {
   "cell_type": "markdown",
   "metadata": {},
   "source": [
    "Pour créer un objet de type `list`, il existe quatre moyens :\n",
    "\n",
    "- l'agencement en extension (les éléments sont listés explicitement)\n",
    "- le constructeur d'instances de classe `list()`\n",
    "- l'agencement en comprehension\n",
    "- les expressions à base d'opérateurs et de fonctions natives (ex : +, *, sorted(), chr(), repr(), ascii(), bin(), hex(), oct(), min(), max())\n",
    "\n",
    "\n",
    "Les fonctions natives qui s'appliquent aux listes  len(), min(), et max()\n",
    "\n",
    "méthodes qui modifient la liste append(), extend(), insert(index, obj), remove(obj), a.pop(index=-1)"
   ]
  },
  {
   "cell_type": "markdown",
   "metadata": {},
   "source": [
    "Quelques fonctions natives supplémentaires qui s'appliquent à des listes, mais qui ne renvoient pas une liste.\n",
    "\n",
    "- `len(x)` renvoie un entier, la longueur de la liste `x` (nombre d'élement')<br />`len([1, \"A\", \"B\", 3])` renvoie `4`<br />`len([1, [\"A\", \"B\"], 3])` renvoie `3`\n",
    "- `eval(s)` analyse et évalue la chaine `s` comme une expression Python<br />`eval(\"pow(3, 2) - 1.2\")` donne `7.8`"
   ]
  },
  {
   "cell_type": "code",
   "execution_count": 258,
   "metadata": {},
   "outputs": [
    {
     "name": "stdout",
     "output_type": "stream",
     "text": [
      "Matrice 4X2 : [[1, 2], [3, 4], [5, 6], [7, 8]]\n",
      "Colonne 1 : [[1], [3], [5], [7]]\n",
      "Colonne 1 transposée : [1, 3, 5, 7]\n",
      "Matrice 4x2 transposée : [[1, 3, 5, 7], [2, 4, 6, 8]]\n",
      "Matrice identité 4x4 : [[1, 0, 0, 0], [0, 1, 0, 0], [0, 0, 1, 0], [0, 0, 0, 1]]\n"
     ]
    },
    {
     "data": {
      "text/plain": [
       "['Chb', 'Tdb']"
      ]
     },
     "execution_count": 258,
     "metadata": {},
     "output_type": "execute_result"
    }
   ],
   "source": [
    "type(zip(\"abc\", [1, 2, 3]))\n",
    "\n",
    "enseignes = [\"♠\", \"♡\", \"♢\", \"♣\"]  # \"\\u2660\" \"\\u2661\" \"\\u2662\" \"\\u2663\"\n",
    "valeurs = [\"A\", 2, 3, 4, 6, 7, 8, 9, 10, \"V\", \"D\", \"R\"]\n",
    "\n",
    "\n",
    "# Transposer une matrice de \n",
    "mat_4x2 = [[1, 2], [3,4], [5,6], [7,8]]\n",
    "print(\"Matrice 4X2 :\", mat_4x2)\n",
    "col_1 = [[ligne[0]] for ligne in mat_4x2]\n",
    "print(\"Colonne 1 :\", col_1)\n",
    "col_1_transp = [ligne[0] for ligne in mat_4x2] \n",
    "print(\"Colonne 1 transposée :\", col_1_transp)\n",
    "mat_4x2_transp = [[ligne[i] for ligne in mat_4x2] for i in [0, 1]]\n",
    "print(\"Matrice 4x2 transposée :\", mat_4x2_transp)\n",
    "\n",
    "\n",
    "# Créer une matrice identité de taille 4x4\n",
    "mat_identite = [[1 if i == j else 0 for j in range(4)] for i in range(4)]\n",
    "mat_identite = [[1 if i == j else 0 for j in range(4)] for i in range(4)]\n",
    "print(\"Matrice identité 4x4 :\", mat_identite)\n",
    "\n",
    "\n",
    "# Example 9: Finding the elements in a list in which elements are ended with the letter ‘b’ and the length of that element is greater than 2\n",
    "\n",
    "names = ['Ch','Dh','Eh','cb','Tb','Td','Chb','Tdb']\n",
    "final_names = [name for name in names if name.lower().endswith('b') and len(name) > 2]\n",
    "final_names\n",
    "\n",
    "# Output:\n",
    "# ['Chb', 'Tdb']"
   ]
  },
  {
   "cell_type": "markdown",
   "metadata": {},
   "source": [
    "## Dissociation de séquence (*sequence unpacking* en anglais)"
   ]
  },
  {
   "cell_type": "code",
   "execution_count": 259,
   "metadata": {},
   "outputs": [
    {
     "name": "stdout",
     "output_type": "stream",
     "text": [
      "a ['b', 'c', 'd', 'e', 'f', 'r'] z\n"
     ]
    }
   ],
   "source": [
    "a, *b, z = \"abcdefrz\"\n",
    "print(a, b, z)"
   ]
  },
  {
   "cell_type": "code",
   "execution_count": 260,
   "metadata": {},
   "outputs": [
    {
     "data": {
      "text/plain": [
       "['Chb', 'Tdb']"
      ]
     },
     "execution_count": 260,
     "metadata": {},
     "output_type": "execute_result"
    }
   ],
   "source": [
    "type(zip(\"abc\", [1, 2, 3]))\n",
    "\n",
    "enseignes = [\"♠\", \"♡\", \"♢\", \"♣\"]  # \"\\u2660\" \"\\u2661\" \"\\u2662\" \"\\u2663\"\n",
    "valeurs = [\"A\", 2, 3, 4, 6, 7, 8, 9, 10, \"V\", \"D\", \"R\"]\n",
    "\n",
    "# Example 9: Finding the elements in a list in which elements are ended with the letter ‘b’ and the length of that element is greater than 2\n",
    "\n",
    "names = ['Ch','Dh','Eh','cb','Tb','Td','Chb','Tdb']\n",
    "final_names = [name for name in names if name.lower().endswith('b') and len(name) > 2]\n",
    "final_names\n",
    "\n",
    "# Output:\n",
    "# ['Chb', 'Tdb']"
   ]
  },
  {
   "cell_type": "markdown",
   "metadata": {},
   "source": [
    "### ??? Dissociation (unpacking)\n",
    "\n",
    "\n",
    "obj_1, obj_2, obj_3 = \"abc\" "
   ]
  },
  {
   "cell_type": "markdown",
   "metadata": {},
   "source": [
    "Techniquement les listes Python ne sont pas à proprement parlé des listes chainées où l'accès à la ième valeur nécessite de parcourir toutes les précédantes, elles sont en réalité des tableaux indicés. Cela permet un accès rapide à un élément de la liste en connaissant sa position, son incide (temps d'accès indépendant de la taille de la liste).\n"
   ]
  },
  {
   "cell_type": "markdown",
   "metadata": {},
   "source": [
    "### Exercice 8.2 - Slice\n",
    "\n",
    "On s'intéresse à la chaine formatée multiligne `institutions`.\n",
    "\n",
    "Solution\n",
    "\n",
    "``` python\n",
    "institutions = \"\"\"\n",
    "0.....................................38.............53......61....67...\n",
    "AgroParisTech                         Palaiseau      48.7143 2.1942\n",
    "CentraleSupélec                       Gif-sur-Yvette 48.7098 2.1624\n",
    "École normale supérieure Paris-Saclay Gif-sur-Yvette 48.7123 2.1641\n",
    "Institut d'optique Graduate School    Palaiseau      48.7137 2.2025\n",
    "Faculté des sciences de Paris-Saclay  Orsay          48.7014 2.1788 \n",
    "Faculté de pharmacie de Paris-Saclay  Orsay          48.7109 2.1724  \n",
    "\"\"\".strip()\n",
    "\n",
    "NOM = slice(0, 38)\n",
    "VILLE = slice(38, 53)\n",
    "LATITUDE = slice(53, 61)\n",
    "LONGITUDE = slice(61, 67)\n",
    "\n",
    "institution = institutions.split(\"\\n\")\n",
    "\n",
    "i = institution[3]\n",
    "print(\"{}, {} (https://www.google.com/maps/dir//{:f},{:f})\".format(\n",
    "    i[NOM].strip(),\n",
    "    i[VILLE].strip(),\n",
    "    float(i[LATITUDE]),\n",
    "    float(i[LONGITUDE])),\n",
    ")\n",
    "\n",
    "i = institution[5]\n",
    "print(\"{}, {} (https://www.google.com/maps/dir//{:f},{:f})\".format(\n",
    "    i[NOM].strip(),\n",
    "    i[VILLE].strip(),\n",
    "    float(i[LATITUDE]),\n",
    "    float(i[LONGITUDE])),\n",
    ")\n",
    "```\n"
   ]
  },
  {
   "cell_type": "markdown",
   "metadata": {},
   "source": [
    "## 9 - Dictionnaire\n"
   ]
  },
  {
   "cell_type": "markdown",
   "metadata": {},
   "source": [
    "## 10 - Ensemble\n"
   ]
  },
  {
   "cell_type": "markdown",
   "metadata": {},
   "source": [
    "## 11 - Muabilité et copie\n",
    "\n",
    "| Catégorie       |  Immuatble                                    | Muable    |\n",
    "|-----------------|-----------------------------------------------|-----------|\n",
    "| Numérique       | `ìnt`<br />`float`<br />`complex`<br />`bool` |           |\n",
    "| Séquence        | `str`<br />`tuple`<br />`bytes` | `list`<br />`bytearray` |\n",
    "| Tableau de correspondance  |                                    | `dict`    |\n",
    "\n"
   ]
  },
  {
   "cell_type": "code",
   "execution_count": null,
   "metadata": {},
   "outputs": [],
   "source": []
  },
  {
   "cell_type": "markdown",
   "metadata": {},
   "source": []
  },
  {
   "cell_type": "markdown",
   "metadata": {},
   "source": [
    "## 12 - Structure de contrôle ou instructions composées\n",
    "\n",
    "https://fr.wikipedia.org/wiki/Structure_de_contr%C3%B4le\n",
    "\n",
    "https://docs.python.org/fr/dev/reference/compound_stmts.html\n",
    "\n",
    "if\n",
    "match\n",
    "\n",
    "\n",
    "### Itérable\n",
    "\n",
    "filter(), reversed(), enumerate(), range() zip()\n",
    "\n",
    "while\n",
    "for -> grammaire expliquée https://realpython.com/python-bnf-notation/#loop-constructs\n",
    "\n",
    "Loop Through Ranges or Use an Alternative -> https://realpython.com/python-range/#loop-through-ranges-or-use-an-alternative\n",
    "\n",
    "range() -> ex: [Construct Numerical Ranges](https://realpython.com/python-range/#construct-numerical-ranges)\n",
    "\n",
    "enumerate() -> exemple https://realpython.com/python-range/#use-enumerate-to-create-indices-instead\n",
    "\n",
    "zip() -> exemple https://realpython.com/python-range/#use-zip-for-parallel-iteration-instead"
   ]
  },
  {
   "cell_type": "markdown",
   "metadata": {},
   "source": [
    "## Introspection\n",
    "\n",
    "On se propose de manipuler deux trois types d'objet Python de base\n",
    "\n",
    "\n",
    "Dans du code Python, les commentaires commencent par le caractère `#` et se termine en fin de la ligne physique."
   ]
  },
  {
   "cell_type": "code",
   "execution_count": 261,
   "metadata": {},
   "outputs": [
    {
     "data": {
      "text/plain": [
       "'Bonjour'"
      ]
     },
     "execution_count": 261,
     "metadata": {},
     "output_type": "execute_result"
    }
   ],
   "source": [
    "1234567  # entier exprimé sous forme literale\n",
    "12 + 34j # nombre complexe exprimé sous forme littérale\n",
    "\"Bonjour\"  # chaîne de caractères exprimée sous forme littérale"
   ]
  },
  {
   "cell_type": "code",
   "execution_count": 262,
   "metadata": {},
   "outputs": [
    {
     "name": "stdout",
     "output_type": "stream",
     "text": [
      "Bonjour\n",
      "<class 'str'>\n",
      "2157145222448\n"
     ]
    }
   ],
   "source": [
    "print(\"Bonjour\")  # affiche Bonjour, la chaîne de caractères\n",
    "print(type(\"Bonjour\"))  # renvoie <class 'str'>, la classe de l'objet \"Bonjour\"\n",
    "print(id(\"Bonjour\"))  # renvoie l'indentifiant de l'oject \"Bonjour\"\""
   ]
  },
  {
   "cell_type": "code",
   "execution_count": 263,
   "metadata": {},
   "outputs": [
    {
     "data": {
      "text/plain": [
       "1234567"
      ]
     },
     "execution_count": 263,
     "metadata": {},
     "output_type": "execute_result"
    }
   ],
   "source": [
    "1234567"
   ]
  },
  {
   "cell_type": "markdown",
   "metadata": {},
   "source": [
    "En Python, les **variables** agissent comme des étiquettes ou des références à des objets en mémoire. Contrairement à certains autres langages de programmation où les variables sont des boîtes contenant des données, en Python, une variable pointe vers un objet qui réside quelque part en mémoire. Cela a plusieurs implications importantes :\n",
    "\n",
    "1. **Assignation multiple** : Plusieurs variables peuvent référencer le même objet. Cela signifie que si l'objet est mutable (modifiable), la modification de l'objet via une variable se répercutera sur toutes les autres variables qui pointent vers cet objet.\n",
    "\n",
    "   ```python\n",
    "   a = [1, 2, 3]  # a pointe vers une liste en mémoire\n",
    "   b = a  # b pointe maintenant vers la même liste que a\n",
    "   b.append(4)  # ajoute un élément à la liste via b\n",
    "   print(a)  # affiche [1, 2, 3, 4], car a et b pointent vers le même objet\n",
    "   ```\n",
    "\n",
    "2. **Immutabilité** : Pour les objets immuables (qui ne peuvent pas être modifiés), comme les entiers, les chaînes de caractères et les tuples, cela signifie que toute \"modification\" de l'objet entraînera en fait la création d'un nouvel objet et la réassignation de la variable à ce nouvel objet.\n",
    "\n",
    "   ```python\n",
    "   x = 5  # x pointe vers l'objet 5\n",
    "   x = x + 1  # un nouvel objet 6 est créé, et x pointe maintenant vers 6\n",
    "   ```\n",
    "\n",
    "3. **Passage par référence** : Lorsque vous passez des objets à des fonctions, vous passez des références à ces objets. Cela signifie que si vous modifiez l'objet à l'intérieur de la fonction, la modification sera visible à l'extérieur de la fonction.\n",
    "\n",
    "   ```python\n",
    "   def ajouter_element(liste):\n",
    "       liste.append(4)  # modifie la liste en place\n",
    "\n",
    "   ma_liste = [1, 2, 3]\n",
    "   ajouter_element(ma_liste)\n",
    "   print(ma_liste)  # affiche [1, 2, 3, 4]\n",
    "   ```\n",
    "\n",
    "Cette conception rend Python très flexible et dynamique, mais elle nécessite également une compréhension claire de la manière dont les variables, les objets et les références interagissent pour éviter des erreurs subtiles, en particulier avec les objets mutables."
   ]
  },
  {
   "cell_type": "code",
   "execution_count": null,
   "metadata": {},
   "outputs": [],
   "source": []
  },
  {
   "cell_type": "markdown",
   "metadata": {},
   "source": [
    "## Points clés\n",
    "\n",
    "concepts : \n",
    "- object, type, identité, attribut, methode\n",
    "- variable et assignation\n",
    "\n",
    "Instrusions\n",
    "- assignation, assert, \n",
    "\n",
    "fonctions natives utilisées dans le BE\n",
    "- instanciateur : int(), float(), complex(), bool(), str(), slice()\n",
    "- inspection des object : dir(), id(), getattr()\n",
    "- chaine de caractère : ord(), chr(), repr(), ascii()\n",
    "- containeur : len()\n",
    "- aritmétique : abs(), pow(), round(), max(), min()\n",
    "- print()\n",
    "\n",
    "\n",
    "méthodes\n",
    "- int :\n",
    "- str : format(), strip(), split(), splitlines(), join(), find(), index()"
   ]
  },
  {
   "cell_type": "markdown",
   "metadata": {},
   "source": []
  }
 ],
 "metadata": {
  "kernelspec": {
   "display_name": "Python 3 (ipykernel)",
   "language": "python",
   "name": "python3"
  },
  "language_info": {
   "codemirror_mode": {
    "name": "ipython",
    "version": 3
   },
   "file_extension": ".py",
   "mimetype": "text/x-python",
   "name": "python",
   "nbconvert_exporter": "python",
   "pygments_lexer": "ipython3",
   "version": "3.11.9"
  }
 },
 "nbformat": 4,
 "nbformat_minor": 4
}
